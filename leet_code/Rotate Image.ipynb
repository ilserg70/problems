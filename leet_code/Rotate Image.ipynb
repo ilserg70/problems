{
 "cells": [
  {
   "cell_type": "markdown",
   "metadata": {},
   "source": [
    "#### Rotate Image\n",
    "You are given an n x n 2D matrix representing an image.\n",
    "\n",
    "Rotate the image by 90 degrees (clockwise).\n",
    "\n",
    "Note:\n",
    "\n",
    "You have to rotate the image in-place, which means you have to modify the input 2D matrix directly. DO NOT allocate another 2D matrix and do the rotation.\n",
    "\n",
    "Example 1:\n",
    "\n",
    "Given input matrix = \n",
    "[\n",
    "  [1,2,3],\n",
    "  [4,5,6],\n",
    "  [7,8,9]\n",
    "],\n",
    "\n",
    "rotate the input matrix in-place such that it becomes:\n",
    "[\n",
    "  [7,4,1],\n",
    "  [8,5,2],\n",
    "  [9,6,3]\n",
    "]\n",
    "\n",
    "Example 2:\n",
    "\n",
    "Given input matrix =\n",
    "[\n",
    "  [ 5, 1, 9,11],\n",
    "  [ 2, 4, 8,10],\n",
    "  [13, 3, 6, 7],\n",
    "  [15,14,12,16]\n",
    "], \n",
    "\n",
    "rotate the input matrix in-place such that it becomes:\n",
    "[\n",
    "  [15,13, 2, 5],\n",
    "  [14, 3, 4, 1],\n",
    "  [12, 6, 8, 9],\n",
    "  [16, 7,10,11]\n",
    "]"
   ]
  },
  {
   "cell_type": "code",
   "execution_count": 8,
   "metadata": {},
   "outputs": [],
   "source": [
    "class Solution:\n",
    "    #def rotate(self, matrix: List[List[int]]) -> None:\n",
    "    def rotate(self, matrix):\n",
    "        \"\"\"\n",
    "        Do not return anything, modify matrix in-place instead.\n",
    "        \"\"\"\n",
    "        if not matrix or len(matrix) <= 1:\n",
    "            return\n",
    "        n = len(matrix)\n",
    "        def circle(i, j):\n",
    "            v0 = matrix[i][j]\n",
    "            i1, j1 = i, j \n",
    "            i2, j2 = n-1-j1, i1\n",
    "            while i2 != i or j2 != j:\n",
    "                matrix[i1][j1] = matrix[i2][j2]\n",
    "                i1, j1 = i2, j2\n",
    "                i2, j2 = n-1-j1, i1\n",
    "            matrix[i1][j1] = v0\n",
    "        for i in range(int(n/2)):\n",
    "            for j in range(i, n-1-i):\n",
    "                circle(i, j)"
   ]
  },
  {
   "cell_type": "code",
   "execution_count": 9,
   "metadata": {},
   "outputs": [
    {
     "data": {
      "text/plain": [
       "[[7, 4, 1], [8, 5, 2], [9, 6, 3]]"
      ]
     },
     "execution_count": 9,
     "metadata": {},
     "output_type": "execute_result"
    }
   ],
   "source": [
    "matrix = [ [1,2,3], [4,5,6], [7,8,9] ]\n",
    "Solution().rotate(matrix)\n",
    "matrix"
   ]
  },
  {
   "cell_type": "code",
   "execution_count": 10,
   "metadata": {},
   "outputs": [
    {
     "data": {
      "text/plain": [
       "[[15, 13, 2, 5], [14, 3, 4, 1], [12, 6, 8, 9], [16, 7, 10, 11]]"
      ]
     },
     "execution_count": 10,
     "metadata": {},
     "output_type": "execute_result"
    }
   ],
   "source": [
    "matrix = [ [ 5, 1, 9,11], [ 2, 4, 8,10], [13, 3, 6, 7], [15,14,12,16] ]\n",
    "Solution().rotate(matrix)\n",
    "matrix"
   ]
  },
  {
   "cell_type": "code",
   "execution_count": null,
   "metadata": {},
   "outputs": [],
   "source": []
  }
 ],
 "metadata": {
  "kernelspec": {
   "display_name": "Python 3",
   "language": "python",
   "name": "python3"
  },
  "language_info": {
   "codemirror_mode": {
    "name": "ipython",
    "version": 3
   },
   "file_extension": ".py",
   "mimetype": "text/x-python",
   "name": "python",
   "nbconvert_exporter": "python",
   "pygments_lexer": "ipython3",
   "version": "3.7.3"
  }
 },
 "nbformat": 4,
 "nbformat_minor": 2
}
