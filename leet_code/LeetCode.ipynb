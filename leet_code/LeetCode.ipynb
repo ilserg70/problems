{
 "cells": [
  {
   "cell_type": "markdown",
   "metadata": {},
   "source": [
    "#### Three sum\n",
    "Given a list of number find all unique sums of three numbers which equals to zero,"
   ]
  },
  {
   "cell_type": "code",
   "execution_count": null,
   "metadata": {},
   "outputs": [],
   "source": [
    "# Runtime: 432 ms, faster than 97.72% of Python3 online submissions for 3Sum.\n",
    "# Memory Usage: 17.7 MB, less than 8.99% of Python3 online submissions for 3Sum.\n",
    "def threeSum(nums):\n",
    "    if nums is None or len(nums) == 0:\n",
    "        return []\n",
    "    res = set()        \n",
    "    neg, pos, count_zeros = {}, {}, 0\n",
    "    for v in nums:\n",
    "        if v > 0:\n",
    "            if v in pos:\n",
    "                pos[v] += 1\n",
    "            else:\n",
    "                pos[v] = 1\n",
    "        elif v < 0:\n",
    "            if v in neg:\n",
    "                neg[v] += 1\n",
    "            else:\n",
    "                neg[v] = 1\n",
    "        else:\n",
    "            count_zeros += 1\n",
    "    if count_zeros >= 3:\n",
    "        res.add((0,0,0))\n",
    "    if len(pos) == 0 or len(neg) == 0:\n",
    "        return [[x[0],x[1],x[2]] for x in res]\n",
    "    neg_keys = list(neg.keys())\n",
    "    pos_keys = list(pos.keys())\n",
    "    if count_zeros > 0:\n",
    "        for x in neg_keys:\n",
    "            if -x in pos:\n",
    "                res.add(tuple([x, 0, -x]))\n",
    "        for x in pos_keys:\n",
    "            if -x in neg:\n",
    "                res.add(tuple([-x, 0, x]))\n",
    "    for x, m in neg.items():\n",
    "        if m > 1:\n",
    "            v = -2 * x\n",
    "            if v in pos:\n",
    "                res.add((x,x,v))\n",
    "    for x, m in pos.items():\n",
    "        if m > 1:\n",
    "            v = -2 * x\n",
    "            if v in neg:\n",
    "                res.add((v,x,x))\n",
    "    for i in range(0, len(neg_keys)-1):\n",
    "        for j in range(i+1, len(neg_keys)):\n",
    "            x = neg_keys[i]\n",
    "            y = neg_keys[j]\n",
    "            z = -x-y\n",
    "            if z in pos:\n",
    "                if x < y:\n",
    "                    res.add((x,y,z))\n",
    "                else:\n",
    "                    res.add((y,x,z))\n",
    "    for i in range(0, len(pos_keys)-1):\n",
    "        for j in range(i+1, len(pos_keys)):\n",
    "            x = pos_keys[i]\n",
    "            y = pos_keys[j]\n",
    "            z = -x-y\n",
    "            if z in neg:\n",
    "                if x < y:\n",
    "                    res.add((z,x,y))\n",
    "                else:\n",
    "                    res.add((z,y,x))\n",
    "    return [[x[0],x[1],x[2]] for x in res]"
   ]
  },
  {
   "cell_type": "code",
   "execution_count": null,
   "metadata": {},
   "outputs": [],
   "source": [
    "print(threeSum([1,2,-2,-1]))\n",
    "print(threeSum([-1,0,1,2,-1,-4]))"
   ]
  },
  {
   "cell_type": "markdown",
   "metadata": {},
   "source": [
    "#### 4-Sum\n",
    "Given an array nums of n integers and an integer target, are there elements a, b, c, and d in nums such that a + b + c + d = target? Find all unique quadruplets in the array which gives the sum of target."
   ]
  },
  {
   "cell_type": "code",
   "execution_count": null,
   "metadata": {},
   "outputs": [],
   "source": [
    "def calc_hist(nums):\n",
    "    h = {}\n",
    "    for x in nums:\n",
    "        if x in h:\n",
    "            h[x] +=1\n",
    "        else:\n",
    "            h[x] = 1\n",
    "    return h\n",
    "\n",
    "def calc_pairs(h):\n",
    "    pairs = set()\n",
    "    h_keys = list(h.keys())\n",
    "    for i in range(0,len(h_keys)):\n",
    "        x = h_keys[i]\n",
    "        for j in range(i,len(h_keys)):\n",
    "            y = h_keys[j]\n",
    "            if x == y:\n",
    "                if h[x] >= 2:\n",
    "                    pairs.add((x,x))\n",
    "            else:\n",
    "                pairs.add((x,y) if x < y else (y,x))\n",
    "    return list(pairs)\n",
    "\n",
    "def is_valid_subset(q, h):\n",
    "    hq = calc_hist(q)\n",
    "    for x, m in hq.items():\n",
    "        if m > h[x]:\n",
    "            return False\n",
    "    return True\n",
    "\n",
    "def calc_quadruples(pairs, h, target):\n",
    "    quadr, not_quadr = set(), set()\n",
    "    for i in range(0,len(pairs)):\n",
    "        for j in range(i,len(pairs)):\n",
    "            e = tuple(sorted(pairs[i] + pairs[j]))\n",
    "            if e not in quadr and e not in not_quadr:\n",
    "                if sum(e) != target or not is_valid_subset(e,h):\n",
    "                    not_quadr.add(e)\n",
    "                else:\n",
    "                    quadr.add(e)\n",
    "    return list(quadr)\n",
    "\n",
    "def fourSum(nums, target):\n",
    "    # check\n",
    "    if nums is None or len(nums) < 0:\n",
    "        return []\n",
    "    h = calc_hist(nums)\n",
    "    pairs = calc_pairs(h)\n",
    "    quadr = calc_quadruples(pairs, h, target)\n",
    "    return [list(q) for q in quadr]"
   ]
  },
  {
   "cell_type": "code",
   "execution_count": null,
   "metadata": {},
   "outputs": [],
   "source": [
    "nums = [1,1,1,1,3,2,0,0,0,4]\n",
    "fourSum(nums, 4)"
   ]
  },
  {
   "cell_type": "code",
   "execution_count": null,
   "metadata": {},
   "outputs": [],
   "source": [
    "nums = [1, 0, -1, 0, -2, 2]\n",
    "fourSum(nums, 0)"
   ]
  },
  {
   "cell_type": "code",
   "execution_count": null,
   "metadata": {},
   "outputs": [],
   "source": [
    "import time\n",
    "start = time.time()\n",
    "nums = [1,-1,1,1,-3,2,2,2,0,0,0,4,2,-2,5,7,4,4,4,4]\n",
    "target = 5\n",
    "quadr = fourSum(nums, 5)\n",
    "print(\"elapsed: {}\".format(time.time()-start))\n",
    "quadr"
   ]
  },
  {
   "cell_type": "code",
   "execution_count": null,
   "metadata": {},
   "outputs": [],
   "source": [
    "class Solution:\n",
    "    def fourSum(self, nums, target):\n",
    "        # check\n",
    "        if nums is None or len(nums) == 0:\n",
    "            return []\n",
    "\n",
    "        def find_min_value(nums):\n",
    "            return min(nums)\n",
    "\n",
    "        def build_hist(nums, minVal, newTarget):\n",
    "            hist = {}\n",
    "            for v in nums:\n",
    "                x = v - minVal\n",
    "                if x <= newTarget:\n",
    "                    m = hist.get(x, 0)\n",
    "                    if m == 0:\n",
    "                        hist[x] = 1\n",
    "                    elif m < 4:\n",
    "                        hist[x] += 1\n",
    "            for x in hist.keys():\n",
    "                m = hist[x]\n",
    "                if m > 1 and m * x > newTarget:\n",
    "                    while m * x > newTarget:\n",
    "                        m -= 1\n",
    "                    hist[x] = m\n",
    "            return hist\n",
    "\n",
    "        def insert_binary(x, arr, start=0, end=None):\n",
    "            if end is None:\n",
    "                end = len(arr)\n",
    "            if start==end-1:\n",
    "                if x < arr[start]:\n",
    "                    return arr[:start] + tuple([x]) + arr[start:]\n",
    "                else:\n",
    "                    return arr[:end] + tuple([x]) + arr[end:]\n",
    "            pos = int((start+end)/2)\n",
    "            if x < arr[pos]:\n",
    "                return insert_binary(x, arr, start, pos)\n",
    "            else:\n",
    "                return insert_binary(x, arr, pos, end)\n",
    "        \n",
    "\n",
    "        def find_k_sums_recurs(hist, k, target):\n",
    "            if k == 1:\n",
    "                return set([tuple([target])]) if target in hist else set()\n",
    "            res = set()\n",
    "            hkeys = list(hist.keys())\n",
    "            for x in hkeys:\n",
    "                m = hist[x]\n",
    "                if m > 1:\n",
    "                    hist[x] -= 1\n",
    "                else:\n",
    "                    del hist[x]\n",
    "                #------------------\n",
    "                res_ = find_k_sums_recurs(hist, k - 1, target - x)\n",
    "                for t in res_:\n",
    "                    res.add(insert_binary(x, t))\n",
    "                #------------------\n",
    "                hist[x] = m\n",
    "            return res\n",
    "\n",
    "        minVal = find_min_value(nums)\n",
    "        newTarget = target - 4 * minVal\n",
    "        if newTarget < 0:\n",
    "            return []\n",
    "    \n",
    "        hist = build_hist(nums, minVal, newTarget)\n",
    "        if not hist:\n",
    "            return []\n",
    "    \n",
    "        quadr = find_k_sums_recurs(hist, 4, newTarget)\n",
    "        return [[q[0]+minVal, q[1]+minVal, q[2]+minVal, q[3]+minVal] for q in quadr]"
   ]
  },
  {
   "cell_type": "code",
   "execution_count": null,
   "metadata": {},
   "outputs": [],
   "source": [
    "nums = [1,0,-1,0,-2,2]\n",
    "target = 0\n",
    "import time\n",
    "start = time.time()\n",
    "res = Solution().fourSum(nums, target)\n",
    "print(\"elapsed: {}\".format(time.time()-start))\n",
    "res"
   ]
  },
  {
   "cell_type": "markdown",
   "metadata": {},
   "source": [
    "#### Reverse Integer\n",
    "Note: Assume we are dealing with an environment which could only store integers within the 32-bit signed integer range: [−2^31,  2^31 − 1]. For the purpose of this problem, assume that your function returns 0 when the reversed integer overflows.\n",
    "- 123 => 321\n",
    "- -123 => -321\n",
    "- 120 => 21"
   ]
  },
  {
   "cell_type": "code",
   "execution_count": null,
   "metadata": {},
   "outputs": [],
   "source": [
    "class Solution:\n",
    "    def reverse(self, x):\n",
    "        def rev(x):\n",
    "            if x < 0:\n",
    "                return int('-'+str(-x)[::-1])\n",
    "            else:\n",
    "                return int(str(x)[::-1])\n",
    "        y = rev(x)\n",
    "        return y if y >= -2147483648 and y <= 2147483647 else 0"
   ]
  },
  {
   "cell_type": "code",
   "execution_count": null,
   "metadata": {},
   "outputs": [],
   "source": [
    "Solution().reverse(-345671)"
   ]
  },
  {
   "cell_type": "code",
   "execution_count": null,
   "metadata": {},
   "outputs": [],
   "source": [
    "def bits(x, n_bits=8):\n",
    "    print('{:0{width}b}'.format(x, width=n_bits))\n",
    "def reverse_bites(x, n_bits=8):\n",
    "    mask1, mask2 = 1, 1 << (n_bits - 1)\n",
    "    for i in range(int(n_bits/2)):\n",
    "        a, b = x & mask1, x & mask2\n",
    "        if a == 0 and b != 0 or a != 0 and b == 0:\n",
    "            x = x ^ (mask1 | mask2)\n",
    "        mask1 <<= 1\n",
    "        mask2 >>= 1\n",
    "    return x\n",
    "def reverse_bites2(x, n_bits):\n",
    "    b = '{:0{width}b}'.format(x, width=n_bits)\n",
    "    return int(b[::-1], 2)"
   ]
  },
  {
   "cell_type": "markdown",
   "metadata": {},
   "source": [
    "#### Number of 1 Bits\n",
    "Hamming weight"
   ]
  },
  {
   "cell_type": "code",
   "execution_count": null,
   "metadata": {},
   "outputs": [],
   "source": [
    "def hammingWeight(n):\n",
    "    k = 0\n",
    "    while n != 0:\n",
    "        k += 1\n",
    "        n = (n-1) & n\n",
    "    return k"
   ]
  },
  {
   "cell_type": "code",
   "execution_count": null,
   "metadata": {},
   "outputs": [],
   "source": [
    "n = 1526\n",
    "bits(n)\n",
    "hammingWeight(n)"
   ]
  },
  {
   "cell_type": "markdown",
   "metadata": {},
   "source": [
    "#### Regular Expression Matching\n",
    "Given an input string (s) and a pattern (p), implement regular expression matching with support for '.' and '*'."
   ]
  },
  {
   "cell_type": "code",
   "execution_count": null,
   "metadata": {},
   "outputs": [],
   "source": [
    "class RegularExpression():\n",
    "    def isMatch(self, s, p):\n",
    "        def compile_pattern(p):\n",
    "            if not p:\n",
    "                return None\n",
    "            cmp = []\n",
    "            for i in range(len(p)):\n",
    "                c = p[i]\n",
    "                if c == '*':\n",
    "                    if i==0 or p[i-1]=='*': # if p starts with * or contains **\n",
    "                        return None\n",
    "                    if len(cmp) > 1 and cmp[-2] == ('.', True):\n",
    "                        cmp.pop()\n",
    "                    else:\n",
    "                        cmp[-1] = (cmp[-1][0], True)\n",
    "                elif not (len(cmp) > 0 and cmp[-1][0] == c and cmp[-1][1]):\n",
    "                    cmp.append((c,False))\n",
    "            return cmp\n",
    "    \n",
    "        cmp = compile_pattern(p)\n",
    "        print(cmp)\n",
    "        \n",
    "        def remove_ambiguity(cmp):\n",
    "            cmp2, tmp = [], {}\n",
    "            for i in range(len(cmp)):\n",
    "                e = cmp[i]\n",
    "                if e[1]:\n",
    "                    tmp[e[0]] = i\n",
    "                else:\n",
    "                    if e[0] in tmp:\n",
    "                        i1 = tmp[e[0]]\n",
    "                        cmp2 = cmp[:i1+1]\n",
    "                        \n",
    "                        break\n",
    "                    tmp = {}\n",
    "            return cmp2\n",
    "    \n",
    "        if not cmp:\n",
    "            return False\n",
    "        \n",
    "        def apply_regex(s, cmp, j=0, i=0):\n",
    "            while j < len(s):\n",
    "                c = s[j]\n",
    "                if i >= len(cmp):\n",
    "                    return False\n",
    "                e = cmp[i]\n",
    "                if e[1]:\n",
    "                    if e[0] == '.':\n",
    "                        if j+1 < len(s) and i+1 < len(cmp) and cmp[i+1][0] == s[j+1]:\n",
    "                            i += 1\n",
    "                        j += 1\n",
    "                    elif e[0] == c:\n",
    "                        if j+1 < len(s) and s[j+1] != e[0]:\n",
    "                            i += 1\n",
    "                        j += 1\n",
    "                    else:\n",
    "                        i += 1\n",
    "                elif e[0] == c or e[0] == '.':\n",
    "                    i += 1\n",
    "                    j += 1\n",
    "                else:\n",
    "                    return False\n",
    "            for e in cmp[i:]:\n",
    "                if not e[1]:\n",
    "                    return False\n",
    "            return True\n",
    "\n",
    "        return apply_regex(s, cmp)"
   ]
  },
  {
   "cell_type": "code",
   "execution_count": null,
   "metadata": {},
   "outputs": [],
   "source": [
    "RegularExpression().isMatch(\"aaa\", \"ab*a*c*a\")"
   ]
  },
  {
   "cell_type": "code",
   "execution_count": null,
   "metadata": {},
   "outputs": [],
   "source": [
    "compile_pattern(\".*.*.*\")"
   ]
  },
  {
   "cell_type": "code",
   "execution_count": null,
   "metadata": {},
   "outputs": [],
   "source": [
    "compile_pattern(\"..*\")"
   ]
  },
  {
   "cell_type": "code",
   "execution_count": null,
   "metadata": {},
   "outputs": [],
   "source": [
    "isMatch(\"abbbbbbc\", \".*.*.*\")"
   ]
  },
  {
   "cell_type": "code",
   "execution_count": null,
   "metadata": {},
   "outputs": [],
   "source": [
    "def compile_pattern(p):\n",
    "    if not p:\n",
    "        return None\n",
    "    cmp = []\n",
    "    for i in range(len(p)):\n",
    "        c = p[i]\n",
    "        if c == '*':\n",
    "            if i==0 or p[i-1]=='*': # if p starts with * or contains **\n",
    "                return None\n",
    "            if len(cmp) > 1 and cmp[-2] == ('.', True):\n",
    "                cmp.pop()\n",
    "            else:\n",
    "                cmp[-1] = (cmp[-1][0], True)\n",
    "        elif not (len(cmp) > 0 and cmp[-1][0] == c and cmp[-1][1]):\n",
    "            cmp.append((c,False))\n",
    "    return cmp"
   ]
  },
  {
   "cell_type": "code",
   "execution_count": null,
   "metadata": {},
   "outputs": [],
   "source": [
    "print(compile_pattern(\"ab*a*c*a\"))"
   ]
  },
  {
   "cell_type": "code",
   "execution_count": null,
   "metadata": {},
   "outputs": [],
   "source": []
  },
  {
   "cell_type": "code",
   "execution_count": null,
   "metadata": {},
   "outputs": [],
   "source": [
    "import pickle\n",
    "\n",
    "pickle.dump( d1, open( \"pkl-file\", \"wb\" ) )\n",
    "d2 = pickle.load( open( \"pkl-file\", \"rb\" ) )\n",
    "d2"
   ]
  },
  {
   "cell_type": "code",
   "execution_count": null,
   "metadata": {},
   "outputs": [],
   "source": [
    "import json\n",
    "d1 = { \"a\": {1: 100, 2: 200}, \"b\": [10, 2], \"c\": {} }\n",
    "json = json.dumps(d1)\n",
    "f = open(\"pkl-file.json\",\"w\")\n",
    "f.write(json)\n",
    "f.close()"
   ]
  },
  {
   "cell_type": "code",
   "execution_count": null,
   "metadata": {},
   "outputs": [],
   "source": [
    "f = open(\"pkl-file.json\",\"w\")\n",
    "f.write(json)\n",
    "f.close()"
   ]
  },
  {
   "cell_type": "code",
   "execution_count": null,
   "metadata": {},
   "outputs": [],
   "source": [
    "import json\n",
    "def write_to_file(data, filename):\n",
    "    with open(filename, 'w') as f:  \n",
    "        json.dump(data, f)\n",
    "def read_from_file(filename):\n",
    "    with open(filename) as f:  \n",
    "        return json.load(f)"
   ]
  },
  {
   "cell_type": "code",
   "execution_count": null,
   "metadata": {},
   "outputs": [],
   "source": [
    "d2 = read_from_file(\"pkl-file.json\")\n",
    "d2"
   ]
  },
  {
   "cell_type": "code",
   "execution_count": null,
   "metadata": {},
   "outputs": [],
   "source": [
    "d1 = { \"a\": {1: 100, 2: 200}, \"b\": [10, 2], \"c\": {} }\n",
    "write_to_file(d1, \"pkl-file.model\")\n",
    "read_from_file(\"pkl-file.model\")"
   ]
  },
  {
   "cell_type": "markdown",
   "metadata": {},
   "source": [
    "#### Valid Parentheses\n",
    "Given a string containing just the characters '(', ')', '{', '}', '[' and ']', determine if the input string is valid."
   ]
  },
  {
   "cell_type": "code",
   "execution_count": null,
   "metadata": {},
   "outputs": [],
   "source": [
    "def isValidParentheses(s):\n",
    "    if not s:\n",
    "        return True\n",
    "    t = []\n",
    "    for c in s:\n",
    "        if c in ['(','[','{']:\n",
    "            t.append(c)\n",
    "        elif not t:\n",
    "            return False\n",
    "        else:\n",
    "            c0 = t.pop()\n",
    "            if c == ')' and c0 != '(' or c == ']' and c0 != '[' or c == '}' and c0 != '{':\n",
    "                return False\n",
    "    return not t"
   ]
  },
  {
   "cell_type": "code",
   "execution_count": null,
   "metadata": {},
   "outputs": [],
   "source": [
    "print(isValidParentheses(\"[])\"))"
   ]
  },
  {
   "cell_type": "markdown",
   "metadata": {},
   "source": [
    "#### Merge Two Sorted Lists\n",
    "Merge two sorted linked lists and return it as a new list. The new list should be made by splicing together the nodes of the first two lists.\n",
    "Input: 1->2->4, 1->3->4\n",
    "Output: 1->1->2->3->4->4"
   ]
  },
  {
   "cell_type": "code",
   "execution_count": null,
   "metadata": {},
   "outputs": [],
   "source": [
    "def mergeTwoSortedArrays(nums1, m, nums2, n):\n",
    "    l, i, j = [], 0, 0\n",
    "    while i < m or j < n:\n",
    "        if j >= n or i < m and nums1[i] < nums2[j]:\n",
    "            l.append(nums1[i])\n",
    "            i += 1\n",
    "        elif i >= m or j < n and nums1[i] >= nums2[j]:\n",
    "            l.append(nums2[j])\n",
    "            j += 1\n",
    "    return l"
   ]
  },
  {
   "cell_type": "code",
   "execution_count": null,
   "metadata": {},
   "outputs": [],
   "source": [
    "print(mergeTwoSortedArrays([1,2,3,0,0,0],3,[2,5,6],3))"
   ]
  },
  {
   "cell_type": "code",
   "execution_count": null,
   "metadata": {},
   "outputs": [],
   "source": []
  },
  {
   "cell_type": "code",
   "execution_count": null,
   "metadata": {},
   "outputs": [],
   "source": [
    "class ListNode(object):\n",
    "    def __init__(self, x):\n",
    "        self.val = x\n",
    "        self.next = None\n",
    "def mergeTwoSortedLists(l1, l2):\n",
    "    bl, l = None, None\n",
    "    while l1 != None or l2 != None:\n",
    "        x = l1.val if l1 != None else None\n",
    "        y = l2.val if l2 != None else None\n",
    "        if y == None or x != None and x < y:\n",
    "            if l == None:\n",
    "                l = ListNode(x)\n",
    "                bl = l\n",
    "            else:\n",
    "                l.next = ListNode(x)\n",
    "                l = l.next\n",
    "            l1 = l1.next\n",
    "        elif x == None or y != None and x >= y:\n",
    "            if l == None:\n",
    "                l = ListNode(y)\n",
    "                bl = l\n",
    "            else:\n",
    "                l.next = ListNode(y)\n",
    "                l = l.next\n",
    "            l2 = l2.next\n",
    "    return bl\n",
    "def printList(l):\n",
    "    while l != None:\n",
    "        print(l.val)\n",
    "        l = l.next"
   ]
  },
  {
   "cell_type": "code",
   "execution_count": null,
   "metadata": {},
   "outputs": [],
   "source": [
    "l1 = ListNode(1)\n",
    "l1.next = ListNode(2)\n",
    "l1.next.next = ListNode(4)\n",
    "#printList(l1)\n",
    "l2 = ListNode(1)\n",
    "l2.next = ListNode(3)\n",
    "l2.next.next = ListNode(4)\n",
    "#printList(l2)\n",
    "l = mergeTwoSortedLists(l1, l2)\n",
    "printList(l)"
   ]
  },
  {
   "cell_type": "code",
   "execution_count": null,
   "metadata": {},
   "outputs": [],
   "source": [
    "l1 = None\n",
    "l2 = ListNode(0)\n",
    "l = mergeTwoSortedLists(l1, l2)\n",
    "printList(l)"
   ]
  },
  {
   "cell_type": "markdown",
   "metadata": {},
   "source": [
    "#### Remove Duplicates from Sorted Array"
   ]
  },
  {
   "cell_type": "code",
   "execution_count": null,
   "metadata": {},
   "outputs": [],
   "source": [
    "def removeDuplicates(nums):\n",
    "    if not nums or len(nums)==1:\n",
    "        return nums\n",
    "    i, j = 0, 1\n",
    "    while j < len(nums):\n",
    "        if nums[j] == nums[i]:\n",
    "            j += 1\n",
    "        elif j-i==1:\n",
    "            i += 1\n",
    "            j += 1\n",
    "        else:\n",
    "            nums[i+1] = nums[j]\n",
    "            i += 1\n",
    "            j += 1\n",
    "    while len(nums) > i+1:\n",
    "        nums.pop()\n",
    "    return i+1"
   ]
  },
  {
   "cell_type": "code",
   "execution_count": null,
   "metadata": {},
   "outputs": [],
   "source": [
    "nums = [1,1,1,1,2,2,3,3,4,5,5,5,5]\n",
    "print(removeDuplicates(nums))\n",
    "nums"
   ]
  },
  {
   "cell_type": "code",
   "execution_count": null,
   "metadata": {},
   "outputs": [],
   "source": [
    "removeDuplicates([1,10])"
   ]
  },
  {
   "cell_type": "code",
   "execution_count": null,
   "metadata": {},
   "outputs": [],
   "source": [
    "def removeDuplicates(nums):\n",
    "    if not nums or len(nums)==1:\n",
    "        return nums\n",
    "    res = []\n",
    "    for x in nums:\n",
    "        if not res or res[-1] < x:\n",
    "            res.append(x)\n",
    "    return res"
   ]
  },
  {
   "cell_type": "markdown",
   "metadata": {},
   "source": [
    "#### Top K Frequent Elements\n",
    "Given a non-empty array of integers, return the k most frequent elements."
   ]
  },
  {
   "cell_type": "code",
   "execution_count": 117,
   "metadata": {},
   "outputs": [],
   "source": [
    "class Solution(object):\n",
    "    def topKFrequent(self, nums, k):\n",
    "        if not nums or k <= 0:\n",
    "            return []\n",
    "        elif len(nums) <= k:\n",
    "            return nums\n",
    "        h = {}\n",
    "        for x in nums:\n",
    "            if x in h:\n",
    "                h[x] += 1\n",
    "            else:\n",
    "                h[x] = 1\n",
    "        arr = list(h.items())\n",
    "        if len(arr) <= k:\n",
    "            return [p[0] for p in arr]\n",
    "#         print(h)\n",
    "        \n",
    "        def take_m_max(arr, v, start, end):\n",
    "            def swap(arr, i, j):\n",
    "                t = arr[i]\n",
    "                arr[i] = arr[j]\n",
    "                arr[j] = t\n",
    "            i, j , k = start, end, -1\n",
    "            while i < j:\n",
    "                while i <= end and arr[i][1] >= v[1]:\n",
    "                    if arr[i][1] == v[1]:\n",
    "                        if k < 0:\n",
    "                            k = i\n",
    "                    elif k >= 0:\n",
    "                        swap(arr, k, i)\n",
    "                        k += 1\n",
    "                    i += 1\n",
    "                while arr[j][1] < v[1]:\n",
    "                    j -= 1\n",
    "                if i < j:\n",
    "                    swap(arr, i, j)\n",
    "            return (k, i)#(arr[:k], arr[k:i])\n",
    "        \n",
    "        s, e = 0, len(arr)-1\n",
    "        while True:\n",
    "            v = arr[k-1]\n",
    "            k_, i_ = take_m_max(arr, v, s, e)\n",
    "            if k <= k_:\n",
    "                e = k_\n",
    "            elif k > i_:\n",
    "                s = i_\n",
    "            else:\n",
    "                break\n",
    "        \n",
    "        def fast_sort(arr, s, e):\n",
    "            if not arr or len(arr) == 1 or s >= e or s < 0 or e >= len(arr):\n",
    "                return\n",
    "            v = arr[int((s+e)/2)]\n",
    "            k, i = take_m_max(arr, v, s, e)\n",
    "            fast_sort(arr, s, k-1)\n",
    "            fast_sort(arr, i, e)        \n",
    "        \n",
    "        fast_sort(arr, 0, k-1)\n",
    "#         print(arr[:k])\n",
    "        return [p[0] for p in arr[:k]]"
   ]
  },
  {
   "cell_type": "code",
   "execution_count": 123,
   "metadata": {},
   "outputs": [
    {
     "name": "stdout",
     "output_type": "stream",
     "text": [
      "{1: 4, 2: 2, 3: 5, 5: 2, 8: 1, 0: 14}\n",
      "[(0, 14), (3, 5), (1, 4)]\n"
     ]
    },
    {
     "data": {
      "text/plain": [
       "[0, 3, 1]"
      ]
     },
     "execution_count": 123,
     "metadata": {},
     "output_type": "execute_result"
    }
   ],
   "source": [
    "nums = [1,1,1,1,2,2,3,3,3,3,3,5,5,8,0,0,0,0,0,0,0,0,0,0,0,0,0,0]\n",
    "Solution().topKFrequent(nums, 3)"
   ]
  },
  {
   "cell_type": "code",
   "execution_count": 63,
   "metadata": {},
   "outputs": [],
   "source": [
    "def split(arr, v):\n",
    "    def swap(arr, i, j):\n",
    "        t = arr[i]\n",
    "        arr[i] = arr[j]\n",
    "        arr[j] = t\n",
    "    i, j , k = 0, len(arr)-1, -1\n",
    "    while i < j:\n",
    "        while i < len(arr) and arr[i] >= v:\n",
    "            if arr[i] == v:\n",
    "                if k < 0:\n",
    "                    k = i\n",
    "            elif k >= 0:\n",
    "                swap(arr, k, i)\n",
    "                k += 1\n",
    "            i += 1\n",
    "        while arr[j] < v:\n",
    "            j -= 1\n",
    "        if i < j:\n",
    "            swap(arr, i, j)\n",
    "    return (arr[:k], arr[k:i]) if k >= 0 else (arr[:i],[])"
   ]
  },
  {
   "cell_type": "code",
   "execution_count": 67,
   "metadata": {},
   "outputs": [
    {
     "name": "stdout",
     "output_type": "stream",
     "text": [
      "([7, 6, 8, 10], [3, 3, 3])\n"
     ]
    },
    {
     "data": {
      "text/plain": [
       "[-2, 0, 0, 1, 1, 2, 3, 3, 3, 6, 7, 8, 10]"
      ]
     },
     "execution_count": 67,
     "metadata": {},
     "output_type": "execute_result"
    }
   ],
   "source": [
    "arr = [7,0,3,6,3,1,10,2,8,-2,0,1,3]\n",
    "print(split(arr, 3))\n",
    "fast_sort(arr,0,len(arr)-1)\n",
    "arr"
   ]
  },
  {
   "cell_type": "code",
   "execution_count": 47,
   "metadata": {},
   "outputs": [],
   "source": [
    "def fast_sort(arr, start, end):\n",
    "    \"\"\"\n",
    "    v = arr[(start+end)/2]\n",
    "    arr[start:k]<v | arr[k:i]==v | arr[i:j+1]??v | arr[j+1:end]>v\n",
    "    [X0, X1, X2, ...|Xk, Xk+1, ...|Xi, ... , Xj,|Xj+1, ....Xn-1]\n",
    "    |       <v)     |      ==v    |      ?v     |      >v      |\n",
    "    \"\"\"\n",
    "    if not arr or len(arr) == 1 or start >= end or start < 0 or end >= len(arr):\n",
    "        return\n",
    "    def swap(arr, i, j):\n",
    "        t = arr[i]\n",
    "        arr[i] = arr[j]\n",
    "        arr[j] = t\n",
    "    i, j, k = start, end, -1\n",
    "    v = arr[int((i+j)/2)]\n",
    "    while i < j:\n",
    "        while i <= end and arr[i] <= v:\n",
    "            if arr[i] == v:\n",
    "                if k < 0:\n",
    "                    k = i\n",
    "            elif k >= 0:\n",
    "                swap(arr, k, i)\n",
    "                k += 1\n",
    "            i += 1\n",
    "        while arr[j] > v:\n",
    "            j -= 1\n",
    "        if i < j:\n",
    "            swap(arr, i, j)\n",
    "    fast_sort(arr, start, k-1)\n",
    "    fast_sort(arr, i, end) "
   ]
  },
  {
   "cell_type": "code",
   "execution_count": 48,
   "metadata": {},
   "outputs": [
    {
     "data": {
      "text/plain": [
       "[1, 2, 3, 4, 5, 6, 7, 8, 9, 10]"
      ]
     },
     "execution_count": 48,
     "metadata": {},
     "output_type": "execute_result"
    }
   ],
   "source": [
    "arr = [10,9,8,7,6,5,4,3,2,1]\n",
    "#arr = [10, 5, 5, 0, -2, 5, 1, 3, 5, 5, 12, 8]\n",
    "fast_sort(arr, 0, len(arr)-1)\n",
    "arr"
   ]
  },
  {
   "cell_type": "markdown",
   "metadata": {},
   "source": [
    "#### Heap"
   ]
  },
  {
   "cell_type": "code",
   "execution_count": 172,
   "metadata": {},
   "outputs": [],
   "source": [
    "class Heap(object):\n",
    "\n",
    "    def __init__(self, val, parent=None):\n",
    "        self.val = val\n",
    "        self.parent = parent\n",
    "        self.left = None\n",
    "        self.right = None\n",
    "\n",
    "    def __str__(self):\n",
    "        return str(self.val)\n",
    "\n",
    "    def print_dfs(self, prefix='root: ', level=0):\n",
    "        print(\"{}{}{}\".format(' '*level, prefix, self))\n",
    "        if self.left is not None:\n",
    "            self.left.print_dfs('left: ', level+1)\n",
    "        if self.right is not None:\n",
    "            self.right.print_dfs('right: ', level+1)\n",
    "            \n",
    "    def find_vacant_bfs(self):\n",
    "        q = [self]\n",
    "        while q:\n",
    "            curr = q.pop(0)\n",
    "            if curr.left is None or curr.right is None:\n",
    "                return curr\n",
    "            if curr.left is not None:\n",
    "                q.append(curr.left)\n",
    "            if curr.right is not None:\n",
    "                q.append(curr.right)\n",
    "\n",
    "    def brother(self):\n",
    "        p = self.parent\n",
    "        if p is not None:\n",
    "            return p.right if p.left == self else p.left\n",
    "        return None\n",
    "\n",
    "    def go_up(self):\n",
    "        if self.parent is not None:\n",
    "            if self.parent.val < self.val:\n",
    "                t = self.parent.val\n",
    "                self.parent.val = self.val\n",
    "                self.val = t\n",
    "                uncle = self.parent.brother()\n",
    "                if uncle is not None and uncle.val < self.val:\n",
    "                    t = uncle.val\n",
    "                    uncle.val = self.val\n",
    "                    self.val = t\n",
    "                self.parent.go_up()\n",
    "\n",
    "    def add(self, val):\n",
    "        last = self.find_vacant_bfs()\n",
    "        if last.left is None:\n",
    "            last.left = Heap(val, last)\n",
    "            last.left.go_up()\n",
    "        elif last.right is None:\n",
    "            last.right = Heap(val, last)\n",
    "            last.right.go_up()\n",
    "\n",
    "    def get_k_max(self, k):\n",
    "        res = []\n",
    "        q = [self]\n",
    "        while len(res) < k:\n",
    "            cur = q.pop(0)\n",
    "            res.append(cur.val)\n",
    "            if cur.left is not None:\n",
    "                q.append(cur.left)\n",
    "            if cur.right is not None:\n",
    "                q.append(cur.right)\n",
    "        return res"
   ]
  },
  {
   "cell_type": "code",
   "execution_count": 173,
   "metadata": {},
   "outputs": [
    {
     "name": "stdout",
     "output_type": "stream",
     "text": [
      "root: 14\n",
      " left: 12\n",
      "  left: 7\n",
      "   left: 1\n",
      "   right: 2\n",
      "  right: 8\n",
      "   left: 5\n",
      "   right: 6\n",
      " right: 13\n",
      "  left: 10\n",
      "   left: 3\n",
      "   right: 4\n",
      "  right: 11\n",
      "   left: 9\n"
     ]
    }
   ],
   "source": [
    "h = Heap(1)\n",
    "for n in range(2,15):\n",
    "    h.add(n)\n",
    "h.print_dfs()"
   ]
  },
  {
   "cell_type": "code",
   "execution_count": 178,
   "metadata": {},
   "outputs": [
    {
     "data": {
      "text/plain": [
       "[14, 12, 13, 7]"
      ]
     },
     "execution_count": 178,
     "metadata": {},
     "output_type": "execute_result"
    }
   ],
   "source": [
    "h.get_k_max(4)"
   ]
  },
  {
   "cell_type": "markdown",
   "metadata": {},
   "source": [
    "#### Serialize and Deserialize BST"
   ]
  },
  {
   "cell_type": "code",
   "execution_count": 244,
   "metadata": {},
   "outputs": [],
   "source": [
    "#Definition for a binary tree node.\n",
    "class TreeNode(object):\n",
    "    def __init__(self, x):\n",
    "        self.val = x\n",
    "        self.left = None\n",
    "        self.right = None\n",
    "\n",
    "class Codec:\n",
    "\n",
    "    def serialize(self, root):\n",
    "        \"\"\"Encodes a tree to a single string.\n",
    "        \n",
    "        :type root: TreeNode\n",
    "        :rtype: str\n",
    "        \"\"\"\n",
    "        if not root:\n",
    "            return \"\"\n",
    "        def dfs(node, sb):\n",
    "            sb.append(str(node.val))\n",
    "            if node.left:\n",
    "                sb.append(',')\n",
    "                dfs(node.left,sb)\n",
    "            if node.right:\n",
    "                if not node.left:\n",
    "                    sb.append(':')\n",
    "                dfs(node.right,sb)\n",
    "            else:\n",
    "                sb.append(';')\n",
    "\n",
    "        sb = []\n",
    "        dfs(root, sb)\n",
    "        return \"\".join(sb[:-1])\n",
    "\n",
    "    def deserialize(self, data):\n",
    "        \"\"\"Decodes your encoded data to tree.\n",
    "        \n",
    "        :type data: str\n",
    "        :rtype: TreeNode\n",
    "        \"\"\"\n",
    "        if not data:\n",
    "            return None\n",
    "\n",
    "        idx = {s: None for s in [',',':',';']}\n",
    "        \n",
    "        def next_idx(offset):\n",
    "            min_i = -1\n",
    "            for s in idx.keys():\n",
    "                i = idx[s]\n",
    "                if i is None or (i>=0 and i < offset):\n",
    "                    i = idx[s] = data.find(s, offset)\n",
    "                if i >= 0 and (min_i < 0 or i < min_i):\n",
    "                    min_i = i \n",
    "            return min_i        \n",
    "                \n",
    "        i = next_idx(0)\n",
    "        if i < 0:\n",
    "            return TreeNode(int(data))\n",
    "        \n",
    "        root = TreeNode(int(data[:i]))\n",
    "        \n",
    "        def dfs(offset, parent):\n",
    "            if offset < 0:\n",
    "                return\n",
    "            if data[offset] == ',':\n",
    "                pass\n",
    "            \n",
    "        \n",
    "        \n",
    "        \n",
    "        return root\n",
    "\n",
    "# Your Codec object will be instantiated and called as such:\n",
    "# codec = Codec()\n",
    "# codec.deserialize(codec.serialize(root))"
   ]
  },
  {
   "cell_type": "code",
   "execution_count": 245,
   "metadata": {},
   "outputs": [
    {
     "data": {
      "text/plain": [
       "'10,5,3;7,6;8:9;15'"
      ]
     },
     "execution_count": 245,
     "metadata": {},
     "output_type": "execute_result"
    }
   ],
   "source": [
    "t = TreeNode(10)\n",
    "t.left = TreeNode(5)\n",
    "t.left.left = TreeNode(3)\n",
    "t.left.right = TreeNode(7)\n",
    "t.left.right.left = TreeNode(6)\n",
    "t.left.right.right = TreeNode(8)\n",
    "t.left.right.right.right = TreeNode(9)\n",
    "t.right = TreeNode(15)\n",
    "Codec().serialize(t) # '10,5,3;7,6;8:9;15'"
   ]
  },
  {
   "cell_type": "code",
   "execution_count": 246,
   "metadata": {},
   "outputs": [
    {
     "data": {
      "text/plain": [
       "'10,5,3;;15:20'"
      ]
     },
     "execution_count": 246,
     "metadata": {},
     "output_type": "execute_result"
    }
   ],
   "source": [
    "t = TreeNode(10)\n",
    "t.left = TreeNode(5)\n",
    "t.left.left = TreeNode(3)\n",
    "t.right = TreeNode(15)\n",
    "t.right.right = TreeNode(20)\n",
    "Codec().serialize(t) # '10,5,3;;15:20'"
   ]
  },
  {
   "cell_type": "code",
   "execution_count": 247,
   "metadata": {},
   "outputs": [
    {
     "data": {
      "text/plain": [
       "'20:30:40,38,37,35;;;45,41;48'"
      ]
     },
     "execution_count": 247,
     "metadata": {},
     "output_type": "execute_result"
    }
   ],
   "source": [
    "t = TreeNode(20)\n",
    "t.right = TreeNode(30)\n",
    "t.right.right = TreeNode(40)\n",
    "t.right.right.left = TreeNode(38)\n",
    "t.right.right.left.left = TreeNode(37)\n",
    "t.right.right.left.left.left = TreeNode(35)\n",
    "t.right.right.right = TreeNode(45)\n",
    "t.right.right.right.left = TreeNode(41)\n",
    "t.right.right.right.right = TreeNode(48)\n",
    "Codec().serialize(t) # '20:30:40,38,37,35;;;45,41;48'"
   ]
  },
  {
   "cell_type": "code",
   "execution_count": 253,
   "metadata": {},
   "outputs": [
    {
     "data": {
      "text/plain": [
       "8"
      ]
     },
     "execution_count": 253,
     "metadata": {},
     "output_type": "execute_result"
    }
   ],
   "source": [
    "a = '20:30:40,38,37,35;;;45,41;48'\n",
    "a.find(',',0)"
   ]
  },
  {
   "cell_type": "code",
   "execution_count": 264,
   "metadata": {},
   "outputs": [
    {
     "data": {
      "text/plain": [
       "{',': 8, ':': 2, ';': 17}"
      ]
     },
     "execution_count": 264,
     "metadata": {},
     "output_type": "execute_result"
    }
   ],
   "source": [
    "data = '20:30:40,38,37,35;;;45,41;48'\n",
    "symbols = [',',':',';']\n",
    "pos = 0\n",
    "{s: data.find(s,pos) for s in symbols}"
   ]
  },
  {
   "cell_type": "code",
   "execution_count": 276,
   "metadata": {},
   "outputs": [],
   "source": [
    "def next_idx(data, offset, idx):\n",
    "    min_i = -1\n",
    "    for s in idx.keys():\n",
    "        i = idx[s]\n",
    "        if i is None or (i>=0 and i < offset):\n",
    "            i = idx[s] = data.find(s, offset)\n",
    "        if i >= 0 and (min_i < 0 or i < min_i):\n",
    "            min_i = i \n",
    "    return min_i"
   ]
  },
  {
   "cell_type": "code",
   "execution_count": 279,
   "metadata": {},
   "outputs": [
    {
     "name": "stdout",
     "output_type": "stream",
     "text": [
      ": -> 2\n",
      ": -> 5\n",
      ", -> 8\n",
      ", -> 11\n",
      ", -> 14\n",
      "; -> 17\n",
      "; -> 18\n",
      "; -> 19\n",
      ", -> 22\n",
      "; -> 25\n"
     ]
    }
   ],
   "source": [
    "data = '20:30:40,38,37,35;;;45,41;48'\n",
    "idx={s: None for s in [',',':',';']}\n",
    "i = next_idx(data, 0, idx)\n",
    "while i >= 0:\n",
    "    print(\"{} -> {}\".format(data[i],i))\n",
    "    i = next_idx(data, i+1, idx)"
   ]
  },
  {
   "cell_type": "code",
   "execution_count": null,
   "metadata": {},
   "outputs": [],
   "source": []
  }
 ],
 "metadata": {
  "kernelspec": {
   "display_name": "Python 3",
   "language": "python",
   "name": "python3"
  },
  "language_info": {
   "codemirror_mode": {
    "name": "ipython",
    "version": 3
   },
   "file_extension": ".py",
   "mimetype": "text/x-python",
   "name": "python",
   "nbconvert_exporter": "python",
   "pygments_lexer": "ipython3",
   "version": "3.7.3"
  }
 },
 "nbformat": 4,
 "nbformat_minor": 2
}
