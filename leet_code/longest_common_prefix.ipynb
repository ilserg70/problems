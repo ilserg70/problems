{
 "cells": [
  {
   "cell_type": "markdown",
   "metadata": {},
   "source": [
    "#### longest-common-prefix\n",
    "https://leetcode.com/problems/longest-common-prefix/submissions/"
   ]
  },
  {
   "cell_type": "code",
   "execution_count": 12,
   "metadata": {},
   "outputs": [],
   "source": [
    "class Solution:\n",
    "    def longestCommonPrefix(self, strs):\n",
    "        if not strs:\n",
    "            return \"\"\n",
    "        def get_pref(s1,s2):\n",
    "            if not s1 or not s2:\n",
    "                return \"\"\n",
    "            n1,n2 = len(s1),len(s2)\n",
    "            n = n1 if n1 < n2 else n2\n",
    "            j = 0\n",
    "            while j < n and s1[j] == s2[j]:\n",
    "                j += 1\n",
    "            return s1[:j]\n",
    "        ww = set(strs)\n",
    "        pref = ww.pop()\n",
    "        while ww:\n",
    "            pref = get_pref(pref, ww.pop())\n",
    "            if not pref:\n",
    "                return \"\"\n",
    "        return pref"
   ]
  },
  {
   "cell_type": "code",
   "execution_count": null,
   "metadata": {},
   "outputs": [],
   "source": []
  }
 ],
 "metadata": {
  "kernelspec": {
   "display_name": "Python 3",
   "language": "python",
   "name": "python3"
  },
  "language_info": {
   "codemirror_mode": {
    "name": "ipython",
    "version": 3
   },
   "file_extension": ".py",
   "mimetype": "text/x-python",
   "name": "python",
   "nbconvert_exporter": "python",
   "pygments_lexer": "ipython3",
   "version": "3.7.4"
  }
 },
 "nbformat": 4,
 "nbformat_minor": 2
}
