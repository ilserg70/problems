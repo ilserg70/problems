{
 "cells": [
  {
   "cell_type": "markdown",
   "metadata": {},
   "source": [
    "#### Symmetric Tree\n",
    "https://leetcode.com/problems/symmetric-tree/"
   ]
  },
  {
   "cell_type": "code",
   "execution_count": 21,
   "metadata": {},
   "outputs": [],
   "source": [
    "# Definition for a binary tree node.\n",
    "# class TreeNode:\n",
    "#     def __init__(self, x):\n",
    "#         self.val = x\n",
    "#         self.left = None\n",
    "#         self.right = None\n",
    "\n",
    "class Solution:\n",
    "    def isSymmetric(self, root):\n",
    "        def isSymm(row):\n",
    "            for i in range(len(row)//2):\n",
    "                if row[i] != row[len(row)-1-i]:\n",
    "                    return False\n",
    "            return True       \n",
    "        q = [(root,0)]\n",
    "        row, prev_level = [], 0\n",
    "        while q:\n",
    "            node, level = q.pop(0)\n",
    "            if level != prev_level:\n",
    "                if not isSymm(row):\n",
    "                    return False\n",
    "                row = []\n",
    "            row.append(node.val if node is not None else '')\n",
    "            if node is not None:\n",
    "                q.append((node.left,level+1))\n",
    "                q.append((node.right,level+1))\n",
    "            prev_level = level\n",
    "        return isSymm(row)"
   ]
  },
  {
   "cell_type": "code",
   "execution_count": null,
   "metadata": {},
   "outputs": [],
   "source": []
  }
 ],
 "metadata": {
  "kernelspec": {
   "display_name": "Python 3",
   "language": "python",
   "name": "python3"
  },
  "language_info": {
   "codemirror_mode": {
    "name": "ipython",
    "version": 3
   },
   "file_extension": ".py",
   "mimetype": "text/x-python",
   "name": "python",
   "nbconvert_exporter": "python",
   "pygments_lexer": "ipython3",
   "version": "3.7.4"
  }
 },
 "nbformat": 4,
 "nbformat_minor": 2
}
