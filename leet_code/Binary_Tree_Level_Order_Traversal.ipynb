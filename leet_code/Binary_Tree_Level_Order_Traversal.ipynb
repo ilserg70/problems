{
 "cells": [
  {
   "cell_type": "markdown",
   "metadata": {},
   "source": [
    "#### Binary Tree Level Order Traversal\n",
    "https://leetcode.com/problems/binary-tree-level-order-traversal/"
   ]
  },
  {
   "cell_type": "code",
   "execution_count": 2,
   "metadata": {},
   "outputs": [],
   "source": [
    "# Definition for a binary tree node.\n",
    "# class TreeNode:\n",
    "#     def __init__(self, x):\n",
    "#         self.val = x\n",
    "#         self.left = None\n",
    "#         self.right = None\n",
    "\n",
    "class Solution:\n",
    "    def levelOrder(self, root):\n",
    "        res, row, q, prev_level = [], [], [], 0\n",
    "        if root is not None:\n",
    "            q.append((root,0))\n",
    "        while q:\n",
    "            node, level = q.pop(0)\n",
    "            if level != prev_level:\n",
    "                res.append(row)\n",
    "                row = []\n",
    "            row.append(node.val)\n",
    "            if node.left is not None:\n",
    "                q.append((node.left,level+1))\n",
    "            if node.right is not None:\n",
    "                q.append((node.right,level+1))\n",
    "            prev_level = level\n",
    "        if row:\n",
    "            res.append(row)\n",
    "        return res"
   ]
  },
  {
   "cell_type": "code",
   "execution_count": null,
   "metadata": {},
   "outputs": [],
   "source": []
  }
 ],
 "metadata": {
  "kernelspec": {
   "display_name": "Python 3",
   "language": "python",
   "name": "python3"
  },
  "language_info": {
   "codemirror_mode": {
    "name": "ipython",
    "version": 3
   },
   "file_extension": ".py",
   "mimetype": "text/x-python",
   "name": "python",
   "nbconvert_exporter": "python",
   "pygments_lexer": "ipython3",
   "version": "3.7.4"
  }
 },
 "nbformat": 4,
 "nbformat_minor": 2
}
