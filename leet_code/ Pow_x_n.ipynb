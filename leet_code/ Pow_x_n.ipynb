{
 "cells": [
  {
   "cell_type": "markdown",
   "metadata": {},
   "source": [
    "####  Pow(x, n)\n",
    "Implement pow(x, n), which calculates x raised to the power n (xn).\n",
    "\n",
    "Example 1:\n",
    "\n",
    "Input: 2.00000, 10\n",
    "Output: 1024.00000\n",
    "\n",
    "Example 2:\n",
    "\n",
    "Input: 2.10000, 3\n",
    "Output: 9.26100\n",
    "\n",
    "Example 3:\n",
    "\n",
    "Input: 2.00000, -2\n",
    "Output: 0.25000\n",
    "Explanation: 2-2 = 1/22 = 1/4 = 0.25\n",
    "Note:\n",
    "\n",
    "-100.0 < x < 100.0\n",
    "n is a 32-bit signed integer, within the range [−231, 231 − 1]"
   ]
  },
  {
   "cell_type": "code",
   "execution_count": 5,
   "metadata": {},
   "outputs": [],
   "source": [
    "class Solution:\n",
    "    #def myPow(self, x: float, n: int) -> float:\n",
    "    def myPow(self, x, n):\n",
    "        def toPow(x,n):\n",
    "            if n == 0 or x == 1.0:\n",
    "                return 1.0\n",
    "            elif x == 0.0:\n",
    "                return x if n > 0 else None\n",
    "            elif n < 0:\n",
    "                return 1/toPow(x,-n)\n",
    "            if n%2 == 0:\n",
    "                return toPow(x*x, int(n/2))\n",
    "            else:\n",
    "                return x * toPow(x*x, int((n-1)/2))\n",
    "        return toPow(x,n)"
   ]
  },
  {
   "cell_type": "code",
   "execution_count": 10,
   "metadata": {},
   "outputs": [
    {
     "data": {
      "text/plain": [
       "16.0"
      ]
     },
     "execution_count": 10,
     "metadata": {},
     "output_type": "execute_result"
    }
   ],
   "source": [
    "Solution().myPow(-2,4)"
   ]
  },
  {
   "cell_type": "code",
   "execution_count": null,
   "metadata": {},
   "outputs": [],
   "source": [
    "# start time: 20:05\n",
    "# end time:   20:16"
   ]
  }
 ],
 "metadata": {
  "kernelspec": {
   "display_name": "Python 3",
   "language": "python",
   "name": "python3"
  },
  "language_info": {
   "codemirror_mode": {
    "name": "ipython",
    "version": 3
   },
   "file_extension": ".py",
   "mimetype": "text/x-python",
   "name": "python",
   "nbconvert_exporter": "python",
   "pygments_lexer": "ipython3",
   "version": "3.7.3"
  }
 },
 "nbformat": 4,
 "nbformat_minor": 2
}
