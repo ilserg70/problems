{
 "cells": [
  {
   "cell_type": "markdown",
   "metadata": {},
   "source": [
    "#### Kth Largest Element in an Array\n",
    "Find the kth largest element in an unsorted array. Note that it is the kth largest element in the sorted order, not the kth distinct element."
   ]
  },
  {
   "cell_type": "code",
   "execution_count": null,
   "metadata": {},
   "outputs": [],
   "source": [
    "class Solution(object):\n",
    "    def findKthLargest(self, nums, k):\n",
    "        \"\"\"\n",
    "        :type nums: List[int]\n",
    "        :type k: int\n",
    "        :rtype: int\n",
    "        \"\"\"\n",
    "        if k == 1:\n",
    "            return max(nums)\n",
    "        elif k == len(nums):\n",
    "            return min(nums)\n",
    "\n",
    "        def swap(i,j):\n",
    "            tmp = nums[i]\n",
    "            nums[i] = nums[j]\n",
    "            nums[j] = tmp\n",
    "\n",
    "        def separate(start, end):\n",
    "            x = nums[start + (end - start) // 2]\n",
    "            i, l, j = start, -1, end\n",
    "            while i < j:\n",
    "                while i < len(nums) and nums[i] >= x:\n",
    "                    if nums[i] == x:\n",
    "                        if l == -1:\n",
    "                            l = i\n",
    "                    elif l != -1:\n",
    "                        swap(l,i)\n",
    "                        l += 1\n",
    "                    i += 1\n",
    "                while j >= 0 and nums[j] < x:\n",
    "                    j -= 1\n",
    "                if i < j:\n",
    "                    swap(i,j)\n",
    "            if l == -1:\n",
    "                l = i\n",
    "            print(\"l = {}, i = {}, x = {}\".format(l,i,x))\n",
    "            print(nums)\n",
    "            return (l, i)\n",
    "        \n",
    "        start, end = 0, len(nums)-1\n",
    "        while True:\n",
    "            l, i = separate(start, end)\n",
    "            if k < l+1:\n",
    "                end = l-1\n",
    "            elif k > i:\n",
    "                start = i\n",
    "            else:\n",
    "                return nums[k-1]"
   ]
  },
  {
   "cell_type": "code",
   "execution_count": null,
   "metadata": {},
   "outputs": [],
   "source": [
    "nums = [3,1,2,4]\n",
    "k = 2\n",
    "Solution().findKthLargest(nums, k)# 3"
   ]
  },
  {
   "cell_type": "code",
   "execution_count": null,
   "metadata": {},
   "outputs": [],
   "source": [
    "nums = [2,1]\n",
    "k = 1\n",
    "Solution().findKthLargest(nums, k)# 2"
   ]
  },
  {
   "cell_type": "code",
   "execution_count": null,
   "metadata": {},
   "outputs": [],
   "source": [
    "nums = [1]\n",
    "k = 1\n",
    "Solution().findKthLargest(nums, k)# 1"
   ]
  },
  {
   "cell_type": "code",
   "execution_count": null,
   "metadata": {},
   "outputs": [],
   "source": [
    "nums = [-1,2,0]\n",
    "k = 2\n",
    "Solution().findKthLargest(nums, k)# 0"
   ]
  },
  {
   "cell_type": "code",
   "execution_count": null,
   "metadata": {},
   "outputs": [],
   "source": [
    "nums = [3,2,3,1,2,4,5,5,6]\n",
    "k = 4\n",
    "Solution().findKthLargest(nums, k)# 4"
   ]
  },
  {
   "cell_type": "code",
   "execution_count": null,
   "metadata": {},
   "outputs": [],
   "source": [
    "def partition(arr, start, end):\n",
    "    x = arr[start + (end - start) // 2]\n",
    "    # ... y < x, x, x, ...,x, x < z\n",
    "    "
   ]
  },
  {
   "cell_type": "code",
   "execution_count": null,
   "metadata": {},
   "outputs": [],
   "source": []
  }
 ],
 "metadata": {
  "kernelspec": {
   "display_name": "Python 3",
   "language": "python",
   "name": "python3"
  },
  "language_info": {
   "codemirror_mode": {
    "name": "ipython",
    "version": 3
   },
   "file_extension": ".py",
   "mimetype": "text/x-python",
   "name": "python",
   "nbconvert_exporter": "python",
   "pygments_lexer": "ipython3",
   "version": "3.7.3"
  }
 },
 "nbformat": 4,
 "nbformat_minor": 2
}
