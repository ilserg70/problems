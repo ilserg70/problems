{
 "cells": [
  {
   "cell_type": "markdown",
   "metadata": {},
   "source": [
    "#### Climbing Stairs\n",
    "You are climbing a stair case. It takes n steps to reach to the top.\n",
    "\n",
    "Each time you can either climb 1 or 2 steps. In how many distinct ways can you climb to the top?\n",
    "\n",
    "Note: Given n will be a positive integer.\n",
    "\n",
    "Example 1:\n",
    "\n",
    "Input: 2\n",
    "Output: 2\n",
    "Explanation: There are two ways to climb to the top.\n",
    "1. 1 step + 1 step\n",
    "2. 2 steps\n",
    "\n",
    "Example 2:\n",
    "\n",
    "Input: 3\n",
    "Output: 3\n",
    "\n",
    "Explanation: There are three ways to climb to the top.\n",
    "1. 1 step + 1 step + 1 step\n",
    "2. 1 step + 2 steps\n",
    "3. 2 steps + 1 step"
   ]
  },
  {
   "cell_type": "code",
   "execution_count": 20,
   "metadata": {},
   "outputs": [],
   "source": [
    "class Solution:\n",
    "    #def climbStairs(self, n: int) -> int:\n",
    "    def climbStairs(self, n):\n",
    "        # m!/((m-k)!k!)\n",
    "        h = {}\n",
    "        def comb(m, k):\n",
    "            if m is None or m < 0 or k is None or k < 0:\n",
    "                return None\n",
    "            c = h.get((m,k), None)\n",
    "            if c is not None:\n",
    "                return c\n",
    "            if m == 0 or k == 0 or k == m:\n",
    "                c = 1\n",
    "            elif k == 1 or k == m-1:\n",
    "                c = m\n",
    "            else:\n",
    "                c = comb(m-1, k-1) + comb(m-1, k)\n",
    "            h[(m,k)] = c\n",
    "            h[(m,m-k)] = c\n",
    "            return c\n",
    "        n1, n2 = n%2, int(n/2)\n",
    "        total = 0\n",
    "        while n2 >= 0:\n",
    "            total += comb(n1+n2, min(n1,n2))\n",
    "            n2 -= 1\n",
    "            n1 += 2\n",
    "        return total"
   ]
  },
  {
   "cell_type": "code",
   "execution_count": 21,
   "metadata": {},
   "outputs": [
    {
     "data": {
      "text/plain": [
       "5"
      ]
     },
     "execution_count": 21,
     "metadata": {},
     "output_type": "execute_result"
    }
   ],
   "source": [
    "Solution().climbStairs(4)"
   ]
  },
  {
   "cell_type": "code",
   "execution_count": null,
   "metadata": {},
   "outputs": [],
   "source": [
    "# 0, 2 -> 1 : [2,2]\n",
    "# 2, 1 -> 3 : [1,1,2], [1,2,1], [2,1,1]\n",
    "# 4, 0 -> 1 : [1,1,1,1]"
   ]
  },
  {
   "cell_type": "code",
   "execution_count": null,
   "metadata": {},
   "outputs": [],
   "source": [
    "# time ~ 50 min"
   ]
  }
 ],
 "metadata": {
  "kernelspec": {
   "display_name": "Python 3",
   "language": "python",
   "name": "python3"
  },
  "language_info": {
   "codemirror_mode": {
    "name": "ipython",
    "version": 3
   },
   "file_extension": ".py",
   "mimetype": "text/x-python",
   "name": "python",
   "nbconvert_exporter": "python",
   "pygments_lexer": "ipython3",
   "version": "3.7.3"
  }
 },
 "nbformat": 4,
 "nbformat_minor": 2
}
