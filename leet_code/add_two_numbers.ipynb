{
 "cells": [
  {
   "cell_type": "markdown",
   "metadata": {},
   "source": [
    "#### Add Two Numbers\n",
    "You are given two non-empty linked lists representing two non-negative integers. The digits are stored in reverse order and each of their nodes contain a single digit. Add the two numbers and return it as a linked list.\n",
    "\n",
    "You may assume the two numbers do not contain any leading zero, except the number 0 itself.\n",
    "\n",
    "Example:\n",
    "\n",
    "Input: (2 -> 4 -> 3) + (5 -> 6 -> 4)\n",
    "Output: 7 -> 0 -> 8\n",
    "Explanation: 342 + 465 = 807."
   ]
  },
  {
   "cell_type": "code",
   "execution_count": 28,
   "metadata": {},
   "outputs": [],
   "source": [
    "# Definition for singly-linked list.\n",
    "class ListNode:\n",
    "    def __init__(self, x):\n",
    "        self.val = x\n",
    "        self.next = None\n",
    "    def __str__(self):\n",
    "        res = str(self.val)\n",
    "        if self.next != None:\n",
    "            res += \" -> \" + str(self.next)\n",
    "        return res\n",
    "def mkList(v):\n",
    "    arr = list(str(v))[::-1]\n",
    "    l0, l = None, None\n",
    "    for c in arr:\n",
    "        if l is None:\n",
    "            l = ListNode(int(c))\n",
    "            l0 = l\n",
    "        else:\n",
    "            l.next = ListNode(int(c))\n",
    "            l = l.next\n",
    "    return l0\n",
    "class Solution:\n",
    "    def addTwoNumbers(self, l1, l2):\n",
    "        if l1 is None:\n",
    "            return l2\n",
    "        if l2 is None:\n",
    "            return l1\n",
    "        l0, l, m = None, None, 0\n",
    "        while l1 is not None and l2 is not None:\n",
    "            v = l1.val + l2.val + m\n",
    "            m = int((v - v%10)/10)\n",
    "            if l is None:\n",
    "                l = ListNode(v%10)\n",
    "                l0 = l\n",
    "            else:\n",
    "                l.next = ListNode(v%10)\n",
    "                l = l.next\n",
    "            l1 = l1.next\n",
    "            l2 = l2.next\n",
    "        l3 = l1 if l1 is not None else l2\n",
    "        while l3 is not None:\n",
    "            v = l3.val + m\n",
    "            m = int((v - v%10)/10)\n",
    "            l.next = ListNode(v%10)\n",
    "            l = l.next\n",
    "            l3 = l3.next\n",
    "        if m > 0:\n",
    "            l.next = ListNode(m)\n",
    "        return l0"
   ]
  },
  {
   "cell_type": "code",
   "execution_count": 30,
   "metadata": {},
   "outputs": [
    {
     "name": "stdout",
     "output_type": "stream",
     "text": [
      "2 -> 4 -> 3 + 5 -> 6 -> 4 = 7 -> 0 -> 8 == 7 -> 0 -> 8\n"
     ]
    }
   ],
   "source": [
    "v1, v2 = 342, 465\n",
    "l1 = mkList(v1)\n",
    "l2 = mkList(v2)\n",
    "l3 = mkList(v1+v2)\n",
    "l = Solution().addTwoNumbers(l1,l2)\n",
    "print(\"{} + {} = {} == {}\".format(l1, l2, l, l3))"
   ]
  },
  {
   "cell_type": "code",
   "execution_count": 20,
   "metadata": {},
   "outputs": [],
   "source": []
  }
 ],
 "metadata": {
  "kernelspec": {
   "display_name": "Python 3",
   "language": "python",
   "name": "python3"
  },
  "language_info": {
   "codemirror_mode": {
    "name": "ipython",
    "version": 3
   },
   "file_extension": ".py",
   "mimetype": "text/x-python",
   "name": "python",
   "nbconvert_exporter": "python",
   "pygments_lexer": "ipython3",
   "version": "3.7.3"
  }
 },
 "nbformat": 4,
 "nbformat_minor": 2
}
