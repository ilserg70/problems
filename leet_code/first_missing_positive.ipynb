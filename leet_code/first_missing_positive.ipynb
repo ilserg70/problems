{
 "cells": [
  {
   "cell_type": "markdown",
   "metadata": {},
   "source": [
    "#### First Missing Positive (hard)\n",
    "https://leetcode.com/problems/first-missing-positive/\n",
    "\n",
    "Given an unsorted integer array, find the smallest missing positive integer."
   ]
  },
  {
   "cell_type": "code",
   "execution_count": 51,
   "metadata": {},
   "outputs": [],
   "source": [
    "class Solution:\n",
    "    def firstMissingPositive(self, nums):\n",
    "        \n",
    "        def find_min_max(arr,start,end):\n",
    "            min_val, max_val = arr[start], arr[start]\n",
    "            for i in range(start, end+1):\n",
    "                min_val = min(arr[i],min_val)\n",
    "                max_val = max(arr[i],max_val)\n",
    "            return (min_val, max_val)\n",
    "\n",
    "        def partition(arr, x, start, end):\n",
    "            # elem <= x, x < elem            \n",
    "            i, j = start, end\n",
    "            while i <= end and j >= start and i < j:\n",
    "                while i <= end and arr[i] <= x:\n",
    "                    i += 1\n",
    "                while j >= start and arr[j] > x:\n",
    "                    j -= 1\n",
    "                if i <= end and j >= start and i < j:\n",
    "                    t = arr[i]\n",
    "                    arr[i] = arr[j]\n",
    "                    arr[j] = t\n",
    "            return (j, i)\n",
    "        \n",
    "        n = len(nums)\n",
    "        start, end = 0, len(n)-1\n",
    "        \n",
    "        it = 2\n",
    "        while 2 > 0:\n",
    "            it -= 1\n",
    "            x = (end - start + 1)//2\n",
    "            j, i = partition(nums, x, start, end)\n",
    "            min_, max_ = find_min_max(nums, start, j)\n",
    "            if max_ > i - start:\n",
    "                end = j\n",
    "                "
   ]
  },
  {
   "cell_type": "code",
   "execution_count": 52,
   "metadata": {},
   "outputs": [
    {
     "name": "stdout",
     "output_type": "stream",
     "text": [
      "start=0, end=5, j0=1, i0=2, nums=[0, -1, 4, 1, 2, 5]\n",
      "min=1, max=5\n",
      "start=2, end=5, x=2, j=3, i=4, nums=[0, -1, 2, 1, 4, 5]\n",
      "min=4, max=5\n"
     ]
    }
   ],
   "source": [
    "Solution().firstMissingPositive([4,-1,0,1,2,5])"
   ]
  },
  {
   "cell_type": "code",
   "execution_count": null,
   "metadata": {},
   "outputs": [],
   "source": []
  },
  {
   "cell_type": "code",
   "execution_count": null,
   "metadata": {},
   "outputs": [],
   "source": []
  }
 ],
 "metadata": {
  "kernelspec": {
   "display_name": "Python 3",
   "language": "python",
   "name": "python3"
  },
  "language_info": {
   "codemirror_mode": {
    "name": "ipython",
    "version": 3
   },
   "file_extension": ".py",
   "mimetype": "text/x-python",
   "name": "python",
   "nbconvert_exporter": "python",
   "pygments_lexer": "ipython3",
   "version": "3.7.4"
  }
 },
 "nbformat": 4,
 "nbformat_minor": 2
}
