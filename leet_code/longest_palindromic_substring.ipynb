{
 "cells": [
  {
   "cell_type": "markdown",
   "metadata": {},
   "source": [
    "#### Longest Palindromic Substring (medium)\n",
    "https://leetcode.com/problems/longest-palindromic-substring/"
   ]
  },
  {
   "cell_type": "code",
   "execution_count": 7,
   "metadata": {},
   "outputs": [],
   "source": [
    "class Solution(object):\n",
    "    def longestPalindrome(self, s):\n",
    "        \"\"\"\n",
    "        :type s: str\n",
    "        :rtype: str\n",
    "        \"\"\"\n",
    "        if not s:\n",
    "            return \"\"\n",
    "        elif len(s)==1 or len(s)==2 and s[0]==s[1]:\n",
    "            return s\n",
    "        elif len(s)==2:\n",
    "            return s[0]\n",
    "        \n",
    "        def bubble(start_, end_, res):\n",
    "            while start_-1 >= 0 and end_+1 < len(s) and s[start_-1]==s[end_+1]:\n",
    "                start_ -= 1\n",
    "                end_ += 1\n",
    "            len_ = end_ - start_ + 1\n",
    "            if len_ > res['len']:\n",
    "                res['start'] = start_\n",
    "                res['end'] = end_\n",
    "                res['len'] = len_\n",
    "        \n",
    "        res = {'start': 0, 'end': 0, 'len': 1}\n",
    "        for j in range(1, len(s)-1):\n",
    "            # Palindrome of odd length\n",
    "            bubble(j,j, res)\n",
    "            # Palindrome of even length\n",
    "            if s[j-1] == s[j]:\n",
    "                bubble(j-1, j, res)\n",
    "            elif s[j] == s[j+1]:\n",
    "                bubble(j, j+1, res)\n",
    "        #print(res)\n",
    "        return s[res['start']:res['end']+1]"
   ]
  },
  {
   "cell_type": "code",
   "execution_count": 8,
   "metadata": {},
   "outputs": [
    {
     "name": "stdout",
     "output_type": "stream",
     "text": [
      "{'start': 0, 'end': 2, 'len': 3}\n"
     ]
    },
    {
     "data": {
      "text/plain": [
       "'bab'"
      ]
     },
     "execution_count": 8,
     "metadata": {},
     "output_type": "execute_result"
    }
   ],
   "source": [
    "Solution().longestPalindrome(\"babad\")# \"bab\""
   ]
  },
  {
   "cell_type": "code",
   "execution_count": 10,
   "metadata": {},
   "outputs": [
    {
     "name": "stdout",
     "output_type": "stream",
     "text": [
      "{'start': 1, 'end': 2, 'len': 2}\n"
     ]
    },
    {
     "data": {
      "text/plain": [
       "'bb'"
      ]
     },
     "execution_count": 10,
     "metadata": {},
     "output_type": "execute_result"
    }
   ],
   "source": [
    "Solution().longestPalindrome(\"cbbd\")# \"bb\""
   ]
  },
  {
   "cell_type": "code",
   "execution_count": 11,
   "metadata": {},
   "outputs": [
    {
     "data": {
      "text/plain": [
       "'bb'"
      ]
     },
     "execution_count": 11,
     "metadata": {},
     "output_type": "execute_result"
    }
   ],
   "source": [
    "Solution().longestPalindrome(\"bb\")# \"bb\""
   ]
  },
  {
   "cell_type": "code",
   "execution_count": null,
   "metadata": {},
   "outputs": [],
   "source": []
  }
 ],
 "metadata": {
  "kernelspec": {
   "display_name": "Python 3",
   "language": "python",
   "name": "python3"
  },
  "language_info": {
   "codemirror_mode": {
    "name": "ipython",
    "version": 3
   },
   "file_extension": ".py",
   "mimetype": "text/x-python",
   "name": "python",
   "nbconvert_exporter": "python",
   "pygments_lexer": "ipython3",
   "version": "3.7.4"
  }
 },
 "nbformat": 4,
 "nbformat_minor": 2
}
