{
 "cells": [
  {
   "cell_type": "markdown",
   "metadata": {},
   "source": [
    "#### Word Pattern\n",
    "https://leetcode.com/problems/word-pattern/"
   ]
  },
  {
   "cell_type": "code",
   "execution_count": 30,
   "metadata": {},
   "outputs": [],
   "source": [
    "class Solution:\n",
    "    def wordPattern(self, pattern, str):\n",
    "        if not pattern and not str:\n",
    "            return True\n",
    "        elif not pattern or not str:\n",
    "            return False\n",
    "        n = len(pattern)\n",
    "        words = str.split(' ')\n",
    "        if n != len(words):\n",
    "            return False\n",
    "        if len(set(pattern)) != len(set(words)):\n",
    "            return False\n",
    "        h1, h2 = {}, {}\n",
    "        for i in range(n):\n",
    "            a, b = pattern[i], words[i]\n",
    "            #print(f\"'{a}' <=> '{b}'\")\n",
    "            if a not in h1 and b not in h2:\n",
    "                h1[a] = b\n",
    "                h2[b] = a\n",
    "            elif a not in h1 or b not in h2:\n",
    "                return False\n",
    "            elif h1[a] != b or h2[b] != a:\n",
    "                return False\n",
    "        return True"
   ]
  },
  {
   "cell_type": "code",
   "execution_count": 31,
   "metadata": {},
   "outputs": [
    {
     "data": {
      "text/plain": [
       "True"
      ]
     },
     "execution_count": 31,
     "metadata": {},
     "output_type": "execute_result"
    }
   ],
   "source": [
    "Solution().wordPattern(\"abc\", \"b c a\") # True"
   ]
  },
  {
   "cell_type": "code",
   "execution_count": 32,
   "metadata": {},
   "outputs": [
    {
     "data": {
      "text/plain": [
       "True"
      ]
     },
     "execution_count": 32,
     "metadata": {},
     "output_type": "execute_result"
    }
   ],
   "source": [
    "Solution().wordPattern(\"abba\", \"dog cat cat dog\") # True"
   ]
  },
  {
   "cell_type": "code",
   "execution_count": 33,
   "metadata": {},
   "outputs": [
    {
     "data": {
      "text/plain": [
       "False"
      ]
     },
     "execution_count": 33,
     "metadata": {},
     "output_type": "execute_result"
    }
   ],
   "source": [
    "Solution().wordPattern(\"abba\", \"dog cat cat fish\") # False"
   ]
  },
  {
   "cell_type": "code",
   "execution_count": null,
   "metadata": {},
   "outputs": [],
   "source": []
  }
 ],
 "metadata": {
  "kernelspec": {
   "display_name": "Python 3",
   "language": "python",
   "name": "python3"
  },
  "language_info": {
   "codemirror_mode": {
    "name": "ipython",
    "version": 3
   },
   "file_extension": ".py",
   "mimetype": "text/x-python",
   "name": "python",
   "nbconvert_exporter": "python",
   "pygments_lexer": "ipython3",
   "version": "3.7.4"
  }
 },
 "nbformat": 4,
 "nbformat_minor": 2
}
