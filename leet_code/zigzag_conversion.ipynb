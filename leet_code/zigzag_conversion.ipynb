{
 "cells": [
  {
   "cell_type": "markdown",
   "metadata": {},
   "source": [
    "#### ZigZag Conversion\n",
    "https://leetcode.com/problems/zigzag-conversion/"
   ]
  },
  {
   "cell_type": "code",
   "execution_count": null,
   "metadata": {},
   "outputs": [],
   "source": [
    "# PAYPALISHIRING => PAHNAPLSIIGYIR\n",
    "\n",
    "# P _ A _ H _ N\n",
    "# A P L S I I G\n",
    "# Y _ I _ R _ _"
   ]
  },
  {
   "cell_type": "code",
   "execution_count": 54,
   "metadata": {},
   "outputs": [],
   "source": [
    "class Solution(object):\n",
    "    def convert(self, s, numRows):\n",
    "        \"\"\"\n",
    "        :type s: str\n",
    "        :type numRows: int\n",
    "        :rtype: str\n",
    "        \"\"\"\n",
    "        if numRows == 1:\n",
    "            return s\n",
    "        res = [\"\" for i in range(numRows)]\n",
    "        k, flag = 0, False\n",
    "        for i in range(len(s)):\n",
    "            if i % (numRows-1) == 0:\n",
    "                flag = not flag\n",
    "            res[k] += s[i]\n",
    "            if k == 0:\n",
    "                k += 1\n",
    "            elif k == numRows-1:\n",
    "                k -= 1\n",
    "            elif flag:\n",
    "                k += 1\n",
    "            else:\n",
    "                k -= 1\n",
    "        return \"\".join(res)"
   ]
  },
  {
   "cell_type": "code",
   "execution_count": 55,
   "metadata": {},
   "outputs": [
    {
     "name": "stdout",
     "output_type": "stream",
     "text": [
      "PAHNAPLSIIGYIR\n",
      "True\n"
     ]
    }
   ],
   "source": [
    "r = Solution().convert(\"PAYPALISHIRING\", 3)\n",
    "print(r)\n",
    "print(r == \"PAHNAPLSIIGYIR\")"
   ]
  },
  {
   "cell_type": "code",
   "execution_count": 56,
   "metadata": {},
   "outputs": [
    {
     "name": "stdout",
     "output_type": "stream",
     "text": [
      "PINALSIGYAHRPI\n",
      "True\n"
     ]
    }
   ],
   "source": [
    "r = Solution().convert(\"PAYPALISHIRING\", 4)\n",
    "print(r)\n",
    "print(r == \"PINALSIGYAHRPI\")"
   ]
  },
  {
   "cell_type": "code",
   "execution_count": 57,
   "metadata": {},
   "outputs": [
    {
     "name": "stdout",
     "output_type": "stream",
     "text": [
      "A\n",
      "True\n"
     ]
    }
   ],
   "source": [
    "r = Solution().convert(\"A\", 1)\n",
    "print(r)\n",
    "print(r == \"A\")"
   ]
  },
  {
   "cell_type": "code",
   "execution_count": 37,
   "metadata": {},
   "outputs": [],
   "source": [
    "# P _ A _ H _ N\n",
    "# A P L S I I G\n",
    "# Y _ I _ R _ _\n",
    "\n",
    "# (0,0)->(1,0)->|(2,0)|-> (1,1)->|(0,2)|->(1,2)->(2,2)->(1,3)->(0,4)\n",
    "#   P      A       Y        P       A       L      I      S      H"
   ]
  }
 ],
 "metadata": {
  "kernelspec": {
   "display_name": "Python 3",
   "language": "python",
   "name": "python3"
  },
  "language_info": {
   "codemirror_mode": {
    "name": "ipython",
    "version": 3
   },
   "file_extension": ".py",
   "mimetype": "text/x-python",
   "name": "python",
   "nbconvert_exporter": "python",
   "pygments_lexer": "ipython3",
   "version": "3.7.4"
  }
 },
 "nbformat": 4,
 "nbformat_minor": 2
}
