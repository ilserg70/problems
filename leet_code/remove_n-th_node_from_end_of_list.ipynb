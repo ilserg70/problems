{
 "cells": [
  {
   "cell_type": "markdown",
   "metadata": {},
   "source": [
    "#### Remove Nth Node From End of List\n",
    "https://leetcode.com/problems/remove-nth-node-from-end-of-list/"
   ]
  },
  {
   "cell_type": "code",
   "execution_count": 27,
   "metadata": {},
   "outputs": [],
   "source": [
    "# Definition for singly-linked list.\n",
    "class ListNode:\n",
    "    def __init__(self, x):\n",
    "        self.val = x\n",
    "        self.next = None\n",
    "    def print(self):\n",
    "        it, res = self, []\n",
    "        while it is not None:\n",
    "            res.append(str(it.val))\n",
    "            it = it.next\n",
    "        print(\" -> \".join(res))\n",
    "class Solution:\n",
    "    def removeNthFromEnd(self, head, n):\n",
    "        if n <= 0:\n",
    "            return head\n",
    "        # first iterator\n",
    "        it1 = head\n",
    "        while n > 0 and it1:\n",
    "            it1 = it1.next\n",
    "            n -= 1\n",
    "        # Remove the first element\n",
    "        if it1 is None:\n",
    "            return head.next\n",
    "        # If list contains less elements when n\n",
    "        if n > 0:\n",
    "            return head\n",
    "        it2 = head\n",
    "        while it1.next:\n",
    "            it1 = it1.next\n",
    "            it2 = it2.next\n",
    "        if it2.next:\n",
    "            it2.next = it2.next.next\n",
    "        return head"
   ]
  },
  {
   "cell_type": "code",
   "execution_count": 34,
   "metadata": {},
   "outputs": [
    {
     "name": "stdout",
     "output_type": "stream",
     "text": [
      "2 -> 5 -> 7\n"
     ]
    }
   ],
   "source": [
    "s = ListNode(2)\n",
    "s.next = ListNode(5)\n",
    "s.next.next = ListNode(7)\n",
    "s.print()"
   ]
  },
  {
   "cell_type": "code",
   "execution_count": 36,
   "metadata": {},
   "outputs": [
    {
     "name": "stdout",
     "output_type": "stream",
     "text": [
      "2 -> 5 -> 7\n",
      "5 -> 7\n"
     ]
    }
   ],
   "source": [
    "s2 = Solution().removeNthFromEnd(s,3)\n",
    "s.print()\n",
    "s2.print()"
   ]
  },
  {
   "cell_type": "code",
   "execution_count": null,
   "metadata": {},
   "outputs": [],
   "source": []
  }
 ],
 "metadata": {
  "kernelspec": {
   "display_name": "Python 3",
   "language": "python",
   "name": "python3"
  },
  "language_info": {
   "codemirror_mode": {
    "name": "ipython",
    "version": 3
   },
   "file_extension": ".py",
   "mimetype": "text/x-python",
   "name": "python",
   "nbconvert_exporter": "python",
   "pygments_lexer": "ipython3",
   "version": "3.7.4"
  }
 },
 "nbformat": 4,
 "nbformat_minor": 2
}
