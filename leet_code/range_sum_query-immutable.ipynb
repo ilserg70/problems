{
 "cells": [
  {
   "cell_type": "markdown",
   "metadata": {},
   "source": [
    "#### Range Sum Query - Immutable\n",
    "https://leetcode.com/problems/range-sum-query-immutable/\n",
    "    \n",
    "Given an integer array nums, find the sum of the elements between indices i and j (i ≤ j), inclusive."
   ]
  },
  {
   "cell_type": "code",
   "execution_count": 7,
   "metadata": {},
   "outputs": [],
   "source": [
    "class NumArray:\n",
    "\n",
    "    def __init__(self, nums):\n",
    "        self.S = None\n",
    "        for x in nums:\n",
    "            if not self.S:\n",
    "                self.S = [x]\n",
    "            else:\n",
    "                self.S.append(x + self.S[-1])\n",
    "\n",
    "    def sumRange(self, i, j):\n",
    "        return self.S[j] if i==0 else self.S[j] - self.S[i-1]\n",
    "\n",
    "\n",
    "# Your NumArray object will be instantiated and called as such:\n",
    "# obj = NumArray(nums)\n",
    "# param_1 = obj.sumRange(i,j)"
   ]
  },
  {
   "cell_type": "code",
   "execution_count": 8,
   "metadata": {},
   "outputs": [
    {
     "name": "stdout",
     "output_type": "stream",
     "text": [
      "1\n",
      "-1\n",
      "-3\n"
     ]
    }
   ],
   "source": [
    "obj = NumArray([-2,0,3,-5,2,-1])\n",
    "print(obj.sumRange(0,2))# 1\n",
    "print(obj.sumRange(2,5))# -1\n",
    "print(obj.sumRange(0,5))# -3"
   ]
  },
  {
   "cell_type": "code",
   "execution_count": null,
   "metadata": {},
   "outputs": [],
   "source": []
  }
 ],
 "metadata": {
  "kernelspec": {
   "display_name": "Python 3",
   "language": "python",
   "name": "python3"
  },
  "language_info": {
   "codemirror_mode": {
    "name": "ipython",
    "version": 3
   },
   "file_extension": ".py",
   "mimetype": "text/x-python",
   "name": "python",
   "nbconvert_exporter": "python",
   "pygments_lexer": "ipython3",
   "version": "3.7.4"
  }
 },
 "nbformat": 4,
 "nbformat_minor": 2
}
