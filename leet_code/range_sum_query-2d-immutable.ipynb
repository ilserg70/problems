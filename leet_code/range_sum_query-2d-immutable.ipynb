{
 "cells": [
  {
   "cell_type": "markdown",
   "metadata": {},
   "source": [
    "#### Range Sum Query 2D - Immutable\n",
    "https://leetcode.com/problems/range-sum-query-2d-immutable/"
   ]
  },
  {
   "cell_type": "code",
   "execution_count": 9,
   "metadata": {},
   "outputs": [],
   "source": [
    "class NumMatrix:\n",
    "\n",
    "    def __init__(self, matrix):\n",
    "        self.S = []\n",
    "        for i in range(len(matrix)):\n",
    "            n = len(matrix[i])\n",
    "            self.S.append([0]*n)\n",
    "            for j in range(n):\n",
    "                if i == 0:\n",
    "                    if j == 0:\n",
    "                        self.S[i][j] = matrix[i][j]\n",
    "                    else:\n",
    "                        self.S[i][j] = matrix[i][j] + self.S[i][j-1]\n",
    "                else:\n",
    "                    if j == 0:\n",
    "                        self.S[i][j] = matrix[i][j] + self.S[i-1][j]\n",
    "                    else:\n",
    "                        self.S[i][j] = matrix[i][j] + self.S[i][j-1] + self.S[i-1][j] - self.S[i-1][j-1]\n",
    "\n",
    "    def sumRegion(self, row1, col1, row2, col2):\n",
    "        if row1 == 0 and col1 == 0:\n",
    "            return self.S[row2][col2]\n",
    "        elif row1 == 0:\n",
    "            return self.S[row2][col2] - self.S[row2][col1-1]\n",
    "        elif col1 == 0:\n",
    "            return self.S[row2][col2] - self.S[row1-1][col2]\n",
    "        else:        \n",
    "            return self.S[row2][col2] - self.S[row2][col1-1] - self.S[row1-1][col2] + self.S[row1-1][col1-1]\n",
    "\n",
    "\n",
    "# Your NumMatrix object will be instantiated and called as such:\n",
    "# obj = NumMatrix(matrix)\n",
    "# param_1 = obj.sumRegion(row1,col1,row2,col2)"
   ]
  },
  {
   "cell_type": "code",
   "execution_count": 10,
   "metadata": {},
   "outputs": [
    {
     "name": "stdout",
     "output_type": "stream",
     "text": [
      "-4\n",
      "-9\n",
      "-5\n"
     ]
    }
   ],
   "source": [
    "obj = NumMatrix([[-4,-5]])\n",
    "print(obj.sumRegion(0,0,0,0))\n",
    "print(obj.sumRegion(0,0,0,1))\n",
    "print(obj.sumRegion(0,1,0,1))"
   ]
  },
  {
   "cell_type": "code",
   "execution_count": 11,
   "metadata": {},
   "outputs": [
    {
     "name": "stdout",
     "output_type": "stream",
     "text": [
      "8\n",
      "11\n",
      "12\n"
     ]
    }
   ],
   "source": [
    "obj = NumMatrix([\n",
    "  [3, 0, 1, 4, 2],\n",
    "  [5, 6, 3, 2, 1],\n",
    "  [1, 2, 0, 1, 5],\n",
    "  [4, 1, 0, 1, 7],\n",
    "  [1, 0, 3, 0, 5]\n",
    "])\n",
    "print(obj.sumRegion(2, 1, 4, 3))# 8\n",
    "print(obj.sumRegion(1, 1, 2, 2))# 11\n",
    "print(obj.sumRegion(1, 2, 2, 4))# 12"
   ]
  },
  {
   "cell_type": "code",
   "execution_count": null,
   "metadata": {},
   "outputs": [],
   "source": []
  }
 ],
 "metadata": {
  "kernelspec": {
   "display_name": "Python 3",
   "language": "python",
   "name": "python3"
  },
  "language_info": {
   "codemirror_mode": {
    "name": "ipython",
    "version": 3
   },
   "file_extension": ".py",
   "mimetype": "text/x-python",
   "name": "python",
   "nbconvert_exporter": "python",
   "pygments_lexer": "ipython3",
   "version": "3.7.4"
  }
 },
 "nbformat": 4,
 "nbformat_minor": 2
}
