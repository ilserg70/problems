{
 "cells": [
  {
   "cell_type": "markdown",
   "metadata": {},
   "source": [
    "#### Surrounded Regions\n",
    "https://leetcode.com/problems/surrounded-regions/"
   ]
  },
  {
   "cell_type": "code",
   "execution_count": 43,
   "metadata": {},
   "outputs": [],
   "source": [
    "class Solution:\n",
    "    def solve(self, board):\n",
    "        \"\"\"\n",
    "        Do not return anything, modify board in-place instead.\n",
    "        \"\"\"\n",
    "        if not board or len(board)<=1 or len(board[0])<=1:\n",
    "            return\n",
    "        O, X = 'O', 'X'\n",
    "        n, m = len(board), len(board[0])\n",
    "        def findTree(i,j):\n",
    "            val = board[i][j]\n",
    "            h, q = set(), {(i,j)}\n",
    "            while q:\n",
    "                h |= q\n",
    "                q_next = set()\n",
    "                for x, y in q:\n",
    "                    q_next |= set(filter(lambda p: p[0]>=0 and p[0]<n and p[1]>=0 and p[1]<m and board[p[0]][p[1]]==val and p not in h, [(x,y-1),(x,y+1),(x-1,y),(x+1,y)]))\n",
    "                q = q_next\n",
    "            return h\n",
    "        ee = {(0,j) for j in range(m)} | {(n-1,j) for j in range(m)} | {(i,0) for i in range(1,n-1)} | {(i,m-1) for i in range(1,n-1)}\n",
    "        ee = set(filter(lambda p: board[p[0]][p[1]]==O , ee))\n",
    "        pp = set()\n",
    "        for i, j in ee:\n",
    "            if (i,j) not in pp:\n",
    "                pp |= findTree(i,j)\n",
    "        for i in range(n):\n",
    "            for j in range(m):\n",
    "                if board[i][j]==O and (i,j) not in pp:\n",
    "                    board[i][j] = X\n",
    "        print(pp) \n",
    "        for i in range(n):\n",
    "            print(board[i])"
   ]
  },
  {
   "cell_type": "code",
   "execution_count": 44,
   "metadata": {},
   "outputs": [
    {
     "name": "stdout",
     "output_type": "stream",
     "text": [
      "{(0, 1), (2, 0), (0, 0), (1, 0), (2, 1)}\n",
      "['O', 'O', 'X', 'X', 'X']\n",
      "['O', 'X', 'X', 'X', 'X']\n",
      "['O', 'O', 'X', 'X', 'X']\n",
      "['X', 'X', 'X', 'X', 'X']\n"
     ]
    }
   ],
   "source": [
    "arr = [\n",
    "    ['O','O','X','X','X'],\n",
    "    ['O','X','X','O','X'],\n",
    "    ['O','O','X','O','X'],\n",
    "    ['X','X','X','X','X']\n",
    "]\n",
    "Solution().solve(arr)"
   ]
  },
  {
   "cell_type": "code",
   "execution_count": 20,
   "metadata": {},
   "outputs": [],
   "source": [
    "n, m = len(arr), len(arr[0])"
   ]
  },
  {
   "cell_type": "code",
   "execution_count": 32,
   "metadata": {},
   "outputs": [
    {
     "data": {
      "text/plain": [
       "{(0, 0), (0, 1), (0, 2), (1, 0), (1, 2), (2, 0), (2, 1), (2, 2)}"
      ]
     },
     "execution_count": 32,
     "metadata": {},
     "output_type": "execute_result"
    }
   ],
   "source": [
    "n, m = 3, 3\n",
    "{(0,j) for j in range(m)} | {(n-1,j) for j in range(m)} | {(i,0) for i in range(1,n-1)} | {(i,m-1) for i in range(1,n-1)}\n",
    "\n",
    "\n"
   ]
  },
  {
   "cell_type": "code",
   "execution_count": null,
   "metadata": {},
   "outputs": [],
   "source": []
  }
 ],
 "metadata": {
  "kernelspec": {
   "display_name": "Python 3",
   "language": "python",
   "name": "python3"
  },
  "language_info": {
   "codemirror_mode": {
    "name": "ipython",
    "version": 3
   },
   "file_extension": ".py",
   "mimetype": "text/x-python",
   "name": "python",
   "nbconvert_exporter": "python",
   "pygments_lexer": "ipython3",
   "version": "3.7.4"
  }
 },
 "nbformat": 4,
 "nbformat_minor": 2
}
