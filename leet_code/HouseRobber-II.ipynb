{
 "cells": [
  {
   "cell_type": "markdown",
   "metadata": {},
   "source": [
    "#### House Robber II (medium)\n",
    "You are a professional robber planning to rob houses along a street. Each house has a certain amount of money stashed. All houses at this place are arranged in a circle. That means the first house is the neighbor of the last one. Meanwhile, adjacent houses have security system connected and it will automatically contact the police if two adjacent houses were broken into on the same night.\n",
    "\n",
    "Given a list of non-negative integers representing the amount of money of each house, determine the maximum amount of money you can rob tonight without alerting the police."
   ]
  },
  {
   "cell_type": "code",
   "execution_count": 24,
   "metadata": {},
   "outputs": [],
   "source": [
    "class Solution(object):\n",
    "    def rob(self, nums):\n",
    "        \"\"\"\n",
    "        :type nums: List[int]\n",
    "        :rtype: int\n",
    "        \"\"\"\n",
    "        if not nums:\n",
    "            return 0 \n",
    "        m = len(nums)\n",
    "        if m < 3:\n",
    "            return max(nums)\n",
    "        \n",
    "        def one_side(k=0):\n",
    "            S = [(1,1,nums[k])]\n",
    "            if nums[k-1] >= nums[k]:\n",
    "                S.append((0,1,nums[k-1]))\n",
    "            else:\n",
    "                S.append((1,0,nums[k]))\n",
    "            for i in range(2,m):\n",
    "                s0, s1 = S[i-2][2] + nums[k-i], S[i-1][2]\n",
    "                if s0 > s1:\n",
    "                    S.append((S[i-2][0],1,s0))\n",
    "                else:\n",
    "                    S.append((S[i-1][0],0,s1))\n",
    "            if S[m-1][0] == 1 and S[m-1][1] == 1:\n",
    "                s0, s1 = S[m-1][2] - nums[k], S[m-1][2] - nums[k-(m-1)]\n",
    "                if s0 > s1:\n",
    "                    S[m-1] = (0,1,s0)\n",
    "                else:\n",
    "                    S[m-1] = (1,0,s1)\n",
    "            #print(S)\n",
    "            return max([s[2] for s in S])\n",
    "        return max(one_side(0),one_side(m-1))"
   ]
  },
  {
   "cell_type": "code",
   "execution_count": 25,
   "metadata": {},
   "outputs": [
    {
     "name": "stdout",
     "output_type": "stream",
     "text": [
      "[(1, 1, 2), (0, 1, 5), (0, 0, 5), (0, 1, 8), (0, 1, 9), (0, 1, 10)]\n",
      "[(1, 1, 5), (1, 0, 5), (1, 1, 8), (1, 1, 9), (1, 1, 10), (1, 0, 9)]\n"
     ]
    },
    {
     "data": {
      "text/plain": [
       "10"
      ]
     },
     "execution_count": 25,
     "metadata": {},
     "output_type": "execute_result"
    }
   ],
   "source": [
    "Solution().rob([2,2,4,3,2,5])# 10"
   ]
  },
  {
   "cell_type": "code",
   "execution_count": null,
   "metadata": {},
   "outputs": [],
   "source": []
  }
 ],
 "metadata": {
  "kernelspec": {
   "display_name": "Python 3",
   "language": "python",
   "name": "python3"
  },
  "language_info": {
   "codemirror_mode": {
    "name": "ipython",
    "version": 3
   },
   "file_extension": ".py",
   "mimetype": "text/x-python",
   "name": "python",
   "nbconvert_exporter": "python",
   "pygments_lexer": "ipython3",
   "version": "3.7.3"
  }
 },
 "nbformat": 4,
 "nbformat_minor": 2
}
