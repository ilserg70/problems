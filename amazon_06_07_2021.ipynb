{
 "cells": [
  {
   "cell_type": "markdown",
   "id": "cooperative-rebecca",
   "metadata": {},
   "source": [
    "# Amazon\n",
    "Data Scientist - 06/07/2021"
   ]
  },
  {
   "cell_type": "code",
   "execution_count": 1,
   "id": "opening-clothing",
   "metadata": {},
   "outputs": [],
   "source": [
    "# Write a function ma(X, N) that takes an array X and a window length N and\n",
    "# returns the moving average array.\n",
    "\n",
    "def mov_avg(X, N):\n",
    "    if X is None or len(X)<N:\n",
    "        return []\n",
    "    sum_wind = sum(X[:N])\n",
    "    avr_v = [sum_wind/N]\n",
    "    for i in range(N,len(X)):\n",
    "        sum_wind -= X[i-N]\n",
    "        sum_wind += X[i]\n",
    "        avr_v.append(sum_wind/N)\n",
    "    return avr_v\n",
    "    \n",
    "# X = [1,2,3,4,5,6,7,8,9,10]\n",
    "# N = 3\n",
    "\n",
    "# Sum((Yi - (a*Xi+b))^2) + q * (a^2+ ...)\n",
    "\n",
    "#   Fa = dSum((Yi - (a*Xi+b))^2)/da = 0\n",
    "#   Fb = d .../db = 0\n",
    "  \n",
    "#   a2 = a + L * Fa\n",
    "#   b2 = b + L *Fb"
   ]
  },
  {
   "cell_type": "code",
   "execution_count": 2,
   "id": "standing-update",
   "metadata": {},
   "outputs": [
    {
     "data": {
      "text/plain": [
       "[2.0, 3.0, 4.0, 5.0, 6.0, 7.0, 8.0, 9.0]"
      ]
     },
     "execution_count": 2,
     "metadata": {},
     "output_type": "execute_result"
    }
   ],
   "source": [
    "X = [1,2,3,4,5,6,7,8,9,10]\n",
    "N = 3\n",
    "mov_avg(X, N)"
   ]
  },
  {
   "cell_type": "code",
   "execution_count": null,
   "id": "commercial-savage",
   "metadata": {},
   "outputs": [],
   "source": []
  }
 ],
 "metadata": {
  "kernelspec": {
   "display_name": "Python 3",
   "language": "python",
   "name": "python3"
  },
  "language_info": {
   "codemirror_mode": {
    "name": "ipython",
    "version": 3
   },
   "file_extension": ".py",
   "mimetype": "text/x-python",
   "name": "python",
   "nbconvert_exporter": "python",
   "pygments_lexer": "ipython3",
   "version": "3.8.5"
  }
 },
 "nbformat": 4,
 "nbformat_minor": 5
}
