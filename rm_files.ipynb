{
 "cells": [
  {
   "cell_type": "code",
   "execution_count": 1,
   "id": "extra-envelope",
   "metadata": {},
   "outputs": [],
   "source": [
    "from pathlib import Path"
   ]
  },
  {
   "cell_type": "code",
   "execution_count": 81,
   "id": "hindu-renewal",
   "metadata": {},
   "outputs": [],
   "source": [
    "files = Path('./').rglob(\".DS_Store\")\n",
    "for file in files:\n",
    "    file.unlink()"
   ]
  },
  {
   "cell_type": "code",
   "execution_count": 71,
   "id": "covered-olympus",
   "metadata": {},
   "outputs": [],
   "source": [
    "import shutil\n",
    "files = Path('./').rglob(\"Debug\")\n",
    "for file in files:\n",
    "    shutil.rmtree(file)"
   ]
  },
  {
   "cell_type": "code",
   "execution_count": null,
   "id": "bibliographic-september",
   "metadata": {},
   "outputs": [],
   "source": []
  },
  {
   "cell_type": "code",
   "execution_count": 82,
   "id": "understanding-black",
   "metadata": {},
   "outputs": [],
   "source": [
    "files = Path('./').rglob(\"*\")\n",
    "for f in files:\n",
    "    if f.is_file() and f.suffix not in ['.doc','.cpp','.h','.txt','.ipynb']:\n",
    "        print(f)"
   ]
  },
  {
   "cell_type": "code",
   "execution_count": 79,
   "id": "necessary-impossible",
   "metadata": {},
   "outputs": [],
   "source": [
    "Path('Object_C++_2/lab4/lab_4_udate230506/lab_4_nadili/RCa02552').unlink()"
   ]
  },
  {
   "cell_type": "code",
   "execution_count": null,
   "id": "moderate-bidding",
   "metadata": {},
   "outputs": [],
   "source": []
  }
 ],
 "metadata": {
  "kernelspec": {
   "display_name": "Python 3",
   "language": "python",
   "name": "python3"
  },
  "language_info": {
   "codemirror_mode": {
    "name": "ipython",
    "version": 3
   },
   "file_extension": ".py",
   "mimetype": "text/x-python",
   "name": "python",
   "nbconvert_exporter": "python",
   "pygments_lexer": "ipython3",
   "version": "3.8.5"
  }
 },
 "nbformat": 4,
 "nbformat_minor": 5
}
