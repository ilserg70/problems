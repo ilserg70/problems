{
 "cells": [
  {
   "cell_type": "markdown",
   "id": "sunrise-semiconductor",
   "metadata": {},
   "source": [
    "# Symmetry Systems"
   ]
  },
  {
   "cell_type": "markdown",
   "id": "spectacular-signal",
   "metadata": {},
   "source": [
    "June 1, 2021\n",
    "\n",
    "Input: s = \"catsanddog\", wordDict = [\"cat\",\"cats\",\"and\",\"sand\",\"dog\"]\n",
    "\n",
    "Output: [\"cats and dog\",\"cat sand dog\"]\n",
    "\n",
    "Input: s = \"pineapplepenapple\", wordDict = [\"apple\",\"pen\",\"applepen\",\"pine\",\"pineapple\"]\n",
    "\n",
    "Output: [\"pine apple pen apple\",\"pineapple pen apple\",\"pine applepen apple\"]\n",
    "\n",
    "Cat : [0, 3], [10, 13], []\n",
    "Cats: [0, 4], [20, 24], []\n",
    "And: [4, 7],\n",
    "Sand: [3, 7],\n",
    "\n",
    "[0, 3],  [0, 4],  [3, 7],  [4, 7], [10, 13],  [20, 24]\n",
    "\n",
    "\n",
    "Catsanddog\n",
    "\n",
    "‘’, ‘sanddog’ => cat\n",
    "‘S’ ‘dog’ => and\n",
    "‘’, ‘’ => dog\n",
    "Function(input, res=[], all_res=[])\n",
    "\n",
    "Catsanddog res=[cat]\n",
    "\n",
    "‘’\t\t\t‘‘sanddog’ res=[‘cat’,’and’]\n",
    "\t\t‘s’\t\t\t‘dog’ res=[‘cat’,’and’,’dog’] => all_res\n",
    "\t\t\t\t‘’\t\t‘’\n",
    "\"cats and dog\".replace(‘ ‘, ‘’)\t→  \"catsanddog\"\n",
    "\n",
    "\n",
    "def func(input, res, all_res):\n",
    "\tFor w in wordDict:\n",
    "\t\ti = input.find(w)\n",
    "\t\tIf i>=0:\n",
    "\t\t\tres.append(w)\n",
    "\t\t\tIf i>0:\n",
    "\t\t\t\tfunc(input[:i], res.copy(), all_res)\n",
    "\t\t\tElse:\n",
    "\t\t\t\tall_res.append(res.copy())\n",
    "\t\t\tIf i+len(w)<len(input):\n",
    "\t\t\t\tfunc(input[i+len(w):], res.copy(), all_res)\n",
    "\t\t\tElse:\n",
    "\t\t\t\tall_res.append(res.copy())\n",
    "all_res=[]\n",
    "func(input, res=[], all_res)\n",
    "print(all_res)\n",
    "\t\t\t"
   ]
  },
  {
   "cell_type": "code",
   "execution_count": 36,
   "id": "suited-proposal",
   "metadata": {},
   "outputs": [],
   "source": [
    "def words_include(text, word_list):\n",
    "    res  = set()\n",
    "    for w in word_list:\n",
    "        i = text.find(w)\n",
    "        if i==0:\n",
    "            left = words_include(text[:i], word_list)\n",
    "            right = words_include(text[i+len(w):], word_list)\n",
    "            if not left:\n",
    "                left.add('')\n",
    "            if not right:\n",
    "                right.add('')\n",
    "            for l in left:\n",
    "                for r in right:\n",
    "                    res.add(l + ' ' + w + ' ' + r)\n",
    "    return res"
   ]
  },
  {
   "cell_type": "code",
   "execution_count": 37,
   "id": "caring-myrtle",
   "metadata": {},
   "outputs": [
    {
     "name": "stdout",
     "output_type": "stream",
     "text": [
      " cats  and  dog \n",
      " cat  sand  dog \n"
     ]
    }
   ],
   "source": [
    "text = 'catsanddog'\n",
    "word_list = [\"cat\",\"cats\",\"and\",\"sand\",\"dog\"]\n",
    "all_res = []\n",
    "res = words_include(text, word_list)\n",
    "for r in res:\n",
    "    print(r)"
   ]
  },
  {
   "cell_type": "code",
   "execution_count": 38,
   "id": "immune-individual",
   "metadata": {},
   "outputs": [
    {
     "name": "stdout",
     "output_type": "stream",
     "text": [
      " pine  apple  pen  apple \n",
      " pine  applepen  apple \n",
      " pineapple  pen  apple \n"
     ]
    }
   ],
   "source": [
    "text = 'pineapplepenapple'\n",
    "word_list = [\"apple\",\"pen\",\"applepen\",\"pine\",\"pineapple\"]\n",
    "all_res = []\n",
    "res = words_include(text, word_list)\n",
    "for r in res:\n",
    "    print(r)"
   ]
  },
  {
   "cell_type": "code",
   "execution_count": null,
   "id": "broke-motor",
   "metadata": {},
   "outputs": [],
   "source": []
  }
 ],
 "metadata": {
  "kernelspec": {
   "display_name": "Python 3",
   "language": "python",
   "name": "python3"
  },
  "language_info": {
   "codemirror_mode": {
    "name": "ipython",
    "version": 3
   },
   "file_extension": ".py",
   "mimetype": "text/x-python",
   "name": "python",
   "nbconvert_exporter": "python",
   "pygments_lexer": "ipython3",
   "version": "3.8.5"
  }
 },
 "nbformat": 4,
 "nbformat_minor": 5
}
