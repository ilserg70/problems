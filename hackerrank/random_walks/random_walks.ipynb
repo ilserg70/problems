{
 "cells": [
  {
   "cell_type": "markdown",
   "metadata": {},
   "source": [
    "### Random Walks"
   ]
  },
  {
   "cell_type": "code",
   "execution_count": 1,
   "metadata": {},
   "outputs": [],
   "source": [
    "import re\n",
    "import random as rm\n",
    "rm.seed(5)\n",
    "\n",
    "def read_file(file_name):\n",
    "    with open(file_name, 'r') as f:\n",
    "        content = f.readlines()\n",
    "    return [x.strip() for x in content]\n",
    "\n",
    "def make_graph(file_name):\n",
    "    content = read_file(file_name)\n",
    "    g = {}\n",
    "    for line in content:\n",
    "        m = re.search('(.+) -> (.+)', line)\n",
    "        if m:\n",
    "            a, b = m.group(1), m.group(2)\n",
    "            if a not in g:\n",
    "                g[a] = set()\n",
    "            g[a].add(b)\n",
    "    for k in g.keys():\n",
    "        g[k] = list(g[k])\n",
    "    return g\n",
    "\n",
    "def rand_walks(g, L, N):\n",
    "    m = N*N\n",
    "    while N > 0 and m > 0:\n",
    "        p = [rm.choice(list(g.keys()))]\n",
    "        while len(p) < L:\n",
    "            e = p[-1]\n",
    "            if e not in g:\n",
    "                break\n",
    "            p.append(rm.choice(g[e]))\n",
    "        if len(p) == L:\n",
    "            print(p)\n",
    "            N -= 1\n",
    "        m -= 1"
   ]
  },
  {
   "cell_type": "code",
   "execution_count": 2,
   "metadata": {},
   "outputs": [
    {
     "name": "stdout",
     "output_type": "stream",
     "text": [
      "['F', 'F', 'F', 'F']\n",
      "['H', 'G', 'H', 'G']\n",
      "['D', 'E', 'A', 'B']\n",
      "['F', 'F', 'F', 'F']\n",
      "['G', 'H', 'G', 'H']\n",
      "['B', 'E', 'A', 'C']\n",
      "['B', 'E', 'A', 'C']\n",
      "['H', 'G', 'H', 'G']\n",
      "['G', 'H', 'G', 'H']\n",
      "['A', 'B', 'E', 'A']\n"
     ]
    }
   ],
   "source": [
    "g = make_graph(\"random_walks_graph.txt\")\n",
    "rand_walks(g, L=4, N=10)"
   ]
  },
  {
   "cell_type": "code",
   "execution_count": null,
   "metadata": {},
   "outputs": [],
   "source": []
  }
 ],
 "metadata": {
  "kernelspec": {
   "display_name": "Python 3",
   "language": "python",
   "name": "python3"
  },
  "language_info": {
   "codemirror_mode": {
    "name": "ipython",
    "version": 3
   },
   "file_extension": ".py",
   "mimetype": "text/x-python",
   "name": "python",
   "nbconvert_exporter": "python",
   "pygments_lexer": "ipython3",
   "version": "3.7.4"
  }
 },
 "nbformat": 4,
 "nbformat_minor": 2
}
