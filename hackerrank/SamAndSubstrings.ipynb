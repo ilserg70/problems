{
 "cells": [
  {
   "cell_type": "markdown",
   "metadata": {},
   "source": [
    "#### Sam and substrings\n",
    "Samantha and Sam are playing a numbers game. Given a number as a string, no leading zeros, determine the sum of all integer values of substrings of the string. For example, if the string is , the substrings are  and . Their sum is .\n",
    "\n",
    "Given an integer as a string, sum all of its substrings cast as integers. As the number may become large, return the value modulo 10^9 + 7.\n",
    "\n",
    "The sub-strings of 123 are 1, 2, 3, 12, 23, 123 which sums to 164."
   ]
  },
  {
   "cell_type": "code",
   "execution_count": 23,
   "metadata": {},
   "outputs": [],
   "source": [
    "def substrings(n):\n",
    "    # m = len(str(n))\n",
    "    # X0  X1  .  . Xi  .  .  .  . Xm-1\n",
    "    # |<- i+1=4 ->|i=4|<-  m-i-1  ->|\n",
    "    # Si = (i+1) * Xi * (10**(m-i-1) + 10**(m-i-2) + 100 + 10 +1 ) => \n",
    "    # Si = (i+1) * Xi * (10**(m-i)-1)/(10-1)\n",
    "    # result: sum(Si), i in range(m)\n",
    "    nStr = str(n)\n",
    "    mod = 10**9+7\n",
    "    m = len(nStr)\n",
    "    q = [1] * m\n",
    "    for i in range(1,m):\n",
    "        q[i] = (q[i-1] * 10) % mod\n",
    "    for i in range(1,m):\n",
    "        q[i] += q[i-1] % mod\n",
    "    s = 0\n",
    "    for i in range(m):\n",
    "        v = int(nStr[i])\n",
    "        if v != 0:\n",
    "            s = (s + (v * (i+1) * q[m-i-1]) % mod) % mod\n",
    "    return s"
   ]
  },
  {
   "cell_type": "code",
   "execution_count": 24,
   "metadata": {},
   "outputs": [
    {
     "data": {
      "text/plain": [
       "164"
      ]
     },
     "execution_count": 24,
     "metadata": {},
     "output_type": "execute_result"
    }
   ],
   "source": [
    "substrings(123)# 164"
   ]
  },
  {
   "cell_type": "code",
   "execution_count": null,
   "metadata": {},
   "outputs": [],
   "source": []
  },
  {
   "cell_type": "code",
   "execution_count": null,
   "metadata": {},
   "outputs": [],
   "source": []
  }
 ],
 "metadata": {
  "kernelspec": {
   "display_name": "Python 3",
   "language": "python",
   "name": "python3"
  },
  "language_info": {
   "codemirror_mode": {
    "name": "ipython",
    "version": 3
   },
   "file_extension": ".py",
   "mimetype": "text/x-python",
   "name": "python",
   "nbconvert_exporter": "python",
   "pygments_lexer": "ipython3",
   "version": "3.7.3"
  }
 },
 "nbformat": 4,
 "nbformat_minor": 2
}
