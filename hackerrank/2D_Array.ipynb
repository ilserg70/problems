{
 "cells": [
  {
   "cell_type": "markdown",
   "metadata": {},
   "source": [
    "#### 2D Array"
   ]
  },
  {
   "cell_type": "code",
   "execution_count": 54,
   "metadata": {},
   "outputs": [],
   "source": [
    "def hourglassSum(arr):\n",
    "    if not arr:\n",
    "        return 0\n",
    "    n1 = len(arr)\n",
    "    n2 = len(arr[0])\n",
    "    template = [(0,0),(0,-1),(0,-2),(-1,-1),(-2,0),(-2,-1),(-2,-2)]\n",
    "    res = {}\n",
    "    for i in range(n1):\n",
    "        for j in range(n2):\n",
    "            for x, y in template:\n",
    "                k = (i+x,j+y)\n",
    "                if k[0] >= 0 and k[0] < n1-2 and k[1] >= 0 and k[1] < n2-2:\n",
    "                    if k in res:\n",
    "                        res[k] += arr[i][j]\n",
    "                    else:\n",
    "                        res[k] = arr[i][j]\n",
    "    return max(res.values())"
   ]
  },
  {
   "cell_type": "code",
   "execution_count": 55,
   "metadata": {},
   "outputs": [
    {
     "data": {
      "text/plain": [
       "19"
      ]
     },
     "execution_count": 55,
     "metadata": {},
     "output_type": "execute_result"
    }
   ],
   "source": [
    "arr = [\n",
    "    [1, 1, 1, 0, 0, 0],\n",
    "    [0, 1, 0, 0, 0, 0],\n",
    "    [1, 1, 1, 0, 0, 0],\n",
    "    [0, 0, 2, 4, 4, 0],\n",
    "    [0, 0, 0, 2, 0, 0],\n",
    "    [0, 0, 1, 2, 4, 0]\n",
    "]\n",
    "hourglassSum(arr)"
   ]
  },
  {
   "cell_type": "code",
   "execution_count": 56,
   "metadata": {},
   "outputs": [
    {
     "data": {
      "text/plain": [
       "0"
      ]
     },
     "execution_count": 56,
     "metadata": {},
     "output_type": "execute_result"
    }
   ],
   "source": [
    "arr = [\n",
    "    [-1,  1, -1,  0,  0, 0],\n",
    "    [ 0, -1,  0,  0,  0, 0],\n",
    "    [-1, -1, -1,  0,  0, 0],\n",
    "    [ 0, -9,  2, -4, -4, 0],\n",
    "    [-7,  0,  0, -2,  0, 0],\n",
    "    [ 0,  0, -1, -2, -4, 0]\n",
    "]\n",
    "hourglassSum(arr)"
   ]
  }
 ],
 "metadata": {
  "kernelspec": {
   "display_name": "Python 3",
   "language": "python",
   "name": "python3"
  },
  "language_info": {
   "codemirror_mode": {
    "name": "ipython",
    "version": 3
   },
   "file_extension": ".py",
   "mimetype": "text/x-python",
   "name": "python",
   "nbconvert_exporter": "python",
   "pygments_lexer": "ipython3",
   "version": "3.7.3"
  }
 },
 "nbformat": 4,
 "nbformat_minor": 2
}
