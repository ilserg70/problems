{
 "cells": [
  {
   "cell_type": "markdown",
   "metadata": {},
   "source": [
    "#### Decibinary Numbers\n",
    "https://www.hackerrank.com/challenges/decibinary-numbers/problem?h_l=interview&playlist_slugs%5B%5D=interview-preparation-kit&playlist_slugs%5B%5D=dynamic-programming\n",
    "\n",
    "(hard)\n",
    "\n",
    "Decibinary format:\n",
    "\n",
    "(xyzuvw) -> x * 2^5 + y * 2^4 + z * 2^3 + u * 2^2 + v * 2^1 + w * 2^0\n",
    "\n",
    "where:\n",
    "\n",
    "0 <= x, y, z, ..., w <= 9\n",
    "\n",
    "- Decibinary numbers are ordered in according with they decimal values.\n",
    "- If decimal values are the same then they ordered as decimal numbers.\n",
    "- Use 1-based indexing.\n",
    "\n",
    "n -> db -> d\n",
    "\n",
    "1 -> 0 -> 0\n",
    "\n",
    "2 -> 1 -> 1\n",
    "\n",
    "3 -> 2 -> 2\n",
    "\n",
    "4 -> 10 -> 2\n",
    "\n",
    "5 -> 3 -> 3\n",
    "\n",
    "6 -> 11 -> 3\n",
    "\n",
    "7 -> 4 -> 4\n",
    "\n",
    "8 -> 12 -> 4\n",
    "\n",
    "9 -> 20 -> 4\n",
    "\n",
    "10 -> 100 -> 4\n",
    "\n",
    "..."
   ]
  },
  {
   "cell_type": "code",
   "execution_count": null,
   "metadata": {},
   "outputs": [],
   "source": [
    "def decibinaryNumbers(x):\n",
    "    db = [0,1]\n",
    "    def get(i):\n",
    "        "
   ]
  },
  {
   "cell_type": "code",
   "execution_count": 1,
   "metadata": {},
   "outputs": [],
   "source": [
    "xx = [1,2,3,4,10,8,23,19,16,26,7,6,19,25,6,8,20,10,27,24,30,11]\n",
    "yy = [0,1,2,10,100,12,23,102,14,111,4,11,102,103,11,12,110,100,8,31,32,5]"
   ]
  }
 ],
 "metadata": {
  "kernelspec": {
   "display_name": "Python 3",
   "language": "python",
   "name": "python3"
  },
  "language_info": {
   "codemirror_mode": {
    "name": "ipython",
    "version": 3
   },
   "file_extension": ".py",
   "mimetype": "text/x-python",
   "name": "python",
   "nbconvert_exporter": "python",
   "pygments_lexer": "ipython3",
   "version": "3.7.3"
  }
 },
 "nbformat": 4,
 "nbformat_minor": 2
}
