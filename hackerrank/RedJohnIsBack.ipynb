{
 "cells": [
  {
   "cell_type": "markdown",
   "metadata": {},
   "source": [
    "#### Red John is Back\n",
    "https://www.hackerrank.com/challenges/red-john-is-back/problem?utm_campaign=challenge-recommendation&utm_medium=email&utm_source=24-hour-campaign\n",
    "\n",
    "Red John has committed another murder. This time, he doesn't leave a red smiley behind. Instead he leaves a puzzle for Patrick Jane to solve. He also texts Teresa Lisbon that if Patrick is successful, he will turn himself in. The puzzle begins as follows.\n",
    "\n",
    "There is a wall of size 4xn in the victim's house. The victim has an infinite supply of bricks of size 4x1 and 1x4 in her house. There is a hidden safe which can only be opened by a particular configuration of bricks. First we must calculate the total number of ways in which the bricks can be arranged so that the entire wall is covered. The following diagram shows how bricks might be arranged to cover walls.\n",
    "There is one more step to the puzzle. Call the number of possible arrangements . Patrick must calculate the number of prime numbers  in the inclusive range."
   ]
  },
  {
   "cell_type": "code",
   "execution_count": 90,
   "metadata": {},
   "outputs": [],
   "source": [
    "import math\n",
    "def redJohn(n):\n",
    "    h = {}\n",
    "    def comb(m, k):\n",
    "        if m == 0 or k == 0 or k == m:\n",
    "            return 1\n",
    "        if k == 1 or k == m - 1:\n",
    "            return m\n",
    "        if (m,k) in h:\n",
    "            return h[(m,k)]\n",
    "        h[(m,k)] = comb(m-1, k-1) + comb(m-1, k)\n",
    "        return h[(m,k)]\n",
    "        \n",
    "    def isPrime(x, p):\n",
    "        max_y = int(math.sqrt(x))\n",
    "        for y in p:\n",
    "            if y > max_y:\n",
    "                return True\n",
    "            if x % y == 0:\n",
    "                return False\n",
    "        return True\n",
    "\n",
    "    def numPrimes(N):\n",
    "        if N < 2:\n",
    "            return 0\n",
    "        p = [2]\n",
    "        for x in range(3, N+1, 2):\n",
    "            if isPrime(x, p):\n",
    "                p.append(x)\n",
    "        return len(p)\n",
    "    \n",
    "    N = 1\n",
    "    for k in range(1, int(n/4) + 1):\n",
    "        m = n - 4 * k + k\n",
    "        N += comb(m, k)\n",
    "\n",
    "    return numPrimes(N)"
   ]
  },
  {
   "cell_type": "code",
   "execution_count": 95,
   "metadata": {},
   "outputs": [],
   "source": [
    "test = {\n",
    "    34: 3385,\n",
    "    31: 1432,\n",
    "    35: 4522,\n",
    "    10: 6,\n",
    "    38: 10794,\n",
    "    18: 42,\n",
    "    27: 462,\n",
    "    15: 19,\n",
    "    38: 10794,\n",
    "    14: 15,\n",
    "    18: 42,\n",
    "    4: 1,\n",
    "    5: 2,\n",
    "    23: 155,\n",
    "    9: 4,\n",
    "    31: 1432,\n",
    "    10: 6,\n",
    "    25: 269\n",
    "}"
   ]
  },
  {
   "cell_type": "code",
   "execution_count": 96,
   "metadata": {},
   "outputs": [],
   "source": [
    "for k in test.keys():\n",
    "    m = redJohn(k)\n",
    "    if m != test[k]:\n",
    "        print(\"redJohn({}) = {} != {}\".format(k,m,test[k]))"
   ]
  }
 ],
 "metadata": {
  "kernelspec": {
   "display_name": "Python 3",
   "language": "python",
   "name": "python3"
  },
  "language_info": {
   "codemirror_mode": {
    "name": "ipython",
    "version": 3
   },
   "file_extension": ".py",
   "mimetype": "text/x-python",
   "name": "python",
   "nbconvert_exporter": "python",
   "pygments_lexer": "ipython3",
   "version": "3.7.3"
  }
 },
 "nbformat": 4,
 "nbformat_minor": 2
}
