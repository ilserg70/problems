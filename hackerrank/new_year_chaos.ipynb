{
 "cells": [
  {
   "cell_type": "markdown",
   "metadata": {},
   "source": [
    "#### New Year Chaos (medium)\n",
    "https://www.hackerrank.com/challenges/new-year-chaos/problem?h_l=interview&playlist_slugs%5B%5D=interview-preparation-kit&playlist_slugs%5B%5D=arrays"
   ]
  },
  {
   "cell_type": "code",
   "execution_count": 17,
   "metadata": {},
   "outputs": [],
   "source": [
    "def minimumBribes(q):\n",
    "    if not q or len(q) == 1:\n",
    "        return 0\n",
    "    elif len(q) == 2:\n",
    "        return 0 if q[0] == 1 else 1\n",
    "    elif len(q) > 3:\n",
    "        for i in range(len(q)):\n",
    "            if not (i - 1 <= q[i] and q[i] <= i + 3):\n",
    "                print(f\"i = {i}, q[i] = {q[i]}\")\n",
    "                return \"Too chaotic\"\n",
    "    res = 0\n",
    "    for i in range(len(q)):\n",
    "        if q[i] == i+1:\n",
    "            if i > 0 and i < len(q)-1 and q[i-1]==i+2 and q[i+1]==i:\n",
    "                res += 2\n",
    "        elif q[i] > i+1:\n",
    "            res += q[i]-1-i\n",
    "        else:\n",
    "            res += i+1 - q[i]\n",
    "    return res // 2"
   ]
  },
  {
   "cell_type": "code",
   "execution_count": 10,
   "metadata": {},
   "outputs": [
    {
     "data": {
      "text/plain": [
       "3"
      ]
     },
     "execution_count": 10,
     "metadata": {},
     "output_type": "execute_result"
    }
   ],
   "source": [
    "minimumBribes([2, 1, 5, 3, 4])# 3"
   ]
  },
  {
   "cell_type": "code",
   "execution_count": 11,
   "metadata": {},
   "outputs": [
    {
     "data": {
      "text/plain": [
       "'Too chaotic'"
      ]
     },
     "execution_count": 11,
     "metadata": {},
     "output_type": "execute_result"
    }
   ],
   "source": [
    "minimumBribes([2, 5, 1, 3, 4])# \"Too chaotic\""
   ]
  },
  {
   "cell_type": "code",
   "execution_count": 18,
   "metadata": {},
   "outputs": [
    {
     "name": "stdout",
     "output_type": "stream",
     "text": [
      "i = 7, q[i] = 4\n"
     ]
    },
    {
     "data": {
      "text/plain": [
       "'Too chaotic'"
      ]
     },
     "execution_count": 18,
     "metadata": {},
     "output_type": "execute_result"
    }
   ],
   "source": [
    "minimumBribes([1, 2, 5, 3, 7, 8, 6, 4])# 7"
   ]
  },
  {
   "cell_type": "code",
   "execution_count": null,
   "metadata": {},
   "outputs": [],
   "source": []
  }
 ],
 "metadata": {
  "kernelspec": {
   "display_name": "Python 3",
   "language": "python",
   "name": "python3"
  },
  "language_info": {
   "codemirror_mode": {
    "name": "ipython",
    "version": 3
   },
   "file_extension": ".py",
   "mimetype": "text/x-python",
   "name": "python",
   "nbconvert_exporter": "python",
   "pygments_lexer": "ipython3",
   "version": "3.7.4"
  }
 },
 "nbformat": 4,
 "nbformat_minor": 2
}
