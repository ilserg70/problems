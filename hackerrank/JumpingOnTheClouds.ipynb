{
 "cells": [
  {
   "cell_type": "markdown",
   "metadata": {},
   "source": [
    "#### Jumping on the Clouds\n",
    "https://www.hackerrank.com/challenges/jumping-on-the-clouds/problem?h_l=interview&playlist_slugs%5B%5D=interview-preparation-kit&playlist_slugs%5B%5D=warmup\n",
    "\n",
    "Emma is playing a new mobile game that starts with consecutively numbered clouds. Some of the clouds are thunderheads and others are cumulus. She can jump on any cumulus cloud having a number that is equal to the number of the current cloud plus  or . She must avoid the thunderheads. Determine the minimum number of jumps it will take Emma to jump from her starting postion to the last cloud. It is always possible to win the game.\n",
    "\n",
    "For each game, Emma will get an array of clouds numbered  if they are safe or  if they must be avoided. For example,  indexed from . The number on each cloud is its index in the list so she must avoid the clouds at indexes  and . She could follow the following two paths:  or . The first path takes jumps while the second takes .\n",
    "\n",
    "Function Description\n",
    "\n",
    "Complete the jumpingOnClouds function in the editor below. It should return the minimum number of jumps required, as an integer.\n",
    "\n",
    "jumpingOnClouds has the following parameter(s):\n",
    "\n",
    "c: an array of binary integers\n",
    "Input Format\n",
    "\n",
    "The first line contains an integer , the total number of clouds. The second line contains  space-separated binary integers describing clouds  where .\n",
    "\n",
    "Constraints\n",
    "\n",
    "2 <= n <= 100; c[i] == 0 or 1; c[0] = c[n-1] = 0\n",
    "\n",
    "Output Format\n",
    "\n",
    "Print the minimum number of jumps needed to win the game.\n",
    "\n",
    "Sample Input 0\n",
    "\n",
    "7\n",
    "0 0 1 0 0 1 0\n",
    "Sample Output 0\n",
    "\n",
    "4"
   ]
  },
  {
   "cell_type": "code",
   "execution_count": 28,
   "metadata": {},
   "outputs": [],
   "source": [
    "import math\n",
    "import os\n",
    "import random\n",
    "import re\n",
    "import sys\n",
    "\n",
    "# Complete the jumpingOnClouds function below.\n",
    "def jumpingOnClouds(c):\n",
    "    h = {} # the rest jumps\n",
    "    def minJumps(i=0, jumps=0):\n",
    "        if i in h:\n",
    "            return h[i] + jumps\n",
    "        if i == len(c)-1:\n",
    "            h[i] = 0\n",
    "            return jumps\n",
    "        j1 = minJumps(i+1, jumps+1) if i < len(c)-1 and c[i+1] != 1 else None\n",
    "        j2 = minJumps(i+2, jumps+1) if i < len(c)-2 and c[i+2] != 1 else None\n",
    "        j = min(j1, j2) if j1 is not None and j2 is not None else j1 if j1 is not None else j2\n",
    "        h[i] = j - jumps\n",
    "        return j\n",
    "    return minJumps()"
   ]
  },
  {
   "cell_type": "code",
   "execution_count": 29,
   "metadata": {},
   "outputs": [
    {
     "data": {
      "text/plain": [
       "3"
      ]
     },
     "execution_count": 29,
     "metadata": {},
     "output_type": "execute_result"
    }
   ],
   "source": [
    "c = [0,1,0,0,0,1,0]\n",
    "jumpingOnClouds(c)"
   ]
  },
  {
   "cell_type": "code",
   "execution_count": 30,
   "metadata": {},
   "outputs": [
    {
     "data": {
      "text/plain": [
       "4"
      ]
     },
     "execution_count": 30,
     "metadata": {},
     "output_type": "execute_result"
    }
   ],
   "source": [
    "c = [0,0,1,0,0,1,0]\n",
    "jumpingOnClouds(c)"
   ]
  },
  {
   "cell_type": "code",
   "execution_count": 31,
   "metadata": {},
   "outputs": [
    {
     "data": {
      "text/plain": [
       "10"
      ]
     },
     "execution_count": 31,
     "metadata": {},
     "output_type": "execute_result"
    }
   ],
   "source": [
    "c = [0,0,1,0,0,1,0,0,0,0,0,1,0,1,0,0,0,1,0]\n",
    "jumpingOnClouds(c)"
   ]
  },
  {
   "cell_type": "code",
   "execution_count": null,
   "metadata": {},
   "outputs": [],
   "source": []
  }
 ],
 "metadata": {
  "kernelspec": {
   "display_name": "Python 3",
   "language": "python",
   "name": "python3"
  },
  "language_info": {
   "codemirror_mode": {
    "name": "ipython",
    "version": 3
   },
   "file_extension": ".py",
   "mimetype": "text/x-python",
   "name": "python",
   "nbconvert_exporter": "python",
   "pygments_lexer": "ipython3",
   "version": "3.7.3"
  }
 },
 "nbformat": 4,
 "nbformat_minor": 2
}
