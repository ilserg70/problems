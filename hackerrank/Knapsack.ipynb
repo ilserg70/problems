{
 "cells": [
  {
   "cell_type": "markdown",
   "metadata": {},
   "source": [
    "#### Knapsack\n",
    "Given an array of integers and a target sum, determine the sum nearest to but not exceeding the target that can be created. To create the sum, use any element of your array zero or more times.\n",
    "\n",
    "Function Description\n",
    "\n",
    "Complete the unboundedKnapsack function in the editor below. It must return an integer that represents the sum nearest to without exceeding the target value.\n",
    "\n",
    "unboundedKnapsack has the following parameter(s):\n",
    "\n",
    "k: an integer\n",
    "arr: an array of integers\n",
    "\n",
    "Input Format\n",
    "\n",
    "The first line contains an integer , the number of test cases.\n",
    "\n",
    "Each of the next  pairs of lines are as follows: \n",
    "- The first line contains two integers  and , the length of  and the target sum. \n",
    "- The second line contains  space separated integers . \n",
    "\n",
    "Output Format\n",
    "\n",
    "Print the maximum sum for each test case which is as near as possible, but not exceeding, to the target sum on a separate line.\n",
    "\n",
    "Sample Input\n",
    "\n",
    "2\n",
    "\n",
    "3 12\n",
    "\n",
    "1 6 9\n",
    "\n",
    "5 9\n",
    "\n",
    "3 4 4 4 8\n",
    "\n",
    "Sample Output\n",
    "\n",
    "12\n",
    "\n",
    "9"
   ]
  },
  {
   "cell_type": "code",
   "execution_count": 33,
   "metadata": {},
   "outputs": [],
   "source": [
    "def unboundedKnapsack(k, arr):\n",
    "    if not arr or k < min(arr):\n",
    "        return 0\n",
    "    \n",
    "    if 1 in arr:\n",
    "        return k\n",
    "    \n",
    "    # filter O(n*log(n))\n",
    "    arr = sorted(list(filter(lambda x: x <= k, set(arr))))\n",
    "    if not arr:\n",
    "        return 0\n",
    "    \n",
    "    # check simple solution O(n)\n",
    "    for val in arr:\n",
    "        if k % val == 0:\n",
    "            return k\n",
    "    \n",
    "    # is val divided on any of in arr2\n",
    "    def is_divided(val, arr2):\n",
    "        for val_ in arr2:\n",
    "            if val % val_ == 0:\n",
    "                return True\n",
    "        return False\n",
    "    \n",
    "    def remove_redundant(arr):\n",
    "        arr = sorted(arr)\n",
    "        arr2 = []\n",
    "        for val in arr:\n",
    "            if not is_divided(val, arr2):\n",
    "                arr2.append(val)\n",
    "        return arr2\n",
    "    \n",
    "    arr = remove_redundant(arr)\n",
    "    \n",
    "    def find_recurs(k, arr, k_=0):\n",
    "        res = []\n",
    "        for val in arr:\n",
    "            if k_ + val < k:\n",
    "                res.append(find_recurs(k, arr, k_ + val))\n",
    "                if res[-1] == k:\n",
    "                    return k\n",
    "            elif k_ + val == k:\n",
    "                return k\n",
    "            else:\n",
    "                res.append(k_)\n",
    "                break\n",
    "        return max(res)\n",
    "    \n",
    "    return find_recurs(k, arr)\n",
    "    "
   ]
  },
  {
   "cell_type": "code",
   "execution_count": 34,
   "metadata": {},
   "outputs": [
    {
     "data": {
      "text/plain": [
       "0"
      ]
     },
     "execution_count": 34,
     "metadata": {},
     "output_type": "execute_result"
    }
   ],
   "source": [
    "k = 1\n",
    "arr = [2] * 2000\n",
    "unboundedKnapsack(k, arr)"
   ]
  },
  {
   "cell_type": "code",
   "execution_count": 31,
   "metadata": {},
   "outputs": [
    {
     "data": {
      "text/plain": [
       "12"
      ]
     },
     "execution_count": 31,
     "metadata": {},
     "output_type": "execute_result"
    }
   ],
   "source": [
    "unboundedKnapsack(12, [1, 6, 9,])"
   ]
  },
  {
   "cell_type": "code",
   "execution_count": 30,
   "metadata": {},
   "outputs": [
    {
     "data": {
      "text/plain": [
       "9"
      ]
     },
     "execution_count": 30,
     "metadata": {},
     "output_type": "execute_result"
    }
   ],
   "source": [
    "unboundedKnapsack(9, [3, 4, 4, 4, 8])"
   ]
  },
  {
   "cell_type": "code",
   "execution_count": 27,
   "metadata": {},
   "outputs": [
    {
     "data": {
      "text/plain": [
       "123"
      ]
     },
     "execution_count": 27,
     "metadata": {},
     "output_type": "execute_result"
    }
   ],
   "source": [
    "unboundedKnapsack(123, [7,5,12,8,4])"
   ]
  },
  {
   "cell_type": "code",
   "execution_count": 28,
   "metadata": {},
   "outputs": [
    {
     "data": {
      "text/plain": [
       "12"
      ]
     },
     "execution_count": 28,
     "metadata": {},
     "output_type": "execute_result"
    }
   ],
   "source": [
    "unboundedKnapsack(12, [1, 6, 9])"
   ]
  },
  {
   "cell_type": "code",
   "execution_count": 29,
   "metadata": {},
   "outputs": [
    {
     "data": {
      "text/plain": [
       "9"
      ]
     },
     "execution_count": 29,
     "metadata": {},
     "output_type": "execute_result"
    }
   ],
   "source": [
    "unboundedKnapsack(9, [3, 4, 4, 4, 8])"
   ]
  },
  {
   "cell_type": "code",
   "execution_count": 17,
   "metadata": {},
   "outputs": [],
   "source": [
    "def find_recurs(k, arr, k_=0):\n",
    "    res = []\n",
    "    for val in arr:\n",
    "        if k_ + val < k:\n",
    "            res.append(find_recurs(k, arr, k_ + val))\n",
    "            if res[-1] == k:\n",
    "                return k\n",
    "        elif k_ + val == k:\n",
    "            return k\n",
    "        else:\n",
    "            res.append(k_)\n",
    "            break\n",
    "    return max(res)"
   ]
  },
  {
   "cell_type": "code",
   "execution_count": 24,
   "metadata": {},
   "outputs": [
    {
     "data": {
      "text/plain": [
       "12"
      ]
     },
     "execution_count": 24,
     "metadata": {},
     "output_type": "execute_result"
    }
   ],
   "source": [
    "find_recurs(12, [1, 6, 9])"
   ]
  },
  {
   "cell_type": "code",
   "execution_count": 25,
   "metadata": {},
   "outputs": [
    {
     "data": {
      "text/plain": [
       "9"
      ]
     },
     "execution_count": 25,
     "metadata": {},
     "output_type": "execute_result"
    }
   ],
   "source": [
    "find_recurs(9, [3, 4, 4, 4, 8])"
   ]
  }
 ],
 "metadata": {
  "kernelspec": {
   "display_name": "Python 3",
   "language": "python",
   "name": "python3"
  },
  "language_info": {
   "codemirror_mode": {
    "name": "ipython",
    "version": 3
   },
   "file_extension": ".py",
   "mimetype": "text/x-python",
   "name": "python",
   "nbconvert_exporter": "python",
   "pygments_lexer": "ipython3",
   "version": "3.7.3"
  }
 },
 "nbformat": 4,
 "nbformat_minor": 2
}
