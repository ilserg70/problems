{
 "cells": [
  {
   "cell_type": "markdown",
   "metadata": {},
   "source": [
    "#### Stock Maximize\n",
    "Your algorithms have become so good at predicting the market that you now know what the share price of Wooden Orange Toothpicks Inc. (WOT) will be for the next number of days.\n",
    "\n",
    "Each day, you can either buy one share of WOT, sell any number of shares of WOT that you own, or not make any transaction at all. What is the maximum profit you can obtain with an optimum trading strategy?\n",
    "\n",
    "For example, if you know that prices for the next two days are , you should buy one share day one, and sell it day two for a profit of . If they are instead , no profit can be made so you don't buy or sell stock those days.\n",
    "\n",
    "Function Description\n",
    "\n",
    "Complete the stockmax function in the editor below. It must return an integer that represents the maximum profit achievable.\n",
    "\n",
    "stockmax has the following parameter(s):\n",
    "\n",
    "prices: an array of integers that represent predicted daily stock prices"
   ]
  },
  {
   "cell_type": "code",
   "execution_count": 26,
   "metadata": {},
   "outputs": [],
   "source": [
    "def stockmax(prices):\n",
    "    def getNext(i, gain):\n",
    "        j = i\n",
    "        while j < len(prices)-1 and prices[j] >= prices[j+1]:\n",
    "            j += 1\n",
    "        if j >= len(prices)-1:\n",
    "            return (len(prices), gain)\n",
    "        from_idx, to_idx = j, j+1\n",
    "        while j < len(prices):\n",
    "            if prices[j] > prices[to_idx]:\n",
    "                to_idx = j\n",
    "            j += 1\n",
    "        for j in range(i, to_idx + 1):\n",
    "            delta = prices[to_idx] - prices[j]\n",
    "            if delta > 0:\n",
    "                gain += delta\n",
    "        return (to_idx, gain)\n",
    "    \n",
    "    i, gain  = 0, 0\n",
    "    while i < len(prices):\n",
    "        i, gain = getNext(i, gain)\n",
    "    return gain"
   ]
  },
  {
   "cell_type": "code",
   "execution_count": 27,
   "metadata": {},
   "outputs": [
    {
     "data": {
      "text/plain": [
       "4"
      ]
     },
     "execution_count": 27,
     "metadata": {},
     "output_type": "execute_result"
    }
   ],
   "source": [
    "stockmax([5, 4, 3, 4, 5]) # 4"
   ]
  },
  {
   "cell_type": "code",
   "execution_count": 28,
   "metadata": {},
   "outputs": [
    {
     "data": {
      "text/plain": [
       "0"
      ]
     },
     "execution_count": 28,
     "metadata": {},
     "output_type": "execute_result"
    }
   ],
   "source": [
    "stockmax([5, 3, 2]) # 0"
   ]
  },
  {
   "cell_type": "code",
   "execution_count": 29,
   "metadata": {},
   "outputs": [
    {
     "data": {
      "text/plain": [
       "197"
      ]
     },
     "execution_count": 29,
     "metadata": {},
     "output_type": "execute_result"
    }
   ],
   "source": [
    "stockmax([1, 2, 100]) # 197"
   ]
  },
  {
   "cell_type": "code",
   "execution_count": 30,
   "metadata": {},
   "outputs": [
    {
     "data": {
      "text/plain": [
       "3"
      ]
     },
     "execution_count": 30,
     "metadata": {},
     "output_type": "execute_result"
    }
   ],
   "source": [
    "stockmax([1, 3, 1, 2]) # 3"
   ]
  },
  {
   "cell_type": "code",
   "execution_count": null,
   "metadata": {},
   "outputs": [],
   "source": []
  }
 ],
 "metadata": {
  "kernelspec": {
   "display_name": "Python 3",
   "language": "python",
   "name": "python3"
  },
  "language_info": {
   "codemirror_mode": {
    "name": "ipython",
    "version": 3
   },
   "file_extension": ".py",
   "mimetype": "text/x-python",
   "name": "python",
   "nbconvert_exporter": "python",
   "pygments_lexer": "ipython3",
   "version": "3.7.3"
  }
 },
 "nbformat": 4,
 "nbformat_minor": 2
}
