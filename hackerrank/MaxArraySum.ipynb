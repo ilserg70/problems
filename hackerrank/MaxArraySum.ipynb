{
 "cells": [
  {
   "cell_type": "markdown",
   "metadata": {},
   "source": [
    "#### Max Array Sum\n",
    "Given an array of integers, find the subset of non-adjacent elements with the maximum sum. Calculate the sum of that subset.\n",
    "\n",
    "For example, given an array [-2, 1, 3, -4, 5]  we have the following possible subsets:\n",
    "\n",
    "Subset      -> Sum\n",
    "\n",
    "1) [-2, 3, 5]   -> 6\n",
    "\n",
    "2) [-2, 3]      -> 1\n",
    "\n",
    "3) [-2, -4]    -> -6\n",
    "\n",
    "4) [-2, 5]      -> 3\n",
    "\n",
    "5) [1, -4]     -> -3\n",
    "\n",
    "6) [1, 5]       -> 6\n",
    "\n",
    "7) [3, 5]       -> 8\n",
    "\n",
    "Our maximum subset sum is 8."
   ]
  },
  {
   "cell_type": "code",
   "execution_count": 14,
   "metadata": {},
   "outputs": [],
   "source": [
    "def maxSubsetSum(arr):\n",
    "    h = {0: arr[0], 1: max(arr[:2])}\n",
    "    for i in range(2, len(arr)):\n",
    "        h[i] = max(h[i-1], h[i-2], h[i-2] + arr[i], arr[i])\n",
    "    return h[len(arr)-1]"
   ]
  },
  {
   "cell_type": "code",
   "execution_count": 15,
   "metadata": {},
   "outputs": [
    {
     "data": {
      "text/plain": [
       "8"
      ]
     },
     "execution_count": 15,
     "metadata": {},
     "output_type": "execute_result"
    }
   ],
   "source": [
    "arr = [-2, 1, 3, -4, 5]\n",
    "maxSubsetSum(arr)"
   ]
  },
  {
   "cell_type": "code",
   "execution_count": 17,
   "metadata": {},
   "outputs": [],
   "source": [
    "n = 0\n",
    "arr = None\n",
    "with open(\"MaxArraySumExample1.txt\", 'r') as f:\n",
    "    d = f.read().split('\\n')\n",
    "    n = int(d[0])\n",
    "    arr = [int(x)  for x in d[1].split(' ')]"
   ]
  },
  {
   "cell_type": "code",
   "execution_count": 19,
   "metadata": {},
   "outputs": [
    {
     "name": "stdout",
     "output_type": "stream",
     "text": [
      "151598486\n",
      "Elapsed: 0.06725907325744629 sec.\n"
     ]
    }
   ],
   "source": [
    "import time\n",
    "start_time = time.time()\n",
    "print(maxSubsetSum(arr)) # 151598486\n",
    "print(\"Elapsed: {} sec.\".format(time.time()-start_time))"
   ]
  },
  {
   "cell_type": "code",
   "execution_count": null,
   "metadata": {},
   "outputs": [],
   "source": []
  }
 ],
 "metadata": {
  "kernelspec": {
   "display_name": "Python 3",
   "language": "python",
   "name": "python3"
  },
  "language_info": {
   "codemirror_mode": {
    "name": "ipython",
    "version": 3
   },
   "file_extension": ".py",
   "mimetype": "text/x-python",
   "name": "python",
   "nbconvert_exporter": "python",
   "pygments_lexer": "ipython3",
   "version": "3.7.3"
  }
 },
 "nbformat": 4,
 "nbformat_minor": 2
}
