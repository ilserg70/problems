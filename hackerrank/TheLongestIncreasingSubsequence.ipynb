{
 "cells": [
  {
   "cell_type": "markdown",
   "metadata": {},
   "source": [
    "#### The Longest Increasing Subsequence\n",
    "The task is to find the length of the longest subsequence in a given array of integers such that all elements of the subsequence are sorted in strictly ascending order. This is called the Longest Increasing Subsequence (LIS) problem.\n",
    "\n",
    "For example, the length of the LIS for [15,27,14,38,26,55,46,65,85] is 6 since the longest increasing subsequence is [15,27,38,55,65,85]."
   ]
  },
  {
   "cell_type": "code",
   "execution_count": null,
   "metadata": {},
   "outputs": [],
   "source": [
    "arr = [15,27,14,38,26,55,46,65,85]\n",
    "lis = [15,27,38,55,65,85]"
   ]
  },
  {
   "cell_type": "code",
   "execution_count": null,
   "metadata": {},
   "outputs": [],
   "source": [
    "from functools import reduce\n",
    "def longestIncreasingSubsequence(arr):\n",
    "    # L = [D[0]]\n",
    "    # L[i] = MAX(L[j] | j < i, D[j] < D[i])\n",
    "    seq = []\n",
    "    for x in arr:\n",
    "        _, s_max = reduce(lambda a, b: (a[0], b) if x > b[-1] and len(b) > len(a[1]) else a, seq, (x, []))\n",
    "        seq.append(s_max+[x])\n",
    "    res = reduce(lambda a, b: a if len(a) > len(b) else b, seq)\n",
    "    print(res)\n",
    "    return len(res)\n",
    "                "
   ]
  },
  {
   "cell_type": "code",
   "execution_count": null,
   "metadata": {},
   "outputs": [],
   "source": [
    "def longestIncreasingSubsequence(arr):\n",
    "    n = len(arr)\n",
    "    seq = [[arr[0]]]\n",
    "    for i in range(1,n):\n",
    "        seq.append([])\n",
    "        for j in range(i):\n",
    "            if arr[j] < arr[i] and len(seq[i]) < len(seq[j]) + 1:\n",
    "                seq[i] = seq[j].copy()\n",
    "        seq[i].append(arr[i])\n",
    "    res = reduce(lambda a, b: a if len(a) > len(b) else b, seq)\n",
    "    print(res)\n",
    "    return len(res)"
   ]
  },
  {
   "cell_type": "code",
   "execution_count": null,
   "metadata": {},
   "outputs": [],
   "source": [
    "arr = [6,2,4,3,7,4,5]\n",
    "longestIncreasingSubsequence(arr) # 4"
   ]
  },
  {
   "cell_type": "code",
   "execution_count": null,
   "metadata": {},
   "outputs": [],
   "source": [
    "arr = [15,27,14,38,26,55,46,65,85]\n",
    "longestIncreasingSubsequence(arr) # 6 debug: [15, 27, 38, 55, 65, 85]"
   ]
  },
  {
   "cell_type": "code",
   "execution_count": null,
   "metadata": {},
   "outputs": [],
   "source": [
    "arr = []\n",
    "with open(\"LongestIncreasingSubsequenceExample.txt\", \"r\") as f:\n",
    "    arr = list(map(int, f.read().split('\\n')))\n",
    "#longestIncreasingSubsequence(arr) # 185"
   ]
  },
  {
   "cell_type": "code",
   "execution_count": null,
   "metadata": {},
   "outputs": [],
   "source": [
    "arr = []\n",
    "with open(\"LongestIncreasingSubsequenceExample2.txt\", \"r\") as f:\n",
    "    arr = list(map(int, f.read().split('\\n')))\n",
    "#longestIncreasingSubsequence(arr) # 1950"
   ]
  },
  {
   "cell_type": "code",
   "execution_count": 3,
   "metadata": {},
   "outputs": [],
   "source": [
    "# https://www.geeksforgeeks.org/construction-of-longest-monotonically-increasing-subsequence-n-log-n/\n",
    "# Python implementation to find longest increasing subsequence in O(n Log n) time. \n",
    "  \n",
    "# Binary search \n",
    "def GetCeilIndex(arr, T, l, r, key): \n",
    "  \n",
    "    while (r - l > 1): \n",
    "      \n",
    "        m = l + (r - l)//2\n",
    "        if (arr[T[m]] >= key): \n",
    "            r = m \n",
    "        else: \n",
    "            l = m \n",
    "  \n",
    "    return r \n",
    "   \n",
    "def longestIncreasingSubsequence(arr): \n",
    "  \n",
    "    # Add boundary case, when array n is zero \n",
    "    # Depend on smart pointers \n",
    "    n = len(arr)\n",
    "    # Initialized with 0 \n",
    "    tailIndices =[0 for i in range(n + 1)]   \n",
    "  \n",
    "    # Initialized with -1 \n",
    "    prevIndices =[-1 for i in range(n + 1)]   \n",
    "      \n",
    "    # it will always point to empty location \n",
    "    m = 1 \n",
    "    for i in range(1, n):\n",
    "        if (arr[i] < arr[tailIndices[0]]):\n",
    "            # new smallest value \n",
    "            tailIndices[0] = i \n",
    "        elif (arr[i] > arr[tailIndices[m-1]]): \n",
    "            # arr[i] wants to extend largest subsequence \n",
    "            prevIndices[i] = tailIndices[m-1] \n",
    "            tailIndices[m] = i \n",
    "            m += 1\n",
    "        else: \n",
    "            # arr[i] wants to be a potential condidate of future subsequence \n",
    "            # It will replace ceil value in tailIndices \n",
    "            pos = GetCeilIndex(arr, tailIndices, -1, m-1, arr[i]) \n",
    "   \n",
    "            prevIndices[i] = tailIndices[pos-1] \n",
    "            tailIndices[pos] = i \n",
    "          \n",
    "    print(\"LIS of given input\") \n",
    "    i = tailIndices[m-1] \n",
    "    while(i >= 0): \n",
    "        print(arr[i], \" \", end =\"\") \n",
    "        i = prevIndices[i] \n",
    "    print() \n",
    "   \n",
    "    return m\n",
    "  \n",
    "# driver code \n",
    "#arr = [ 2, 5, 3, 7, 11, 8, 10, 13, 6 ]  \n",
    "   \n",
    "#print(\"LIS size\\n\", longestIncreasingSubsequence(arr)) \n",
    "  \n",
    "# This code is contributed \n",
    "# by Anant Agarwal. "
   ]
  },
  {
   "cell_type": "code",
   "execution_count": 4,
   "metadata": {},
   "outputs": [
    {
     "name": "stdout",
     "output_type": "stream",
     "text": [
      "LIS of given input\n",
      "32753  32736  32687  32668  32648  32635  32608  32589  32561  32519  32456  32454  32403  32400  32349  32305  32296  32210  32165  32114  32112  32051  32022  32005  31988  31856  31834  31807  31780  31675  31603  31587  31565  31484  31475  31413  31409  31377  31370  31293  31262  31243  31232  31142  31117  31099  30956  30786  30704  30636  30634  30555  30514  30441  30416  30262  30159  29987  29959  29853  29830  29799  29791  29729  29726  29668  29647  29620  29461  29396  29388  29329  29318  29307  29257  29207  29206  29130  29128  29099  29019  28931  28918  28903  28892  28859  28844  28840  28825  28818  28803  28733  28691  28611  28573  28547  28531  28528  28459  28422  28415  28369  28352  28287  28250  28232  28167  28163  28154  28138  28123  28084  28020  27978  27780  27759  27730  27716  27676  27660  27612  27579  27503  27400  27390  27375  27347  27298  27256  27239  27224  27220  27198  27188  27139  27136  27060  26978  26974  26964  26959  26885  26835  26830  26743  26557  26521  26468  26466  26362  26316  26214  26026  25966  25955  25879  25871  25776  25723  25676  25642  25450  25384  25378  25359  25246  25237  25236  25215  25196  25076  25030  25021  24980  24977  24932  24915  24894  24871  24860  24824  24782  24767  24722  24700  24688  24684  24678  24669  24541  24474  24469  24362  24285  24271  24270  24260  24248  24177  24167  24152  24128  24123  24085  24040  23950  23849  23800  23786  23759  23713  23665  23664  23624  23515  23456  23448  23426  23399  23394  23358  23354  23307  23300  23299  23298  23279  23241  23142  23106  23073  22970  22948  22881  22789  22712  22655  22595  22551  22524  22453  22353  22344  22277  22207  22061  21994  21975  21841  21814  21762  21681  21630  21584  21561  21543  21528  21495  21453  21426  21408  21351  21331  21316  21315  21297  21282  21240  21207  21199  21169  21167  21125  21057  21028  21018  21015  21011  20922  20846  20803  20782  20743  20574  20567  20503  20482  20475  20446  20439  20404  20367  20306  20234  20229  20126  20106  20092  20074  20062  20057  20048  20040  20020  19976  19946  19868  19847  19837  19805  19767  19733  19716  19691  19683  19644  19642  19594  19574  19563  19448  19374  19370  19367  19356  19319  19307  19259  19258  19222  19161  19054  19019  18998  18988  18980  18957  18918  18872  18839  18834  18833  18756  18717  18622  18609  18567  18565  18531  18520  18488  18355  18233  18231  18212  18188  18157  18121  18070  18060  18058  17957  17938  17836  17763  17633  17620  17573  17555  17469  17441  17421  17354  17264  17151  17053  17000  16980  16940  16939  16855  16751  16683  16668  16550  16481  16477  16460  16451  16420  16271  16222  16197  16169  16167  16165  16079  16044  16017  16002  15994  15988  15968  15957  15947  15861  15843  15830  15823  15819  15773  15767  15706  15701  15691  15655  15636  15510  15498  15401  15362  15348  15341  15298  15293  15248  15088  15015  14932  14915  14901  14886  14854  14817  14735  14712  14685  14653  14519  14514  14495  14465  14451  14383  14379  14368  14309  14251  14216  14206  14118  14074  14051  14044  13955  13940  13922  13878  13855  13841  13838  13810  13791  13777  13775  13763  13737  13712  13700  13624  13615  13529  13523  13507  13496  13472  13456  13441  13434  13422  13414  13390  13384  13326  13316  13137  13088  13079  13049  13023  13022  12958  12799  12758  12710  12632  12594  12440  12384  12372  12363  12318  12297  12252  12090  12057  11983  11932  11913  11903  11878  11870  11827  11810  11806  11788  11683  11547  11492  11489  11303  11287  11212  11172  11021  10946  10845  10688  10656  10639  10558  10506  10481  10472  10416  10357  10289  10282  10151  10094  10065  10036  10027  10022  9975  9927  9900  9888  9780  9765  9751  9694  9661  9641  9377  9359  9317  9196  9183  9168  9037  9012  8845  8689  8661  8633  8558  8498  8428  8331  8234  8213  8159  8139  8106  8087  8050  8043  8029  8006  7839  7810  7747  7709  7616  7443  7414  7189  7135  7063  7015  6941  6928  6879  6861  6844  6742  6741  6706  6681  6657  6633  6565  6505  6485  6445  6421  6222  6171  5838  5818  5751  5725  5676  5674  5617  5540  5526  5513  5503  5464  5366  5254  5184  5155  4985  4963  4922  4870  4822  4793  4728  4715  4632  4624  4547  4536  4518  4373  4291  4194  4144  4047  3925  3735  3594  3474  3426  3419  3246  3131  2959  2802  2781  2678  2632  2601  2564  2550  2483  2478  2477  2435  2355  2190  2184  2150  2042  1974  1963  1954  1906  1888  1835  1727  1562  1561  1476  1393  1356  1350  1303  1282  1248  1054  1035  959  921  917  852  752  644  594  431  368  321  \n",
      "LIS size\n",
      " 696\n"
     ]
    }
   ],
   "source": [
    "arr = []\n",
    "with open(\"LongestIncreasingSubsequenceExample2.txt\", \"r\") as f:\n",
    "    arr = list(map(int, f.read().split('\\n')))\n",
    "m = longestIncreasingSubsequence(arr)\n",
    "print(\"LIS size\\n\", m) # 1950"
   ]
  },
  {
   "cell_type": "code",
   "execution_count": null,
   "metadata": {},
   "outputs": [],
   "source": []
  }
 ],
 "metadata": {
  "kernelspec": {
   "display_name": "Python 3",
   "language": "python",
   "name": "python3"
  },
  "language_info": {
   "codemirror_mode": {
    "name": "ipython",
    "version": 3
   },
   "file_extension": ".py",
   "mimetype": "text/x-python",
   "name": "python",
   "nbconvert_exporter": "python",
   "pygments_lexer": "ipython3",
   "version": "3.7.3"
  }
 },
 "nbformat": 4,
 "nbformat_minor": 2
}
