{
 "cells": [
  {
   "cell_type": "markdown",
   "metadata": {},
   "source": [
    "Karen Sep, 3, 2019 at 12pm\n",
    "\n",
    "=============================\n",
    "VOC Problem:\n",
    "=============================\n",
    "\n",
    "Problem setting:\n",
    "Customers who return items enter two pieces of information:\n",
    "R: return reason code (int)\n",
    "W: free-form text (sequence of words)\n",
    "\n",
    "Ex: R: DEFECTIVE\n",
    "W: \"case doesnt release and requires damage pressure to camera lense area\"\n",
    "\n",
    "Both of these observables are noisy. We are interested in learning the latent structure of the data that\n",
    "can unearth the true root cause category of the returns.\n",
    "\n",
    "Assume latent/hidden C: root-cause (int)\n",
    "\n",
    "Given dataset D = {R_i, W_i | i == 1 .. 100000} and D1 = {R_i, W_i, C_i | i == 1..1000}.\n",
    "\n",
    "Suggest a model that can be used to infer the latent root cause cluster. How would you validate this model?\n",
    "---------------------------------\n",
    "\n",
    "\n",
    "\n",
    "\n",
    "\n",
    "\n",
    "\n",
    "\n",
    "\n",
    "\n",
    "\n",
    "\n",
    "=============================\n",
    "Coding problem:\n",
    "=============================\n",
    "\n",
    "Find the index of the first number which is greater than all numbers to the left\n",
    "and is smaller than all numbers to the right.\n",
    "\n",
    "Example:\n",
    "\n",
    "4 8 10 3 11 80 20 90\n",
    "\n",
    "Answer: 4\n",
    "-------------------"
   ]
  },
  {
   "cell_type": "code",
   "execution_count": 9,
   "metadata": {},
   "outputs": [],
   "source": [
    "def find_index(arr):\n",
    "    for i in range(len(arr)):\n",
    "        a = max(arr[:i]) if i>0 else None\n",
    "        b = min(arr[i+1:]) if i<len(arr)-1 else None\n",
    "        #print(f\"{a} : {arr[i]} : {b}\")\n",
    "        if a is None and b is None:\n",
    "            return i\n",
    "        elif a is None:\n",
    "            if arr[i]<b:\n",
    "                return i\n",
    "        elif b is None:\n",
    "            if arr[i]>a:\n",
    "                return i\n",
    "        elif a<arr[i]<b:\n",
    "            return i\n",
    "    return -1"
   ]
  },
  {
   "cell_type": "code",
   "execution_count": 13,
   "metadata": {},
   "outputs": [
    {
     "name": "stdout",
     "output_type": "stream",
     "text": [
      "4\n",
      "0\n",
      "-1\n"
     ]
    }
   ],
   "source": [
    "print(find_index([4,8,10,3,11,80,20,90]))\n",
    "print(find_index([1,2,3,4,5]))\n",
    "print(find_index([5,4,3,2,1]))"
   ]
  },
  {
   "cell_type": "code",
   "execution_count": 23,
   "metadata": {},
   "outputs": [
    {
     "name": "stdout",
     "output_type": "stream",
     "text": [
      "[40, 17, 48, 23, 45, 59, 62, 90, 76, 64, 71, 68, 84, 91, 76, 85]\n",
      "5\n"
     ]
    }
   ],
   "source": [
    "import random as rm\n",
    "rm.seed(5)\n",
    "arr = [rm.randint(1,50) for i in range(5)] + [rm.randint(51,60)] + [rm.randint(61,100) for i in range(10)]\n",
    "print(arr)\n",
    "print(find_index(arr))"
   ]
  },
  {
   "cell_type": "code",
   "execution_count": 20,
   "metadata": {},
   "outputs": [],
   "source": []
  },
  {
   "cell_type": "code",
   "execution_count": null,
   "metadata": {},
   "outputs": [],
   "source": []
  }
 ],
 "metadata": {
  "kernelspec": {
   "display_name": "Python 3",
   "language": "python",
   "name": "python3"
  },
  "language_info": {
   "codemirror_mode": {
    "name": "ipython",
    "version": 3
   },
   "file_extension": ".py",
   "mimetype": "text/x-python",
   "name": "python",
   "nbconvert_exporter": "python",
   "pygments_lexer": "ipython3",
   "version": "3.7.4"
  }
 },
 "nbformat": 4,
 "nbformat_minor": 2
}
