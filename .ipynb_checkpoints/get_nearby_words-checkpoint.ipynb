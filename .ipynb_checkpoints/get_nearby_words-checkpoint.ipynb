{
 "cells": [
  {
   "cell_type": "markdown",
   "metadata": {},
   "source": [
    "#### Get nearby words (Facebook)\n",
    "When typing on a touch screen, occasionally the wrong key is registered. For example: \"Gello\" instead \"Hello\".\n",
    "Write a function that given a string, returns all nearby words.\n",
    "Assume that we can use the following functions:\n",
    "- `function get_nearby_chars(string character): set<string>`\n",
    "- `function is_word(string word): bool`"
   ]
  },
  {
   "cell_type": "code",
   "execution_count": 59,
   "metadata": {},
   "outputs": [],
   "source": [
    "# Preparation:\n",
    "# Before start, create a file with some words\n",
    "filename = \"animals.txt\"\n",
    "def read_file(filename):\n",
    "    with open(filename, 'r') as f:\n",
    "        return f.read()\n",
    "def get_all_words(text):\n",
    "    return list(set(ww.replace(\"\\n\",\" \").lower().split(\" \")))\n",
    "def calc_chars_hist(words):\n",
    "    hist = {}\n",
    "    for word in words:\n",
    "        for pos in range(len(word)):\n",
    "            if pos not in hist:\n",
    "                hist[pos] = {}\n",
    "            h = hist[pos]\n",
    "            ch = word[pos]\n",
    "            if ch not in h:\n",
    "                h[ch] = 1\n",
    "            else:\n",
    "                h[ch] += 1\n",
    "    return hist\n",
    "text = read_file(filename)\n",
    "all_words = get_all_words(text)\n",
    "chars_hist = calc_chars_hist(all_words)\n",
    "def is_word(word):\n",
    "    return word.lower() in all_words\n",
    "def get_nearby_chars(pos, ch):\n",
    "    if pos not in chars_hist:\n",
    "        return [ch]\n",
    "    else:\n",
    "        sorted_key_value = sorted(chars_hist[pos].items(), key=lambda kv: -kv[1])\n",
    "        sorted_keys = list(map(lambda x: x[0], sorted_key_value))\n",
    "        return [ch] + list(filter(lambda c: c != ch, sorted_keys))"
   ]
  },
  {
   "cell_type": "code",
   "execution_count": 95,
   "metadata": {},
   "outputs": [],
   "source": [
    "# Algorithm - listing of all combinations - O(n^m)\n",
    "def get_nearby_words(word):\n",
    "    def get_nearby_recurs(word, result, subword=\"\", pos=0):\n",
    "        if pos >= len(word):\n",
    "            if is_word(subword):\n",
    "                result.append(subword)\n",
    "        elif pos >= 0:\n",
    "            for c in get_nearby_chars(pos, word[pos]):\n",
    "                #print(\"pos: {}, ch: {}\".format(pos,word[pos]))\n",
    "                get_nearby_recurs(word, result, subword+c, pos+1)\n",
    "    result = []\n",
    "    get_nearby_recurs(word.lower(), result)\n",
    "    return result\n",
    "        "
   ]
  },
  {
   "cell_type": "code",
   "execution_count": 97,
   "metadata": {},
   "outputs": [],
   "source": [
    "#get_nearby_words(\"frot\")"
   ]
  },
  {
   "cell_type": "code",
   "execution_count": 98,
   "metadata": {},
   "outputs": [],
   "source": [
    "# Algorithm - list with one mistake - O(n*m)\n",
    "def get_nearby_words(word):\n",
    "    word = word.lower()\n",
    "    result = []\n",
    "    for pos in range(len(word)):\n",
    "        for c in get_nearby_chars(pos, word[pos]):\n",
    "            subword = word[:pos]+c+word[pos+1:]\n",
    "            if is_word(subword) and subword not in result:\n",
    "                result.append(subword)\n",
    "    return result"
   ]
  },
  {
   "cell_type": "code",
   "execution_count": 99,
   "metadata": {},
   "outputs": [
    {
     "data": {
      "text/plain": [
       "['frog']"
      ]
     },
     "execution_count": 99,
     "metadata": {},
     "output_type": "execute_result"
    }
   ],
   "source": [
    "get_nearby_words(\"frot\")"
   ]
  },
  {
   "cell_type": "code",
   "execution_count": null,
   "metadata": {},
   "outputs": [],
   "source": []
  }
 ],
 "metadata": {
  "kernelspec": {
   "display_name": "Python 3",
   "language": "python",
   "name": "python3"
  },
  "language_info": {
   "codemirror_mode": {
    "name": "ipython",
    "version": 3
   },
   "file_extension": ".py",
   "mimetype": "text/x-python",
   "name": "python",
   "nbconvert_exporter": "python",
   "pygments_lexer": "ipython3",
   "version": "3.7.3"
  }
 },
 "nbformat": 4,
 "nbformat_minor": 2
}
