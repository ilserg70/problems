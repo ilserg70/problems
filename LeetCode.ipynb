{
 "cells": [
  {
   "cell_type": "markdown",
   "metadata": {},
   "source": [
    "#### Three sum\n",
    "Given a list of number find all unique sums of three numbers which equals to zero,"
   ]
  },
  {
   "cell_type": "code",
   "execution_count": null,
   "metadata": {},
   "outputs": [],
   "source": [
    "# Runtime: 432 ms, faster than 97.72% of Python3 online submissions for 3Sum.\n",
    "# Memory Usage: 17.7 MB, less than 8.99% of Python3 online submissions for 3Sum.\n",
    "def threeSum(nums):\n",
    "    if nums is None or len(nums) == 0:\n",
    "        return []\n",
    "    res = set()        \n",
    "    neg, pos, count_zeros = {}, {}, 0\n",
    "    for v in nums:\n",
    "        if v > 0:\n",
    "            if v in pos:\n",
    "                pos[v] += 1\n",
    "            else:\n",
    "                pos[v] = 1\n",
    "        elif v < 0:\n",
    "            if v in neg:\n",
    "                neg[v] += 1\n",
    "            else:\n",
    "                neg[v] = 1\n",
    "        else:\n",
    "            count_zeros += 1\n",
    "    if count_zeros >= 3:\n",
    "        res.add((0,0,0))\n",
    "    if len(pos) == 0 or len(neg) == 0:\n",
    "        return [[x[0],x[1],x[2]] for x in res]\n",
    "    neg_keys = list(neg.keys())\n",
    "    pos_keys = list(pos.keys())\n",
    "    if count_zeros > 0:\n",
    "        for x in neg_keys:\n",
    "            if -x in pos:\n",
    "                res.add(tuple([x, 0, -x]))\n",
    "        for x in pos_keys:\n",
    "            if -x in neg:\n",
    "                res.add(tuple([-x, 0, x]))\n",
    "    for x, m in neg.items():\n",
    "        if m > 1:\n",
    "            v = -2 * x\n",
    "            if v in pos:\n",
    "                res.add((x,x,v))\n",
    "    for x, m in pos.items():\n",
    "        if m > 1:\n",
    "            v = -2 * x\n",
    "            if v in neg:\n",
    "                res.add((v,x,x))\n",
    "    for i in range(0, len(neg_keys)-1):\n",
    "        for j in range(i+1, len(neg_keys)):\n",
    "            x = neg_keys[i]\n",
    "            y = neg_keys[j]\n",
    "            z = -x-y\n",
    "            if z in pos:\n",
    "                if x < y:\n",
    "                    res.add((x,y,z))\n",
    "                else:\n",
    "                    res.add((y,x,z))\n",
    "    for i in range(0, len(pos_keys)-1):\n",
    "        for j in range(i+1, len(pos_keys)):\n",
    "            x = pos_keys[i]\n",
    "            y = pos_keys[j]\n",
    "            z = -x-y\n",
    "            if z in neg:\n",
    "                if x < y:\n",
    "                    res.add((z,x,y))\n",
    "                else:\n",
    "                    res.add((z,y,x))\n",
    "    return [[x[0],x[1],x[2]] for x in res]"
   ]
  },
  {
   "cell_type": "code",
   "execution_count": null,
   "metadata": {},
   "outputs": [],
   "source": [
    "print(threeSum([1,2,-2,-1]))\n",
    "print(threeSum([-1,0,1,2,-1,-4]))"
   ]
  },
  {
   "cell_type": "markdown",
   "metadata": {},
   "source": [
    "#### 4-Sum\n",
    "Given an array nums of n integers and an integer target, are there elements a, b, c, and d in nums such that a + b + c + d = target? Find all unique quadruplets in the array which gives the sum of target."
   ]
  },
  {
   "cell_type": "code",
   "execution_count": null,
   "metadata": {},
   "outputs": [],
   "source": [
    "def calc_hist(nums):\n",
    "    h = {}\n",
    "    for x in nums:\n",
    "        if x in h:\n",
    "            h[x] +=1\n",
    "        else:\n",
    "            h[x] = 1\n",
    "    return h\n",
    "\n",
    "def calc_pairs(h):\n",
    "    pairs = set()\n",
    "    h_keys = list(h.keys())\n",
    "    for i in range(0,len(h_keys)):\n",
    "        x = h_keys[i]\n",
    "        for j in range(i,len(h_keys)):\n",
    "            y = h_keys[j]\n",
    "            if x == y:\n",
    "                if h[x] >= 2:\n",
    "                    pairs.add((x,x))\n",
    "            else:\n",
    "                pairs.add((x,y) if x < y else (y,x))\n",
    "    return list(pairs)\n",
    "\n",
    "def is_valid_subset(q, h):\n",
    "    hq = calc_hist(q)\n",
    "    for x, m in hq.items():\n",
    "        if m > h[x]:\n",
    "            return False\n",
    "    return True\n",
    "\n",
    "def calc_quadruples(pairs, h, target):\n",
    "    quadr, not_quadr = set(), set()\n",
    "    for i in range(0,len(pairs)):\n",
    "        for j in range(i,len(pairs)):\n",
    "            e = tuple(sorted(pairs[i] + pairs[j]))\n",
    "            if e not in quadr and e not in not_quadr:\n",
    "                if sum(e) != target or not is_valid_subset(e,h):\n",
    "                    not_quadr.add(e)\n",
    "                else:\n",
    "                    quadr.add(e)\n",
    "    return list(quadr)\n",
    "\n",
    "def fourSum(nums, target):\n",
    "    # check\n",
    "    if nums is None or len(nums) < 0:\n",
    "        return []\n",
    "    h = calc_hist(nums)\n",
    "    pairs = calc_pairs(h)\n",
    "    quadr = calc_quadruples(pairs, h, target)\n",
    "    return [list(q) for q in quadr]"
   ]
  },
  {
   "cell_type": "code",
   "execution_count": null,
   "metadata": {},
   "outputs": [],
   "source": [
    "nums = [1,1,1,1,3,2,0,0,0,4]\n",
    "fourSum(nums, 4)"
   ]
  },
  {
   "cell_type": "code",
   "execution_count": null,
   "metadata": {},
   "outputs": [],
   "source": [
    "nums = [1, 0, -1, 0, -2, 2]\n",
    "fourSum(nums, 0)"
   ]
  },
  {
   "cell_type": "code",
   "execution_count": null,
   "metadata": {},
   "outputs": [],
   "source": [
    "import time\n",
    "start = time.time()\n",
    "nums = [1,-1,1,1,-3,2,2,2,0,0,0,4,2,-2,5,7,4,4,4,4]\n",
    "target = 5\n",
    "quadr = fourSum(nums, 5)\n",
    "print(\"elapsed: {}\".format(time.time()-start))\n",
    "quadr"
   ]
  },
  {
   "cell_type": "code",
   "execution_count": null,
   "metadata": {},
   "outputs": [],
   "source": [
    "class Solution:\n",
    "    def fourSum(self, nums, target):\n",
    "        # check\n",
    "        if nums is None or len(nums) == 0:\n",
    "            return []\n",
    "\n",
    "        def find_min_value(nums):\n",
    "            return min(nums)\n",
    "\n",
    "        def build_hist(nums, minVal, newTarget):\n",
    "            hist = {}\n",
    "            for v in nums:\n",
    "                x = v - minVal\n",
    "                if x <= newTarget:\n",
    "                    m = hist.get(x, 0)\n",
    "                    if m == 0:\n",
    "                        hist[x] = 1\n",
    "                    elif m < 4:\n",
    "                        hist[x] += 1\n",
    "            for x in hist.keys():\n",
    "                m = hist[x]\n",
    "                if m > 1 and m * x > newTarget:\n",
    "                    while m * x > newTarget:\n",
    "                        m -= 1\n",
    "                    hist[x] = m\n",
    "            return hist\n",
    "\n",
    "        def insert_binary(x, arr, start=0, end=None):\n",
    "            if end is None:\n",
    "                end = len(arr)\n",
    "            if start==end-1:\n",
    "                if x < arr[start]:\n",
    "                    return arr[:start] + tuple([x]) + arr[start:]\n",
    "                else:\n",
    "                    return arr[:end] + tuple([x]) + arr[end:]\n",
    "            pos = int((start+end)/2)\n",
    "            if x < arr[pos]:\n",
    "                return insert_binary(x, arr, start, pos)\n",
    "            else:\n",
    "                return insert_binary(x, arr, pos, end)\n",
    "        \n",
    "\n",
    "        def find_k_sums_recurs(hist, k, target):\n",
    "            if k == 1:\n",
    "                return set([tuple([target])]) if target in hist else set()\n",
    "            res = set()\n",
    "            hkeys = list(hist.keys())\n",
    "            for x in hkeys:\n",
    "                m = hist[x]\n",
    "                if m > 1:\n",
    "                    hist[x] -= 1\n",
    "                else:\n",
    "                    del hist[x]\n",
    "                #------------------\n",
    "                res_ = find_k_sums_recurs(hist, k - 1, target - x)\n",
    "                for t in res_:\n",
    "                    res.add(insert_binary(x, t))\n",
    "                #------------------\n",
    "                hist[x] = m\n",
    "            return res\n",
    "\n",
    "        minVal = find_min_value(nums)\n",
    "        newTarget = target - 4 * minVal\n",
    "        if newTarget < 0:\n",
    "            return []\n",
    "    \n",
    "        hist = build_hist(nums, minVal, newTarget)\n",
    "        if not hist:\n",
    "            return []\n",
    "    \n",
    "        quadr = find_k_sums_recurs(hist, 4, newTarget)\n",
    "        return [[q[0]+minVal, q[1]+minVal, q[2]+minVal, q[3]+minVal] for q in quadr]"
   ]
  },
  {
   "cell_type": "code",
   "execution_count": null,
   "metadata": {},
   "outputs": [],
   "source": [
    "nums = [1,0,-1,0,-2,2]\n",
    "target = 0\n",
    "import time\n",
    "start = time.time()\n",
    "res = Solution().fourSum(nums, target)\n",
    "print(\"elapsed: {}\".format(time.time()-start))\n",
    "res"
   ]
  },
  {
   "cell_type": "markdown",
   "metadata": {},
   "source": [
    "#### Reverse Integer\n",
    "Note: Assume we are dealing with an environment which could only store integers within the 32-bit signed integer range: [−2^31,  2^31 − 1]. For the purpose of this problem, assume that your function returns 0 when the reversed integer overflows.\n",
    "- 123 => 321\n",
    "- -123 => -321\n",
    "- 120 => 21"
   ]
  },
  {
   "cell_type": "code",
   "execution_count": null,
   "metadata": {},
   "outputs": [],
   "source": [
    "class Solution:\n",
    "    def reverse(self, x):\n",
    "        def rev(x):\n",
    "            if x < 0:\n",
    "                return int('-'+str(-x)[::-1])\n",
    "            else:\n",
    "                return int(str(x)[::-1])\n",
    "        y = rev(x)\n",
    "        return y if y >= -2147483648 and y <= 2147483647 else 0"
   ]
  },
  {
   "cell_type": "code",
   "execution_count": null,
   "metadata": {},
   "outputs": [],
   "source": [
    "Solution().reverse(-345671)"
   ]
  },
  {
   "cell_type": "code",
   "execution_count": 10,
   "metadata": {},
   "outputs": [],
   "source": [
    "def bits(x, n_bits=8):\n",
    "    print('{:0{width}b}'.format(x, width=n_bits))\n",
    "def reverse_bites(x, n_bits=8):\n",
    "    mask1, mask2 = 1, 1 << (n_bits - 1)\n",
    "    for i in range(int(n_bits/2)):\n",
    "        a, b = x & mask1, x & mask2\n",
    "        if a == 0 and b != 0 or a != 0 and b == 0:\n",
    "            x = x ^ (mask1 | mask2)\n",
    "        mask1 <<= 1\n",
    "        mask2 >>= 1\n",
    "    return x\n",
    "def reverse_bites2(x, n_bits):\n",
    "    b = '{:0{width}b}'.format(x, width=n_bits)\n",
    "    return int(b[::-1], 2)"
   ]
  },
  {
   "cell_type": "markdown",
   "metadata": {},
   "source": [
    "#### Number of 1 Bits\n",
    "Hamming weight"
   ]
  },
  {
   "cell_type": "code",
   "execution_count": 9,
   "metadata": {},
   "outputs": [],
   "source": [
    "def hammingWeight(n):\n",
    "    k = 0\n",
    "    while n != 0:\n",
    "        k += 1\n",
    "        n = (n-1) & n\n",
    "    return k"
   ]
  },
  {
   "cell_type": "code",
   "execution_count": 14,
   "metadata": {},
   "outputs": [
    {
     "name": "stdout",
     "output_type": "stream",
     "text": [
      "10111110110\n"
     ]
    },
    {
     "data": {
      "text/plain": [
       "8"
      ]
     },
     "execution_count": 14,
     "metadata": {},
     "output_type": "execute_result"
    }
   ],
   "source": [
    "n = 1526\n",
    "bits(n)\n",
    "hammingWeight(n)"
   ]
  },
  {
   "cell_type": "markdown",
   "metadata": {},
   "source": [
    "#### Regular Expression Matching\n",
    "Given an input string (s) and a pattern (p), implement regular expression matching with support for '.' and '*'."
   ]
  },
  {
   "cell_type": "code",
   "execution_count": 133,
   "metadata": {},
   "outputs": [],
   "source": [
    "def isMatch(s, p):\n",
    "    def compile_pattern(p):\n",
    "        if not p:\n",
    "            return None\n",
    "        cmp = []\n",
    "        for i in range(len(p)):\n",
    "            c = p[i]\n",
    "            if c == '*':\n",
    "                if i==0 or p[i-1]=='*': # if p starts with * or contains **\n",
    "                    return None\n",
    "                if len(cmp) > 1 and cmp[-2] == ('.', True):\n",
    "                    cmp.pop()\n",
    "                else:\n",
    "                    cmp[-1] = (cmp[-1][0], True)\n",
    "            elif not (len(cmp) > 0 and cmp[-1][0] == c and cmp[-1][1]):\n",
    "                cmp.append((c,False))\n",
    "        return cmp\n",
    "    \n",
    "    cmp = compile_pattern(p)\n",
    "    print(cmp)\n",
    "    \n",
    "    if not cmp:\n",
    "        return False\n",
    "    \n",
    "    i, j = 0, 0\n",
    "    while j < len(s):\n",
    "        c = s[j]\n",
    "        if i >= len(cmp):\n",
    "            return False\n",
    "        e = cmp[i]\n",
    "        if e[1]:\n",
    "            if e[0] == '.':\n",
    "                if j+1 < len(s) and i+1 < len(cmp) and cmp[i+1][0] == s[j+1]:\n",
    "                    i += 1\n",
    "                j += 1\n",
    "            elif e[0] == c:\n",
    "                if j+1 < len(s) and s[j+1] != e[0]:\n",
    "                    i += 1\n",
    "                j += 1\n",
    "            else:\n",
    "                i += 1\n",
    "        elif e[0] == c or e[0] == '.':\n",
    "            i += 1\n",
    "            j += 1\n",
    "        else:\n",
    "            return False\n",
    "    for e in cmp[i:]:\n",
    "        if not e[1]:\n",
    "            return False\n",
    "    return True                "
   ]
  },
  {
   "cell_type": "code",
   "execution_count": 134,
   "metadata": {},
   "outputs": [
    {
     "name": "stdout",
     "output_type": "stream",
     "text": [
      "[('a', False), ('b', True), ('a', True), ('c', True), ('a', False)]\n"
     ]
    },
    {
     "data": {
      "text/plain": [
       "False"
      ]
     },
     "execution_count": 134,
     "metadata": {},
     "output_type": "execute_result"
    }
   ],
   "source": [
    "isMatch(\"aaa\", \"ab*a*c*a\")"
   ]
  },
  {
   "cell_type": "code",
   "execution_count": 57,
   "metadata": {},
   "outputs": [
    {
     "data": {
      "text/plain": [
       "[('.', True), ('.', True), ('.', True)]"
      ]
     },
     "execution_count": 57,
     "metadata": {},
     "output_type": "execute_result"
    }
   ],
   "source": [
    "compile_pattern(\".*.*.*\")"
   ]
  },
  {
   "cell_type": "code",
   "execution_count": 58,
   "metadata": {},
   "outputs": [
    {
     "data": {
      "text/plain": [
       "[('.', False), ('.', True)]"
      ]
     },
     "execution_count": 58,
     "metadata": {},
     "output_type": "execute_result"
    }
   ],
   "source": [
    "compile_pattern(\"..*\")"
   ]
  },
  {
   "cell_type": "code",
   "execution_count": 62,
   "metadata": {},
   "outputs": [
    {
     "name": "stdout",
     "output_type": "stream",
     "text": [
      "None\n"
     ]
    },
    {
     "data": {
      "text/plain": [
       "False"
      ]
     },
     "execution_count": 62,
     "metadata": {},
     "output_type": "execute_result"
    }
   ],
   "source": [
    "isMatch(\"abbbbbbc\", \".*.*.*\")"
   ]
  },
  {
   "cell_type": "code",
   "execution_count": 135,
   "metadata": {},
   "outputs": [],
   "source": [
    "def compile_pattern(p):\n",
    "    if not p:\n",
    "        return None\n",
    "    cmp = []\n",
    "    for i in range(len(p)):\n",
    "        c = p[i]\n",
    "        if c == '*':\n",
    "            if i==0 or p[i-1]=='*': # if p starts with * or contains **\n",
    "                return None\n",
    "            if len(cmp) > 1 and cmp[-2] == ('.', True):\n",
    "                cmp.pop()\n",
    "            else:\n",
    "                cmp[-1] = (cmp[-1][0], True)\n",
    "        elif not (len(cmp) > 0 and cmp[-1][0] == c and cmp[-1][1]):\n",
    "            cmp.append((c,False))\n",
    "    return cmp"
   ]
  },
  {
   "cell_type": "code",
   "execution_count": 137,
   "metadata": {},
   "outputs": [
    {
     "name": "stdout",
     "output_type": "stream",
     "text": [
      "[('a', False), ('b', True), ('a', True), ('c', True), ('a', False)]\n"
     ]
    }
   ],
   "source": [
    "print(compile_pattern(\"ab*a*c*a\"))"
   ]
  },
  {
   "cell_type": "code",
   "execution_count": 107,
   "metadata": {},
   "outputs": [],
   "source": [
    "a = [4,5,6,7,8]"
   ]
  },
  {
   "cell_type": "code",
   "execution_count": 108,
   "metadata": {},
   "outputs": [
    {
     "data": {
      "text/plain": [
       "8"
      ]
     },
     "execution_count": 108,
     "metadata": {},
     "output_type": "execute_result"
    }
   ],
   "source": [
    "a.pop()"
   ]
  },
  {
   "cell_type": "code",
   "execution_count": 109,
   "metadata": {},
   "outputs": [
    {
     "data": {
      "text/plain": [
       "[4, 5, 6, 7]"
      ]
     },
     "execution_count": 109,
     "metadata": {},
     "output_type": "execute_result"
    }
   ],
   "source": [
    "a"
   ]
  },
  {
   "cell_type": "code",
   "execution_count": 110,
   "metadata": {},
   "outputs": [
    {
     "data": {
      "text/plain": [
       "6"
      ]
     },
     "execution_count": 110,
     "metadata": {},
     "output_type": "execute_result"
    }
   ],
   "source": [
    "a[-2]"
   ]
  },
  {
   "cell_type": "code",
   "execution_count": null,
   "metadata": {},
   "outputs": [],
   "source": []
  }
 ],
 "metadata": {
  "kernelspec": {
   "display_name": "Python 3",
   "language": "python",
   "name": "python3"
  },
  "language_info": {
   "codemirror_mode": {
    "name": "ipython",
    "version": 3
   },
   "file_extension": ".py",
   "mimetype": "text/x-python",
   "name": "python",
   "nbconvert_exporter": "python",
   "pygments_lexer": "ipython3",
   "version": "3.7.3"
  }
 },
 "nbformat": 4,
 "nbformat_minor": 2
}
