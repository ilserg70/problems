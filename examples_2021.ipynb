{
 "cells": [
  {
   "cell_type": "markdown",
   "id": "distinguished-beginning",
   "metadata": {},
   "source": [
    "# Proplems"
   ]
  },
  {
   "cell_type": "markdown",
   "id": "adolescent-relative",
   "metadata": {},
   "source": [
    "### Largest Rectangle\n",
    "https://www.hackerrank.com/challenges/largest-rectangle/problem?h_l=interview&playlist_slugs%5B%5D=interview-preparation-kit&playlist_slugs%5B%5D=stacks-queues"
   ]
  },
  {
   "cell_type": "code",
   "execution_count": 71,
   "id": "cosmetic-entry",
   "metadata": {},
   "outputs": [],
   "source": [
    "def get_min_index(h):\n",
    "    return h.index(min(h)) # or np.argmin(h)\n",
    "\n",
    "def largestRectangle(h):\n",
    "    \"\"\" Time:  O(n*Ln(n))\n",
    "        Space: O(Ln(n)) - recursion\n",
    "    \"\"\"\n",
    "    n = len(h)\n",
    "    if n == 1:\n",
    "        return h[0]\n",
    "    k = get_min_index(h)\n",
    "    left_area = largestRectangle(h[:k]) if k > 0 else 0\n",
    "    right_area = largestRectangle(h[k+1:]) if k < n-1 else 0\n",
    "    total_area = n * h[k]\n",
    "    return max([left_area, total_area, right_area])"
   ]
  },
  {
   "cell_type": "code",
   "execution_count": 44,
   "id": "prepared-mediterranean",
   "metadata": {},
   "outputs": [
    {
     "data": {
      "text/plain": [
       "9"
      ]
     },
     "execution_count": 44,
     "metadata": {},
     "output_type": "execute_result"
    }
   ],
   "source": [
    "h = [1, 2, 3, 4, 5] # 9\n",
    "largestRectangle(h)"
   ]
  },
  {
   "cell_type": "code",
   "execution_count": 45,
   "id": "spatial-compact",
   "metadata": {},
   "outputs": [],
   "source": [
    "def largestRectangle(h):\n",
    "    \"\"\" Time:  O(n*Ln(n))\n",
    "        Space: O(Ln(n)) - queue\n",
    "    \"\"\"\n",
    "    areas = []\n",
    "    queue = [(0, len(h)-1)] # start, end\n",
    "    while len(queue) > 0:\n",
    "        start, end = queue.pop(0)\n",
    "        if start == end:\n",
    "            areas.append(h[start])\n",
    "        elif start < end:\n",
    "            min_idx = start + get_min_index(h[start:end+1])\n",
    "            areas.append((end+1-start)*h[min_idx])\n",
    "            if min_idx > start:\n",
    "                queue.append((start, min_idx-1))\n",
    "            if min_idx < end:\n",
    "                queue.append((min_idx+1, end))\n",
    "    return max(areas)"
   ]
  },
  {
   "cell_type": "code",
   "execution_count": 46,
   "id": "freelance-hollywood",
   "metadata": {},
   "outputs": [
    {
     "data": {
      "text/plain": [
       "9"
      ]
     },
     "execution_count": 46,
     "metadata": {},
     "output_type": "execute_result"
    }
   ],
   "source": [
    "h = [1, 2, 3, 4, 5] # 9\n",
    "largestRectangle(h)"
   ]
  },
  {
   "cell_type": "markdown",
   "id": "disabled-council",
   "metadata": {},
   "source": [
    "### Balanced Brackets\n",
    "https://www.hackerrank.com/challenges/balanced-brackets/problem?h_l=interview&playlist_slugs%5B%5D=interview-preparation-kit&playlist_slugs%5B%5D=stacks-queues"
   ]
  },
  {
   "cell_type": "code",
   "execution_count": 50,
   "id": "fourth-optics",
   "metadata": {},
   "outputs": [],
   "source": [
    "def isBalanced(s):\n",
    "    # Write your code here\n",
    "    brackets = [('(',')'), ('{','}'), ('[',']')]\n",
    "    stack = []\n",
    "    opens = [o for o, _ in brackets]\n",
    "    for c in s:\n",
    "        if c in opens:\n",
    "            stack.append(c)\n",
    "        elif len(stack)==0:\n",
    "            return \"NO\"\n",
    "        else:\n",
    "            c0 = stack.pop()\n",
    "            if not any([c0==c0_ and c_==c for c0_, c_ in brackets]):\n",
    "                return \"NO\"\n",
    "    return \"YES\" if len(stack)==0 else \"NO\""
   ]
  },
  {
   "cell_type": "code",
   "execution_count": 51,
   "id": "classical-representation",
   "metadata": {},
   "outputs": [],
   "source": [
    "test_cases = [\n",
    "    (\"{[()]}\", \"YES\"),\n",
    "    (\"{[(])}\", \"NO\"),\n",
    "    (\"{{[[(())]]}}\", \"YES\")\n",
    "]\n",
    "for in_str, expected in test_cases:\n",
    "    assert isBalanced(in_str) == expected"
   ]
  },
  {
   "cell_type": "markdown",
   "id": "italian-fireplace",
   "metadata": {},
   "source": [
    "### Queues: A Tale of Two Stacks\n",
    "https://www.hackerrank.com/challenges/ctci-queue-using-two-stacks/problem?h_l=interview&playlist_slugs%5B%5D=interview-preparation-kit&playlist_slugs%5B%5D=stacks-queues"
   ]
  },
  {
   "cell_type": "code",
   "execution_count": 69,
   "id": "selective-preparation",
   "metadata": {},
   "outputs": [],
   "source": [
    "class MyQueue(object):\n",
    "    def __init__(self):\n",
    "        self.stack1 = []\n",
    "        self.stack2 = []\n",
    "    \n",
    "    def peek(self):\n",
    "        while self.stack1:\n",
    "            self.stack2.append(self.stack1.pop())\n",
    "        return self.stack2[-1]\n",
    "        \n",
    "    def pop(self):\n",
    "        while self.stack1:\n",
    "            self.stack2.append(self.stack1.pop())\n",
    "        return self.stack2.pop()\n",
    "        \n",
    "    def put(self, value):\n",
    "        while self.stack2:\n",
    "            self.stack1.append(self.stack2.pop())\n",
    "        self.stack1.append(value)\n",
    "    \n",
    "    def print(self):\n",
    "        print(\"stack1\", self.stack1, \"stack2\", self.stack2)"
   ]
  },
  {
   "cell_type": "code",
   "execution_count": 70,
   "id": "pleasant-lighting",
   "metadata": {},
   "outputs": [
    {
     "name": "stdout",
     "output_type": "stream",
     "text": [
      "stack1 [15] stack2 []\n",
      "stack1 [15, 17] stack2 []\n",
      "15\n",
      "stack1 [] stack2 [17, 15]\n",
      "stack1 [15, 17, 25] stack2 []\n",
      "stack1 [] stack2 [25, 17]\n",
      "17\n",
      "stack1 [] stack2 [25, 17]\n",
      "stack1 [] stack2 [25]\n",
      "25\n",
      "stack1 [] stack2 [25]\n"
     ]
    }
   ],
   "source": [
    "q = MyQueue()\n",
    "q.put(15); q.print()\n",
    "q.put(17); q.print()\n",
    "print(q.peek()); q.print()\n",
    "q.put(25); q.print()\n",
    "q.pop(); q.print()\n",
    "print(q.peek()); q.print()\n",
    "q.pop(); q.print()\n",
    "print(q.peek()); q.print()"
   ]
  },
  {
   "cell_type": "markdown",
   "id": "suburban-woman",
   "metadata": {},
   "source": [
    "### Highest Value Palindrome\n",
    "https://www.hackerrank.com/challenges/richie-rich/problem"
   ]
  },
  {
   "cell_type": "code",
   "execution_count": 208,
   "id": "ultimate-wheat",
   "metadata": {},
   "outputs": [],
   "source": [
    "def highestValuePalindrome(s, n, k):\n",
    "    ss = list(map(int, s))\n",
    "    \n",
    "    min_k = sum([1 for i in range(n//2) if ss[i] != ss[n-1-i]])\n",
    "    if min_k > k:\n",
    "        return '-1'\n",
    "    \n",
    "    for i in range(n//2):\n",
    "        if ss[i] == 9 and ss[n-1-i] != 9:\n",
    "            ss[n-1-i] = 9\n",
    "            k -= 1\n",
    "            min_k -= 1\n",
    "        elif ss[i] != 9 and ss[n-1-i] == 9:\n",
    "            ss[i] = 9\n",
    "            k -= 1\n",
    "            min_k -= 1\n",
    "        elif ss[i] != 9 and ss[n-1-i] != 9:\n",
    "            if ss[i] != ss[n-1-i]:\n",
    "                if k - min_k >= 1:\n",
    "                    ss[i] = ss[n-1-i] = 9\n",
    "                    k -= 2\n",
    "                    min_k -= 1\n",
    "                elif ss[i] > ss[n-1-i]:\n",
    "                    ss[n-1-i] = ss[i]\n",
    "                    k -= 1\n",
    "                    min_k -= 1\n",
    "                else:\n",
    "                    ss[i] = ss[n-1-i]\n",
    "                    k -= 1\n",
    "                    min_k -= 1\n",
    "            elif k - min_k >= 2:\n",
    "                ss[i] = ss[n-1-i] = 9\n",
    "                k -= 2\n",
    "    \n",
    "    if k > 0 and n % 2 == 1:\n",
    "        ss[n//2] = 9\n",
    "    \n",
    "    return ''.join(map(str, ss)) "
   ]
  },
  {
   "cell_type": "code",
   "execution_count": 209,
   "id": "growing-battery",
   "metadata": {},
   "outputs": [
    {
     "data": {
      "text/plain": [
       "'-1'"
      ]
     },
     "execution_count": 209,
     "metadata": {},
     "output_type": "execute_result"
    }
   ],
   "source": [
    "highestValuePalindrome(s='0011',n=4, k=1)"
   ]
  },
  {
   "cell_type": "code",
   "execution_count": null,
   "id": "biblical-fence",
   "metadata": {},
   "outputs": [],
   "source": []
  },
  {
   "cell_type": "code",
   "execution_count": null,
   "id": "wooden-island",
   "metadata": {},
   "outputs": [],
   "source": []
  },
  {
   "cell_type": "markdown",
   "id": "stainless-mountain",
   "metadata": {},
   "source": [
    "### Min Max Riddle\n",
    "https://www.hackerrank.com/challenges/min-max-riddle/problem?h_l=interview&playlist_slugs%5B%5D=interview-preparation-kit&playlist_slugs%5B%5D=stacks-queues"
   ]
  },
  {
   "cell_type": "code",
   "execution_count": null,
   "id": "agreed-malaysia",
   "metadata": {},
   "outputs": [],
   "source": [
    "def riddle(arr):\n",
    "    # complete this function\n",
    "    results = []\n",
    "    n = len(arr)\n",
    "    windows = arr.copy()\n",
    "    for i in range(n):\n",
    "        results.append(max(windows))\n",
    "        "
   ]
  },
  {
   "cell_type": "markdown",
   "id": "israeli-market",
   "metadata": {},
   "source": [
    "### Tic-Toc game on infinit board"
   ]
  },
  {
   "cell_type": "code",
   "execution_count": null,
   "id": "raised-graham",
   "metadata": {},
   "outputs": [],
   "source": []
  },
  {
   "cell_type": "code",
   "execution_count": 120,
   "id": "dutch-evidence",
   "metadata": {},
   "outputs": [],
   "source": [
    "import imutils\n",
    "import cv2\n",
    "import numpy as np\n",
    "from pathlib import Path\n",
    "from PIL import Image # Pillow\n",
    "import six\n",
    "import torchvision.transforms as transforms\n",
    "toTensor = transforms.ToTensor()\n",
    "\n",
    "def image_to_model_input(img):\n",
    "    img = image_to_ndarray(img)\n",
    "    img = resize(img, w=IMG_WIDTH, h=IMG_HEIGHT)\n",
    "    img = toTensor(img)\n",
    "    img = img.sub_(0.5).div_(0.5)\n",
    "    return img\n",
    "\n",
    "def to_Image(img):\n",
    "    buf = six.BytesIO()\n",
    "    buf.write(img)\n",
    "    buf.seek(0)\n",
    "    try:                \n",
    "        img = Image.open(buf)\n",
    "        if not self.rgb:\n",
    "            img = img.convert('L')\n",
    "    except IOError:\n",
    "        print('Corrupted image for %d' % index)\n",
    "        return self[index + 1]\n",
    "\n",
    "def resize(img, w, h):\n",
    "    \"\"\" Image resizing\n",
    "    @param: w - Image width\n",
    "    @param: h - Image height\n",
    "    @return: image\n",
    "    \"\"\"\n",
    "    if img.shape[0] == h and img.shape[1] == w:\n",
    "        return img\n",
    "    # interpolation - cv2.INTER_LINEAR (default) cv2.INTER_AREA cv2.INTER_CUBIC\n",
    "    return cv2.resize(img, (w, h), interpolation=cv2.INTER_LINEAR)"
   ]
  },
  {
   "cell_type": "code",
   "execution_count": 198,
   "id": "structured-pastor",
   "metadata": {},
   "outputs": [],
   "source": [
    "def random_add_gaussian_blur(img, rad=None):\n",
    "    if not rad:\n",
    "        x = np.random.rand()\n",
    "        rad = 1 if x<0.33 else 2 if x<0.66 else 3\n",
    "    dist = 2 * round(rad + np.random.rand() * rad) + 1\n",
    "    return cv2.GaussianBlur(img, (dist, dist), int(round(2 * np.random.rand())))"
   ]
  },
  {
   "cell_type": "code",
   "execution_count": 188,
   "id": "comparable-bulgaria",
   "metadata": {},
   "outputs": [
    {
     "name": "stdout",
     "output_type": "stream",
     "text": [
      "(64, 128, 3)\n"
     ]
    },
    {
     "data": {
      "image/png": "[encoded data removed]",
      "text/plain": [
       "<PIL.Image.Image image mode=RGB size=128x64 at 0x7FD910BFE640>"
      ]
     },
     "execution_count": 188,
     "metadata": {},
     "output_type": "execute_result"
    }
   ],
   "source": [
    "img = cv2.imread(\"/Users/silinskiy/mydata/image_transform/[DP]380TM_California_0.000.jpg\", cv2.IMREAD_COLOR)\n",
    "print(img.shape)\n",
    "Image.fromarray(img)"
   ]
  },
  {
   "cell_type": "code",
   "execution_count": 202,
   "id": "monthly-resident",
   "metadata": {},
   "outputs": [
    {
     "name": "stdout",
     "output_type": "stream",
     "text": [
      "(64, 128, 3)\n"
     ]
    },
    {
     "data": {
      "image/png": "[encoded data removed]",
      "text/plain": [
       "<PIL.Image.Image image mode=RGB size=128x64 at 0x7FD910C40FA0>"
      ]
     },
     "execution_count": 202,
     "metadata": {},
     "output_type": "execute_result"
    }
   ],
   "source": [
    "img2 = random_add_gaussian_blur(img)\n",
    "print(img2.shape)\n",
    "Image.fromarray(img2)"
   ]
  },
  {
   "cell_type": "code",
   "execution_count": 197,
   "id": "defensive-vatican",
   "metadata": {},
   "outputs": [
    {
     "data": {
      "text/plain": [
       "9"
      ]
     },
     "execution_count": 197,
     "metadata": {},
     "output_type": "execute_result"
    }
   ],
   "source": [
    "x = np.random.rand()\n",
    "rad = 1 if x<0.33 else 2 if x<0.66 else 3\n",
    "dist = 2 * round(rad + np.random.rand() * rad) + 1\n",
    "dist"
   ]
  },
  {
   "cell_type": "code",
   "execution_count": 156,
   "id": "vietnamese-chorus",
   "metadata": {},
   "outputs": [
    {
     "name": "stdout",
     "output_type": "stream",
     "text": [
      "73.73802399191345\n",
      "(281, 194, 3)\n"
     ]
    },
    {
     "data": {
      "image/png": "[encoded data removed]",
      "text/plain": [
       "<PIL.Image.Image image mode=RGB size=194x281 at 0x7FD910B34A00>"
      ]
     },
     "execution_count": 156,
     "metadata": {},
     "output_type": "execute_result"
    }
   ],
   "source": [
    "angle = np.random.rand() * 180\n",
    "print(angle)\n",
    "h, w = img.shape[0], img.shape[1]\n",
    "out = resize(img, w*2, h*2)\n",
    "out = imutils.rotate_bound(out, angle)\n",
    "print(out.shape)\n",
    "Image.fromarray(out)"
   ]
  },
  {
   "cell_type": "code",
   "execution_count": 157,
   "id": "wooden-wilderness",
   "metadata": {},
   "outputs": [
    {
     "data": {
      "text/plain": [
       "[140, 97, 2]"
      ]
     },
     "execution_count": 157,
     "metadata": {},
     "output_type": "execute_result"
    }
   ],
   "source": [
    "s = list((np.round((np.array(out.shape) / 2))).astype(int))\n",
    "s"
   ]
  },
  {
   "cell_type": "code",
   "execution_count": null,
   "id": "decent-lemon",
   "metadata": {},
   "outputs": [],
   "source": []
  },
  {
   "cell_type": "code",
   "execution_count": null,
   "id": "disturbed-artist",
   "metadata": {},
   "outputs": [],
   "source": []
  },
  {
   "cell_type": "code",
   "execution_count": 34,
   "id": "focal-exclusion",
   "metadata": {},
   "outputs": [
    {
     "name": "stdout",
     "output_type": "stream",
     "text": [
      "/Users/silinskiy/mydata/image_transform/[DP]380TM_California_0.000.jpg  =>  /Users/silinskiy/mydata/image_transform/transform/[DP]380TM_California_0.000.jpg\n",
      "/Users/silinskiy/mydata/image_transform/[DP]353LS_California_1.000.jpg  =>  /Users/silinskiy/mydata/image_transform/transform/[DP]353LS_California_1.000.jpg\n",
      "/Users/silinskiy/mydata/image_transform/[DP]559ZS_California_1.000.jpg  =>  /Users/silinskiy/mydata/image_transform/transform/[DP]559ZS_California_1.000.jpg\n",
      "/Users/silinskiy/mydata/image_transform/[AN]2035_New-York_0.3674.jpg  =>  /Users/silinskiy/mydata/image_transform/transform/[AN]2035_New-York_0.3674.jpg\n"
     ]
    }
   ],
   "source": [
    "wd = Path(\"/Users/silinskiy/mydata/image_transform\")\n",
    "od = wd.joinpath(\"transform\")\n",
    "for f in wd.glob(\"*.jpg\"):\n",
    "    out_path = od.joinpath(f.name)\n",
    "    #img = cv2.imread(str(f), cv2.IMREAD_COLOR)\n",
    "    \n",
    "    img_bin = read_image(f)\n",
    "    img = image_to_ndarray(img_bin)\n",
    "    img = random_adding_shade(img)\n",
    "    \n",
    "    cv2.imwrite(str(out_path), img)\n",
    "    print(f, ' => ', out_path)"
   ]
  },
  {
   "cell_type": "code",
   "execution_count": null,
   "id": "reported-rental",
   "metadata": {},
   "outputs": [],
   "source": []
  },
  {
   "cell_type": "code",
   "execution_count": null,
   "id": "upset-charles",
   "metadata": {},
   "outputs": [],
   "source": []
  },
  {
   "cell_type": "code",
   "execution_count": null,
   "id": "original-stomach",
   "metadata": {},
   "outputs": [],
   "source": []
  }
 ],
 "metadata": {
  "kernelspec": {
   "display_name": "Python 3",
   "language": "python",
   "name": "python3"
  },
  "language_info": {
   "codemirror_mode": {
    "name": "ipython",
    "version": 3
   },
   "file_extension": ".py",
   "mimetype": "text/x-python",
   "name": "python",
   "nbconvert_exporter": "python",
   "pygments_lexer": "ipython3",
   "version": "3.8.5"
  }
 },
 "nbformat": 4,
 "nbformat_minor": 5
}
