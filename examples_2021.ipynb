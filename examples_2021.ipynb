{
 "cells": [
  {
   "cell_type": "markdown",
   "id": "expired-professor",
   "metadata": {},
   "source": [
    "# Proplems"
   ]
  },
  {
   "cell_type": "markdown",
   "id": "dedicated-conference",
   "metadata": {},
   "source": [
    "### Largest Rectangle\n",
    "https://www.hackerrank.com/challenges/largest-rectangle/problem?h_l=interview&playlist_slugs%5B%5D=interview-preparation-kit&playlist_slugs%5B%5D=stacks-queues"
   ]
  },
  {
   "cell_type": "code",
   "execution_count": 71,
   "id": "written-newark",
   "metadata": {},
   "outputs": [],
   "source": [
    "def get_min_index(h):\n",
    "    return h.index(min(h)) # or np.argmin(h)\n",
    "\n",
    "def largestRectangle(h):\n",
    "    \"\"\" Time:  O(n*Ln(n))\n",
    "        Space: O(Ln(n)) - recursion\n",
    "    \"\"\"\n",
    "    n = len(h)\n",
    "    if n == 1:\n",
    "        return h[0]\n",
    "    k = get_min_index(h)\n",
    "    left_area = largestRectangle(h[:k]) if k > 0 else 0\n",
    "    right_area = largestRectangle(h[k+1:]) if k < n-1 else 0\n",
    "    total_area = n * h[k]\n",
    "    return max([left_area, total_area, right_area])"
   ]
  },
  {
   "cell_type": "code",
   "execution_count": 44,
   "id": "terminal-screen",
   "metadata": {},
   "outputs": [
    {
     "data": {
      "text/plain": [
       "9"
      ]
     },
     "execution_count": 44,
     "metadata": {},
     "output_type": "execute_result"
    }
   ],
   "source": [
    "h = [1, 2, 3, 4, 5] # 9\n",
    "largestRectangle(h)"
   ]
  },
  {
   "cell_type": "code",
   "execution_count": 45,
   "id": "negative-driving",
   "metadata": {},
   "outputs": [],
   "source": [
    "def largestRectangle(h):\n",
    "    \"\"\" Time:  O(n*Ln(n))\n",
    "        Space: O(Ln(n)) - queue\n",
    "    \"\"\"\n",
    "    areas = []\n",
    "    queue = [(0, len(h)-1)] # start, end\n",
    "    while len(queue) > 0:\n",
    "        start, end = queue.pop(0)\n",
    "        if start == end:\n",
    "            areas.append(h[start])\n",
    "        elif start < end:\n",
    "            min_idx = start + get_min_index(h[start:end+1])\n",
    "            areas.append((end+1-start)*h[min_idx])\n",
    "            if min_idx > start:\n",
    "                queue.append((start, min_idx-1))\n",
    "            if min_idx < end:\n",
    "                queue.append((min_idx+1, end))\n",
    "    return max(areas)"
   ]
  },
  {
   "cell_type": "code",
   "execution_count": 46,
   "id": "elegant-filter",
   "metadata": {},
   "outputs": [
    {
     "data": {
      "text/plain": [
       "9"
      ]
     },
     "execution_count": 46,
     "metadata": {},
     "output_type": "execute_result"
    }
   ],
   "source": [
    "h = [1, 2, 3, 4, 5] # 9\n",
    "largestRectangle(h)"
   ]
  },
  {
   "cell_type": "markdown",
   "id": "southwest-addiction",
   "metadata": {},
   "source": [
    "### Balanced Brackets\n",
    "https://www.hackerrank.com/challenges/balanced-brackets/problem?h_l=interview&playlist_slugs%5B%5D=interview-preparation-kit&playlist_slugs%5B%5D=stacks-queues"
   ]
  },
  {
   "cell_type": "code",
   "execution_count": 50,
   "id": "damaged-poison",
   "metadata": {},
   "outputs": [],
   "source": [
    "def isBalanced(s):\n",
    "    # Write your code here\n",
    "    brackets = [('(',')'), ('{','}'), ('[',']')]\n",
    "    stack = []\n",
    "    opens = [o for o, _ in brackets]\n",
    "    for c in s:\n",
    "        if c in opens:\n",
    "            stack.append(c)\n",
    "        elif len(stack)==0:\n",
    "            return \"NO\"\n",
    "        else:\n",
    "            c0 = stack.pop()\n",
    "            if not any([c0==c0_ and c_==c for c0_, c_ in brackets]):\n",
    "                return \"NO\"\n",
    "    return \"YES\" if len(stack)==0 else \"NO\""
   ]
  },
  {
   "cell_type": "code",
   "execution_count": 51,
   "id": "about-rates",
   "metadata": {},
   "outputs": [],
   "source": [
    "test_cases = [\n",
    "    (\"{[()]}\", \"YES\"),\n",
    "    (\"{[(])}\", \"NO\"),\n",
    "    (\"{{[[(())]]}}\", \"YES\")\n",
    "]\n",
    "for in_str, expected in test_cases:\n",
    "    assert isBalanced(in_str) == expected"
   ]
  },
  {
   "cell_type": "markdown",
   "id": "restricted-toolbox",
   "metadata": {},
   "source": [
    "### Queues: A Tale of Two Stacks\n",
    "https://www.hackerrank.com/challenges/ctci-queue-using-two-stacks/problem?h_l=interview&playlist_slugs%5B%5D=interview-preparation-kit&playlist_slugs%5B%5D=stacks-queues"
   ]
  },
  {
   "cell_type": "code",
   "execution_count": 69,
   "id": "universal-florence",
   "metadata": {},
   "outputs": [],
   "source": [
    "class MyQueue(object):\n",
    "    def __init__(self):\n",
    "        self.stack1 = []\n",
    "        self.stack2 = []\n",
    "    \n",
    "    def peek(self):\n",
    "        while self.stack1:\n",
    "            self.stack2.append(self.stack1.pop())\n",
    "        return self.stack2[-1]\n",
    "        \n",
    "    def pop(self):\n",
    "        while self.stack1:\n",
    "            self.stack2.append(self.stack1.pop())\n",
    "        return self.stack2.pop()\n",
    "        \n",
    "    def put(self, value):\n",
    "        while self.stack2:\n",
    "            self.stack1.append(self.stack2.pop())\n",
    "        self.stack1.append(value)\n",
    "    \n",
    "    def print(self):\n",
    "        print(\"stack1\", self.stack1, \"stack2\", self.stack2)"
   ]
  },
  {
   "cell_type": "code",
   "execution_count": 70,
   "id": "matched-campus",
   "metadata": {},
   "outputs": [
    {
     "name": "stdout",
     "output_type": "stream",
     "text": [
      "stack1 [15] stack2 []\n",
      "stack1 [15, 17] stack2 []\n",
      "15\n",
      "stack1 [] stack2 [17, 15]\n",
      "stack1 [15, 17, 25] stack2 []\n",
      "stack1 [] stack2 [25, 17]\n",
      "17\n",
      "stack1 [] stack2 [25, 17]\n",
      "stack1 [] stack2 [25]\n",
      "25\n",
      "stack1 [] stack2 [25]\n"
     ]
    }
   ],
   "source": [
    "q = MyQueue()\n",
    "q.put(15); q.print()\n",
    "q.put(17); q.print()\n",
    "print(q.peek()); q.print()\n",
    "q.put(25); q.print()\n",
    "q.pop(); q.print()\n",
    "print(q.peek()); q.print()\n",
    "q.pop(); q.print()\n",
    "print(q.peek()); q.print()"
   ]
  },
  {
   "cell_type": "markdown",
   "id": "excessive-mouth",
   "metadata": {},
   "source": [
    "### Highest Value Palindrome\n",
    "https://www.hackerrank.com/challenges/richie-rich/problem"
   ]
  },
  {
   "cell_type": "code",
   "execution_count": 208,
   "id": "practical-pollution",
   "metadata": {},
   "outputs": [],
   "source": [
    "def highestValuePalindrome(s, n, k):\n",
    "    ss = list(map(int, s))\n",
    "    \n",
    "    min_k = sum([1 for i in range(n//2) if ss[i] != ss[n-1-i]])\n",
    "    if min_k > k:\n",
    "        return '-1'\n",
    "    \n",
    "    for i in range(n//2):\n",
    "        if ss[i] == 9 and ss[n-1-i] != 9:\n",
    "            ss[n-1-i] = 9\n",
    "            k -= 1\n",
    "            min_k -= 1\n",
    "        elif ss[i] != 9 and ss[n-1-i] == 9:\n",
    "            ss[i] = 9\n",
    "            k -= 1\n",
    "            min_k -= 1\n",
    "        elif ss[i] != 9 and ss[n-1-i] != 9:\n",
    "            if ss[i] != ss[n-1-i]:\n",
    "                if k - min_k >= 1:\n",
    "                    ss[i] = ss[n-1-i] = 9\n",
    "                    k -= 2\n",
    "                    min_k -= 1\n",
    "                elif ss[i] > ss[n-1-i]:\n",
    "                    ss[n-1-i] = ss[i]\n",
    "                    k -= 1\n",
    "                    min_k -= 1\n",
    "                else:\n",
    "                    ss[i] = ss[n-1-i]\n",
    "                    k -= 1\n",
    "                    min_k -= 1\n",
    "            elif k - min_k >= 2:\n",
    "                ss[i] = ss[n-1-i] = 9\n",
    "                k -= 2\n",
    "    \n",
    "    if k > 0 and n % 2 == 1:\n",
    "        ss[n//2] = 9\n",
    "    \n",
    "    return ''.join(map(str, ss)) "
   ]
  },
  {
   "cell_type": "code",
   "execution_count": 209,
   "id": "constant-dealer",
   "metadata": {},
   "outputs": [
    {
     "data": {
      "text/plain": [
       "'-1'"
      ]
     },
     "execution_count": 209,
     "metadata": {},
     "output_type": "execute_result"
    }
   ],
   "source": [
    "highestValuePalindrome(s='0011',n=4, k=1)"
   ]
  },
  {
   "cell_type": "markdown",
   "id": "secondary-newfoundland",
   "metadata": {},
   "source": [
    "### Min Max Riddle\n",
    "https://www.hackerrank.com/challenges/min-max-riddle/problem?h_l=interview&playlist_slugs%5B%5D=interview-preparation-kit&playlist_slugs%5B%5D=stacks-queues"
   ]
  },
  {
   "cell_type": "code",
   "execution_count": null,
   "id": "cordless-acrylic",
   "metadata": {},
   "outputs": [],
   "source": [
    "def riddle(arr):\n",
    "    # complete this function\n",
    "    results = []\n",
    "    n = len(arr)\n",
    "    windows = arr.copy()\n",
    "    for i in range(n):\n",
    "        results.append(max(windows))\n",
    "        "
   ]
  },
  {
   "cell_type": "markdown",
   "id": "seventh-corrections",
   "metadata": {},
   "source": [
    "### Calc. average at each level of binary tree"
   ]
  },
  {
   "cell_type": "code",
   "execution_count": 16,
   "id": "proof-spirituality",
   "metadata": {},
   "outputs": [],
   "source": [
    "# Example:\n",
    "\n",
    "#     4     aver=4\n",
    "#    / \\\n",
    "#   7   9   aver=8\n",
    "#  / \\   \\\n",
    "# 10  2   6 aver=6\n",
    "#      \\\n",
    "#      6    aver=6\n",
    "#     /\n",
    "#    2      aver=2\n",
    "\n",
    "class BTree():\n",
    "    def __init__(self, val):\n",
    "        self.val = val\n",
    "        self.left = None\n",
    "        self.right = None\n",
    "    \n",
    "    def depth(self):\n",
    "        l = 0 if self.left is None else 1 + self.left.depth()\n",
    "        r = 0 if self.right is None else 1 + self.right.depth()\n",
    "        return max(l, r)\n",
    "    \n",
    "    def aver_at_level(self):\n",
    "        sum_cnt = []\n",
    "        q = [(self, 0)]\n",
    "        while q:\n",
    "            node, level = q.pop(0)\n",
    "            \n",
    "            if len(sum_cnt) <= level:\n",
    "                sum_cnt.append([0, 0])\n",
    "                \n",
    "            sum_cnt[level][0] += node.val\n",
    "            sum_cnt[level][1] += 1\n",
    "            \n",
    "            if node.left is not None:\n",
    "                q.append((node.left, level+1))\n",
    "            \n",
    "            if node.right is not None:\n",
    "                q.append((node.right, level+1))\n",
    "        return [s/c for s, c in sum_cnt]\n",
    "            \n",
    "\n",
    "t = BTree(4)\n",
    "t.left = BTree(7)\n",
    "t.left.left = BTree(10)\n",
    "t.left.right = BTree(2)\n",
    "t.left.right.right = BTree(6)\n",
    "t.left.right.right.left = BTree(2)\n",
    "t.right = BTree(9)\n",
    "t.right.right = BTree(6)\n",
    "\n",
    "out = [4, 8, 6, 6, 2]\n"
   ]
  },
  {
   "cell_type": "code",
   "execution_count": 17,
   "id": "apparent-editor",
   "metadata": {},
   "outputs": [
    {
     "data": {
      "text/plain": [
       "[4.0, 8.0, 6.0, 6.0, 2.0]"
      ]
     },
     "execution_count": 17,
     "metadata": {},
     "output_type": "execute_result"
    }
   ],
   "source": [
    "t.aver_at_level()"
   ]
  },
  {
   "cell_type": "markdown",
   "id": "given-probability",
   "metadata": {},
   "source": [
    "### Common Child\n",
    "https://www.hackerrank.com/challenges/common-child/problem?utm_campaign=challenge-recommendation&utm_medium=email&utm_source=24-hour-campaign"
   ]
  },
  {
   "cell_type": "code",
   "execution_count": 49,
   "id": "proprietary-flavor",
   "metadata": {},
   "outputs": [],
   "source": [
    "def _index_of(s, c, n):\n",
    "    try:\n",
    "        return s.index(c)\n",
    "    except:\n",
    "        return n\n",
    "\n",
    "def _common(s1, s2, n):\n",
    "    if not s1 or not s2:\n",
    "        return 0\n",
    "    c1, c2 = s1[0], s2[0]\n",
    "    if c1 == c2:\n",
    "        return 1 + _common(s1[1:], s2[1:], n)\n",
    "    else:\n",
    "        i1 = _index_of(s1, c2, n)\n",
    "        i2 = _index_of(s2, c1, n)\n",
    "        return max(_common(s1[i1:], s2, n), _common(s1[i1:], s2, n), _common(s1[1:], s2[1:], n))\n",
    "\n",
    "def commonChild(s1, s2):\n",
    "    # Write your code here\n",
    "    ss1 = set(s1)\n",
    "    ss2 = set(s2)\n",
    "    s1 = [c for c in s1 if c in ss2]\n",
    "    s2 = [c for c in s2 if c in ss1]\n",
    "    print(s1)\n",
    "    print(s2)\n",
    "    return _common(list(s1), list(s2), n=max(len(s1),len(s2)))"
   ]
  },
  {
   "cell_type": "code",
   "execution_count": 50,
   "id": "documentary-water",
   "metadata": {},
   "outputs": [
    {
     "name": "stdout",
     "output_type": "stream",
     "text": [
      "['H', 'N', 'H', 'A', 'N']\n",
      "['N', 'H', 'A', 'A', 'A', 'A']\n"
     ]
    },
    {
     "data": {
      "text/plain": [
       "3"
      ]
     },
     "execution_count": 50,
     "metadata": {},
     "output_type": "execute_result"
    }
   ],
   "source": [
    "s1 = \"SHINCHAN\"\n",
    "s2 = \"NOHARAAA\"\n",
    "commonChild(s1, s2)"
   ]
  },
  {
   "cell_type": "code",
   "execution_count": null,
   "id": "correct-robert",
   "metadata": {},
   "outputs": [],
   "source": [
    "['H', 'N', 'H', 'A', 'N']\n",
    "[     'N', 'H', 'A',     'A', 'A', 'A']"
   ]
  },
  {
   "cell_type": "code",
   "execution_count": 52,
   "id": "musical-stationery",
   "metadata": {},
   "outputs": [
    {
     "name": "stdout",
     "output_type": "stream",
     "text": [
      "['g', 'h', 'a', 's', 'k', 'j', 'd', 'f', 'h', 'k', 'v', 'n', 'x', 'c', 'm', 'b', 'v', 'n']\n",
      "['g', 'a', 's', 'd', 'j', 'h', 'g', 'f', 'a', 'k', 'v', 'm', 'n', 'c', 'x', 'b']\n"
     ]
    },
    {
     "data": {
      "text/plain": [
       "7"
      ]
     },
     "execution_count": 52,
     "metadata": {},
     "output_type": "execute_result"
    }
   ],
   "source": [
    "s1 = \"ghaskjdfhlewiuywlkvnzxcmbvnzl\"\n",
    "s2 = \"gasdjhgfakvmncxb\"\n",
    "commonChild(s1, s2)"
   ]
  },
  {
   "cell_type": "code",
   "execution_count": 29,
   "id": "duplicate-commissioner",
   "metadata": {},
   "outputs": [],
   "source": [
    "ss = ['g', 'h', 'a', 's', 'k', 'j', 'd', 'f', 'h', 'k', 'v', 'n', 'x', 'c', 'm', 'b', 'v', 'n']"
   ]
  },
  {
   "cell_type": "code",
   "execution_count": 36,
   "id": "vocal-pulse",
   "metadata": {},
   "outputs": [
    {
     "data": {
      "text/plain": [
       "[]"
      ]
     },
     "execution_count": 36,
     "metadata": {},
     "output_type": "execute_result"
    }
   ],
   "source": [
    "ss[100:]"
   ]
  },
  {
   "cell_type": "code",
   "execution_count": null,
   "id": "convenient-geometry",
   "metadata": {},
   "outputs": [],
   "source": [
    "['g', 'h', 'a', 's', 'k', 'j', 'd',      'f', 'h', 'k', 'v',      'n',      'x', 'c', 'm', 'b', 'v', 'n']\n",
    "['g',      'a', 's', 'd', 'j', 'h', 'g', 'f', 'a', 'k', 'v', 'm', 'n', 'c', 'x',           'b']"
   ]
  },
  {
   "cell_type": "markdown",
   "id": "geographic-sunglasses",
   "metadata": {},
   "source": [
    "### Tic-Toc game on infinit board"
   ]
  },
  {
   "cell_type": "code",
   "execution_count": null,
   "id": "induced-double",
   "metadata": {},
   "outputs": [],
   "source": []
  },
  {
   "cell_type": "code",
   "execution_count": null,
   "id": "cathedral-boxing",
   "metadata": {},
   "outputs": [],
   "source": []
  }
 ],
 "metadata": {
  "kernelspec": {
   "display_name": "Python 3",
   "language": "python",
   "name": "python3"
  },
  "language_info": {
   "codemirror_mode": {
    "name": "ipython",
    "version": 3
   },
   "file_extension": ".py",
   "mimetype": "text/x-python",
   "name": "python",
   "nbconvert_exporter": "python",
   "pygments_lexer": "ipython3",
   "version": "3.8.5"
  }
 },
 "nbformat": 4,
 "nbformat_minor": 5
}
