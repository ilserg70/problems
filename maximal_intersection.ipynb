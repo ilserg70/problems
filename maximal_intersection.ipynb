{
 "cells": [
  {
   "cell_type": "markdown",
   "metadata": {},
   "source": [
    "#### Maximal intersection (Facebook)\n",
    "- Given a list of people with they birth and death years, find a year with the highest population.\n",
    "- Given a timetable of classes, find minimal number of auditorius."
   ]
  },
  {
   "cell_type": "code",
   "execution_count": null,
   "metadata": {},
   "outputs": [],
   "source": [
    "# O(n*ln(n))\n",
    "def find_max_intersect(intervals):\n",
    "    # 1) O(n) transform intervals to list of (date, is_start)\n",
    "    dates = []\n",
    "    for (s, e) in intervals:\n",
    "        dates.append((s, True))\n",
    "        dates.append((e, False))\n",
    "    # 2) O(n*ln(n)) sorting by date and, if dates are the same then by is_start\n",
    "    dates = sorted(dates)\n",
    "    # 3) O(n) Looping through the list of dates and \n",
    "    # if start date then increment the count otherwise decrement\n",
    "    count, max_count = 0, 0\n",
    "    for p in dates:\n",
    "        count += 1 if p[1] else -1\n",
    "        if count > max_count:\n",
    "            max_count = count\n",
    "    return max_count"
   ]
  },
  {
   "cell_type": "code",
   "execution_count": 1,
   "metadata": {},
   "outputs": [],
   "source": [
    "peoples = [\n",
    "    (2000, 2010),\n",
    "    (1920, 1941),\n",
    "    (1960, 1985),\n",
    "    (1906, 1945),\n",
    "    (1965, 1972),\n",
    "    (1900, 1910),\n",
    "    (1950, 1970),\n",
    "    (1957, 1965)\n",
    "]"
   ]
  },
  {
   "cell_type": "code",
   "execution_count": null,
   "metadata": {},
   "outputs": [],
   "source": [
    "find_max_intersect(peoples)"
   ]
  },
  {
   "cell_type": "code",
   "execution_count": 25,
   "metadata": {},
   "outputs": [],
   "source": [
    "# O(n + m), where m = (max_end - min_start + 1)\n",
    "from functools import reduce\n",
    "def calc_min_start(intervals):\n",
    "    return reduce(lambda x, y: x if x < y else y, map(lambda p: p[0], intervals))\n",
    "def calc_max_end(intervals):\n",
    "    return reduce(lambda x, y: x if x > y else y, map(lambda p: p[1], intervals))\n",
    "def calc_delta(intervals, min_start, max_end):\n",
    "    delta = [0] * (max_end - min_start + 1)\n",
    "    for s, e in intervals:\n",
    "        delta[s - min_start] += 1\n",
    "        delta[e - min_start] -= 1\n",
    "    return delta\n",
    "def calc_peack(delta):\n",
    "    count, peack, pos_from = 0, 0, 0\n",
    "    for pos in range(len(delta)):\n",
    "        count += delta[pos]\n",
    "        if count > peack:\n",
    "            peack = count\n",
    "            pos_from = pos\n",
    "    pos_to = 0\n",
    "    for pos in range(pos_from, len(delta)):\n",
    "        if delta[pos] < 0:\n",
    "            pos_to = pos\n",
    "            break\n",
    "    return (peack, pos_from, pos_to)\n",
    "def find_max_intersect2(intervals):\n",
    "    min_start = calc_min_start(intervals)\n",
    "    print(\"min_start = {}\".format(min_start))\n",
    "    max_end = calc_max_end(intervals)\n",
    "    print(\"max_end = {}\".format(max_end))\n",
    "    delta = calc_delta(intervals, min_start, max_end)\n",
    "    peack, pos_from, pos_to = calc_peack(delta)\n",
    "    print(\"peack = {}\".format(peack))\n",
    "    print(\"from year = {}\".format(min_start + pos_from))\n",
    "    print(\"to year = {}\".format(min_start + pos_to))"
   ]
  },
  {
   "cell_type": "code",
   "execution_count": 26,
   "metadata": {},
   "outputs": [
    {
     "name": "stdout",
     "output_type": "stream",
     "text": [
      "min_start = 1900\n",
      "max_end = 2010\n",
      "peack = 3\n",
      "from year = 1960\n",
      "to year = 1970\n"
     ]
    }
   ],
   "source": [
    "find_max_intersect2(peoples)"
   ]
  },
  {
   "cell_type": "code",
   "execution_count": null,
   "metadata": {},
   "outputs": [],
   "source": []
  }
 ],
 "metadata": {
  "kernelspec": {
   "display_name": "Python 3",
   "language": "python",
   "name": "python3"
  },
  "language_info": {
   "codemirror_mode": {
    "name": "ipython",
    "version": 3
   },
   "file_extension": ".py",
   "mimetype": "text/x-python",
   "name": "python",
   "nbconvert_exporter": "python",
   "pygments_lexer": "ipython3",
   "version": "3.7.3"
  }
 },
 "nbformat": 4,
 "nbformat_minor": 2
}
