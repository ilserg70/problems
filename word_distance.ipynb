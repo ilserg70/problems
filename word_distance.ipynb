{
 "cells": [
  {
   "cell_type": "markdown",
   "metadata": {},
   "source": [
    "#### Word distance"
   ]
  },
  {
   "cell_type": "code",
   "execution_count": 38,
   "metadata": {},
   "outputs": [],
   "source": [
    "def calc_dist(word1, word2):\n",
    "    n1 = len(word1)\n",
    "    n2 = len(word2)\n",
    "    d = []\n",
    "    for i in range(n1+1):\n",
    "        d.append([0] * (n2+1))\n",
    "    for i in range(n1+1):\n",
    "        d[i][0] = i\n",
    "    for j in range(n2+1):\n",
    "        d[0][j] = j\n",
    "    for i in range(1, n1+1):\n",
    "        for j in range(1, n2+1):\n",
    "            if word1[i-1] == word2[j-1]:\n",
    "                d[i][j] = d[i-1][j-1]\n",
    "            else:\n",
    "                delete = d[i][j-1] + 1\n",
    "                insert = d[i-1][j] + 1\n",
    "                replace = d[i-1][j-1] + 1\n",
    "                d[i][j] = min(delete, insert, replace)\n",
    "    return d[n1][n2]\n",
    "    "
   ]
  },
  {
   "cell_type": "code",
   "execution_count": 39,
   "metadata": {},
   "outputs": [
    {
     "data": {
      "text/plain": [
       "0"
      ]
     },
     "execution_count": 39,
     "metadata": {},
     "output_type": "execute_result"
    }
   ],
   "source": [
    "calc_dist(\"apple\",\"apple\")"
   ]
  },
  {
   "cell_type": "code",
   "execution_count": null,
   "metadata": {},
   "outputs": [],
   "source": [
    "def calc_dist_recurs(word1, word2, i=None, j=None, d=None):\n",
    "    n1, n2 = len(word1), len(word2)\n",
    "    if not d:\n",
    "        d = []\n",
    "        for i in range(n1+1):\n",
    "            d.append([0] * (n2+1))\n",
    "    if i is None or i < 0 or j is None or j < 0:\n",
    "        return calc_dist_recurs(word1, word2, i=n1, j=n2, d)\n",
    "    elif i == 0:\n",
    "        d[0][j] = j\n",
    "        return j\n",
    "    elif j == 0:\n",
    "        d[i][0] = i\n",
    "        return i\n",
    "    elif word1[i-1] == word2[j-1]:\n",
    "        d[i][j] = d[i-1][j-1]\n",
    "        return d[i][j]\n",
    "    else:\n",
    "        \n",
    "            "
   ]
  }
 ],
 "metadata": {
  "kernelspec": {
   "display_name": "Python 3",
   "language": "python",
   "name": "python3"
  },
  "language_info": {
   "codemirror_mode": {
    "name": "ipython",
    "version": 3
   },
   "file_extension": ".py",
   "mimetype": "text/x-python",
   "name": "python",
   "nbconvert_exporter": "python",
   "pygments_lexer": "ipython3",
   "version": "3.7.3"
  }
 },
 "nbformat": 4,
 "nbformat_minor": 2
}
