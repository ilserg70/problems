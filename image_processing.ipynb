{
 "cells": [
  {
   "cell_type": "markdown",
   "metadata": {},
   "source": [
    "# Image processing"
   ]
  },
  {
   "cell_type": "markdown",
   "metadata": {},
   "source": [
    "### Find out if two points are on the same side from the line or on the different sides."
   ]
  },
  {
   "cell_type": "code",
   "execution_count": 42,
   "metadata": {},
   "outputs": [],
   "source": [
    "def scalar_product(v1, v2):\n",
    "    p = 0\n",
    "    for i in range(len(v1)):\n",
    "        p += v1[i]*v2[i]\n",
    "    return p\n",
    "\n",
    "def det_2D_matrix(a,b,c,d):\n",
    "    \"\"\"\n",
    "    |a b|\n",
    "    |c d|\n",
    "    \"\"\"\n",
    "    return a*d-c*b\n",
    "    \n",
    "def vector_product(v1, v2):\n",
    "    \"\"\"\n",
    "    v1 = (x1,y1,z1)\n",
    "    v2 = (x2,y2,z2)\n",
    "    return: (x3,y3,z3)\n",
    "    \"\"\"\n",
    "    x1, y1, z1 = v1\n",
    "    x2, y2, z2 = v2\n",
    "    return (det_2D_matrix(y1,z1,y2,z2), -det_2D_matrix(x1,z1,x2,z2), det_2D_matrix(x1,y1,x2,y2))\n",
    "\n",
    "def sign(v):\n",
    "    return 1 if v > 0 else -1 if v < 0 else 0\n",
    "\n",
    "def vect(p1, p2):\n",
    "    \"\"\"\n",
    "    p1 = (x1, y1)\n",
    "    p2 = (x2, y2)\n",
    "    return: (x2-x1,y2-y1)\n",
    "    \"\"\"\n",
    "    return (p2[0]-p1[0], p2[1]-p1[1], 0)\n",
    "\n",
    "def are_points_on_the_same_side(p1, p2, line):\n",
    "    \"\"\"\n",
    "    p1 = (x1, y1)\n",
    "    p2 = (x2, y2)\n",
    "    line = [(xa, ya), (xb, yb)]\n",
    "    return: True/False\n",
    "    \"\"\"    \n",
    "    r1 = vect(line[0], p1)\n",
    "    r2 = vect(line[0], p2)\n",
    "    s = vect(line[0], line[1])        \n",
    "    sgn1 = sign(vector_product(s,r1)[2])\n",
    "    sgn2 = sign(vector_product(s,r2)[2])\n",
    "    if sgn1==0 or sgn2==0:\n",
    "        return False # if point on the line\n",
    "    return sgn1 == sgn2\n",
    "\n",
    "def is_point_on_the_line(p, line):\n",
    "    \"\"\"\n",
    "    p = (x, y)\n",
    "    line = [(xa, ya), (xb, yb)]\n",
    "    \"\"\"\n",
    "    r = vect(line[0], p)\n",
    "    s = vect(line[0], line[1])\n",
    "    return vector_product(s, r)[2] == 0\n",
    "\n",
    "from functools import reduce\n",
    "def is_point_inside_border(p, border):\n",
    "    min_x = reduce(min, border)[0]\n",
    "    max_x = reduce(max, border)[0]\n",
    "    min_y = reduce(lambda a, b: a if a<b[1] else b[1], border, border[0][1])\n",
    "    max_y = reduce(lambda a, b: a if a>b[1] else b[1], border, border[0][1])\n",
    "    if not (min_x<=p[0]<=max_x and min_y<=p[1]<=max_y):\n",
    "        return False\n",
    "    if p in border:\n",
    "        return True\n",
    "    \n",
    "    num_intersect = 0\n",
    "    n = len(border)\n",
    "    line = [p, (p[0]+1,p[1])]\n",
    "    for i in range(n):\n",
    "        p1, p2 = border[i], border[(i+1)%n]\n",
    "        if not are_points_on_the_same_side(p1, p2, line) and :\n",
    "            num_intersect += 1"
   ]
  },
  {
   "cell_type": "code",
   "execution_count": 40,
   "metadata": {},
   "outputs": [
    {
     "data": {
      "text/plain": [
       "False"
      ]
     },
     "execution_count": 40,
     "metadata": {},
     "output_type": "execute_result"
    }
   ],
   "source": [
    "are_points_on_the_same_side((2,4), (1,1), [(1,3), (4,1)])"
   ]
  },
  {
   "cell_type": "code",
   "execution_count": 56,
   "metadata": {},
   "outputs": [
    {
     "data": {
      "text/plain": [
       "5"
      ]
     },
     "execution_count": 56,
     "metadata": {},
     "output_type": "execute_result"
    }
   ],
   "source": [
    "border = [(1,0),(3,1),(4,1),(5,2),(6,1),(7,3),(8,5),(6,5),(5,4),(4,5),(3,4),(2,5),(1,3),(0,1)]\n",
    "p = (5,3)\n",
    "reduce(, border)"
   ]
  },
  {
   "cell_type": "code",
   "execution_count": 54,
   "metadata": {},
   "outputs": [
    {
     "data": {
      "text/plain": [
       "[(1, 0),\n",
       " (3, 1),\n",
       " (4, 1),\n",
       " (5, 2),\n",
       " (6, 1),\n",
       " (7, 3),\n",
       " (8, 5),\n",
       " (6, 5),\n",
       " (5, 4),\n",
       " (4, 5),\n",
       " (3, 4),\n",
       " (2, 5),\n",
       " (1, 3),\n",
       " (0, 1)]"
      ]
     },
     "execution_count": 54,
     "metadata": {},
     "output_type": "execute_result"
    }
   ],
   "source": [
    "border"
   ]
  },
  {
   "cell_type": "code",
   "execution_count": null,
   "metadata": {},
   "outputs": [],
   "source": []
  }
 ],
 "metadata": {
  "kernelspec": {
   "display_name": "Python 3",
   "language": "python",
   "name": "python3"
  },
  "language_info": {
   "codemirror_mode": {
    "name": "ipython",
    "version": 3
   },
   "file_extension": ".py",
   "mimetype": "text/x-python",
   "name": "python",
   "nbconvert_exporter": "python",
   "pygments_lexer": "ipython3",
   "version": "3.7.4"
  }
 },
 "nbformat": 4,
 "nbformat_minor": 2
}
