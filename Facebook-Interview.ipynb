{
 "cells": [
  {
   "cell_type": "markdown",
   "metadata": {},
   "source": [
    "#### Calc sum of ones in rectangular area of matrix\n",
    "[\n",
    "[0,0,0,1,0,1,0,0],\n",
    "[0,1,1,0,0,1,0,1],\n",
    "[1,1,1,0,0,1,0,0],\n",
    "[0,1,0,1,0,1,0,1],\n",
    "[1,0,1,0,1,0,1,0]\n",
    "]"
   ]
  },
  {
   "cell_type": "code",
   "execution_count": 47,
   "metadata": {},
   "outputs": [],
   "source": [
    "arr = [\n",
    "[0,0,0,1,0,1,0,0],\n",
    "[0,1,1,0,0,1,0,1],\n",
    "[1,1,1,0,0,1,0,0],\n",
    "[0,1,0,1,0,1,0,1],\n",
    "[1,0,1,0,1,0,1,0]]\n",
    "p1 = (2,3)\n",
    "p2 =(4,5)"
   ]
  },
  {
   "cell_type": "code",
   "execution_count": 48,
   "metadata": {},
   "outputs": [],
   "source": [
    "def brute_force(arr, p1, p2):\n",
    "    res = 0\n",
    "    if arr and p1[0] >= 0 and p1[1] >= 0 and p2[0] >= 0 and p2[1] >= 0:\n",
    "        for i in range(max(p1[0],0), min(p2[0]+1,len(arr))):\n",
    "            for j in range(max(p1[1],0), min(p2[1]+1,len(arr[i]))):\n",
    "                res += arr[i][j]\n",
    "    return res"
   ]
  },
  {
   "cell_type": "code",
   "execution_count": 49,
   "metadata": {},
   "outputs": [
    {
     "data": {
      "text/plain": [
       "4"
      ]
     },
     "execution_count": 49,
     "metadata": {},
     "output_type": "execute_result"
    }
   ],
   "source": [
    "brute_force(arr, p1, p2)"
   ]
  },
  {
   "cell_type": "code",
   "execution_count": 50,
   "metadata": {},
   "outputs": [],
   "source": [
    "# dinamic programming (hashing)\n",
    "def mk_hash(arr):\n",
    "    S = []\n",
    "    for i in range(len(arr)):\n",
    "        S.append([])\n",
    "        for j in range(len(arr[0])):\n",
    "            S[i].append(arr[i][j])\n",
    "            if i == 0:\n",
    "                if j > 0:\n",
    "                    S[i][j] += S[i][j-1]\n",
    "            elif j == 0:\n",
    "                S[i][j] += S[i-1][j]\n",
    "            else:\n",
    "                S[i][j] += S[i-1][j] + S[i][j-1] - S[i-1][j-1]\n",
    "    return S\n",
    "\n",
    "def dp_approach(S, p1, p2):\n",
    "    return S[p1[0]][]"
   ]
  },
  {
   "cell_type": "code",
   "execution_count": 51,
   "metadata": {},
   "outputs": [],
   "source": [
    "S = mk_hash(arr)"
   ]
  },
  {
   "cell_type": "markdown",
   "metadata": {},
   "source": [
    "#### Sort Tree nodes as columns"
   ]
  },
  {
   "cell_type": "code",
   "execution_count": 3,
   "metadata": {},
   "outputs": [],
   "source": [
    "class Tree:\n",
    "    def __init__(self, val):\n",
    "        self.left = None\n",
    "        self.right = None\n",
    "        self.val = val\n",
    "\n",
    "def column_order_bfs(root):\n",
    "    q = [(root, 0)] if root != None else []\n",
    "    res, root_column = [], 0\n",
    "    while q:\n",
    "        node, column = q.pop(0)\n",
    "        idx = column + root_column\n",
    "        if idx < 0:\n",
    "            res.insert(0,[node.val])\n",
    "            root_column += 1\n",
    "        elif idx >= len(res):\n",
    "            res.append([node.val])\n",
    "        else:\n",
    "            res[idx].append(node.val)\n",
    "        #print(\"column = {}, val = {}\".format(column, node.val))\n",
    "        if node.left != None:\n",
    "            q.append((node.left, column - 1))\n",
    "        if node.right != None:\n",
    "            q.append((node.right, column + 1))\n",
    "    return res\n",
    "\n",
    "flatten = lambda l: [item for sublist in l for item in sublist]\n",
    "\n",
    "# Wrang solution\n",
    "def column_order_dfs(node, column=0, root_column=0, res=[]):\n",
    "    if node == None:\n",
    "        return root_column\n",
    "    idx = column + root_column\n",
    "    if idx < 0:\n",
    "        res.insert(0,[node.val])\n",
    "        root_column += 1\n",
    "    elif idx >= len(res):\n",
    "        res.append([node.val])\n",
    "    else:\n",
    "        res[idx].append(node.val)\n",
    "    print(\"column = {}, val = {}\".format(column, node.val))\n",
    "    #print(res)\n",
    "    root_column = column_order_dfs(node.left, column - 1, root_column, res)\n",
    "    return column_order_dfs(node.right, column + 1, root_column, res)"
   ]
  },
  {
   "cell_type": "code",
   "execution_count": 4,
   "metadata": {},
   "outputs": [
    {
     "name": "stdout",
     "output_type": "stream",
     "text": [
      "[[7, 5], [9, 2], [4, 1, 12], [8], [3, 11], [10], [6]]\n"
     ]
    },
    {
     "data": {
      "text/plain": [
       "[7, 5, 9, 2, 4, 1, 12, 8, 3, 11, 10, 6]"
      ]
     },
     "execution_count": 4,
     "metadata": {},
     "output_type": "execute_result"
    }
   ],
   "source": [
    "r = Tree(4)\n",
    "r.left = Tree(9)\n",
    "r.left.left = Tree(7)\n",
    "r.left.left.right = Tree(2)\n",
    "r.left.left.right.left = Tree(5)\n",
    "r.left.left.right.right = Tree(12)\n",
    "r.left.right = Tree(1)\n",
    "r.right = Tree(8)\n",
    "r.right.right = Tree(3)\n",
    "r.right.right.right = Tree(10)\n",
    "r.right.right.right.left = Tree(11)\n",
    "r.right.right.right.right = Tree(6)\n",
    "\n",
    "res = column_order_bfs(r)\n",
    "print(res)\n",
    "flatten(res)"
   ]
  },
  {
   "cell_type": "code",
   "execution_count": null,
   "metadata": {},
   "outputs": [],
   "source": []
  }
 ],
 "metadata": {
  "kernelspec": {
   "display_name": "Python 3",
   "language": "python",
   "name": "python3"
  },
  "language_info": {
   "codemirror_mode": {
    "name": "ipython",
    "version": 3
   },
   "file_extension": ".py",
   "mimetype": "text/x-python",
   "name": "python",
   "nbconvert_exporter": "python",
   "pygments_lexer": "ipython3",
   "version": "3.7.4"
  }
 },
 "nbformat": 4,
 "nbformat_minor": 2
}
