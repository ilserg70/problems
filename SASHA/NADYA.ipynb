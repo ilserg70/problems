{
 "cells": [
  {
   "cell_type": "code",
   "execution_count": 3,
   "metadata": {},
   "outputs": [
    {
     "name": "stdout",
     "output_type": "stream",
     "text": [
      "[4, 12, 20]\n"
     ]
    }
   ],
   "source": [
    "# Add first k elements, then next k elements, etc.\n",
    "k = 4\n",
    "arr = [1,1,0,2, 3,5,2,2, 7,6,4,3]\n",
    "\n",
    "# Solution\n",
    "n = len(arr)\n",
    "m = n//k if n%k==0 else n//k + 1\n",
    "res = [0] * m\n",
    "for i in range(n):\n",
    "    res[i//k] += arr[i]\n",
    "print(res)"
   ]
  },
  {
   "cell_type": "code",
   "execution_count": null,
   "metadata": {},
   "outputs": [],
   "source": []
  }
 ],
 "metadata": {
  "kernelspec": {
   "display_name": "Python 3",
   "language": "python",
   "name": "python3"
  },
  "language_info": {
   "codemirror_mode": {
    "name": "ipython",
    "version": 3
   },
   "file_extension": ".py",
   "mimetype": "text/x-python",
   "name": "python",
   "nbconvert_exporter": "python",
   "pygments_lexer": "ipython3",
   "version": "3.7.4"
  }
 },
 "nbformat": 4,
 "nbformat_minor": 2
}
