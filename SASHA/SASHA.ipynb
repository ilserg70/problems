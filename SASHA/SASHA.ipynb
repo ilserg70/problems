{
 "cells": [
  {
   "cell_type": "markdown",
   "metadata": {},
   "source": [
    "#### Two Sum\n",
    "https://leetcode.com/problems/two-sum/"
   ]
  },
  {
   "cell_type": "code",
   "execution_count": 7,
   "metadata": {},
   "outputs": [
    {
     "name": "stdout",
     "output_type": "stream",
     "text": [
      "2\n",
      "5\n",
      "7\n",
      "9\n",
      "11\n",
      "23\n",
      "\n",
      "arr[0] = 2\n",
      "arr[1] = 5\n",
      "arr[2] = 7\n",
      "arr[3] = 9\n",
      "arr[4] = 11\n",
      "arr[5] = 23\n",
      "\n",
      "[7, 9, 11, 23]\n",
      "False\n"
     ]
    }
   ],
   "source": [
    "arr = [2,5,7,9,11,23]\n",
    "for x in arr:\n",
    "    print(x)\n",
    "print()\n",
    "for i in range(len(arr)):\n",
    "    print(f\"arr[{i}] = {arr[i]}\")\n",
    "print()\n",
    "print(arr[2:])\n",
    "print(19 in arr)"
   ]
  },
  {
   "cell_type": "code",
   "execution_count": 9,
   "metadata": {},
   "outputs": [],
   "source": [
    "target = 18"
   ]
  },
  {
   "cell_type": "code",
   "execution_count": 12,
   "metadata": {},
   "outputs": [
    {
     "name": "stdout",
     "output_type": "stream",
     "text": [
      "x=7, y=11\n"
     ]
    }
   ],
   "source": [
    "for i in range(len(arr)):\n",
    "    x = arr[i]\n",
    "    if target - x in arr[i+1:]:\n",
    "        print(f\"x={x}, y={target - x}\")\n",
    "        "
   ]
  },
  {
   "cell_type": "code",
   "execution_count": 13,
   "metadata": {},
   "outputs": [
    {
     "data": {
      "text/plain": [
       "6"
      ]
     },
     "execution_count": 13,
     "metadata": {},
     "output_type": "execute_result"
    }
   ],
   "source": [
    "n = len(arr)\n",
    "n"
   ]
  },
  {
   "cell_type": "code",
   "execution_count": null,
   "metadata": {},
   "outputs": [],
   "source": [
    "# n * n/2 ~ O(n^2)"
   ]
  }
 ],
 "metadata": {
  "kernelspec": {
   "display_name": "Python 3",
   "language": "python",
   "name": "python3"
  },
  "language_info": {
   "codemirror_mode": {
    "name": "ipython",
    "version": 3
   },
   "file_extension": ".py",
   "mimetype": "text/x-python",
   "name": "python",
   "nbconvert_exporter": "python",
   "pygments_lexer": "ipython3",
   "version": "3.7.4"
  }
 },
 "nbformat": 4,
 "nbformat_minor": 2
}
