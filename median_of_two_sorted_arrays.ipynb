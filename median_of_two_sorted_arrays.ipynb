{
 "cells": [
  {
   "cell_type": "markdown",
   "metadata": {},
   "source": [
    "#### Median of Two Sorted Arrays (hard)\n",
    "https://leetcode.com/problems/median-of-two-sorted-arrays/\n",
    "\n",
    "There are two sorted arrays nums1 and nums2 of size m and n respectively.\n",
    "\n",
    "Find the median of the two sorted arrays. The overall run time complexity should be O(log (m+n)).\n",
    "\n",
    "Example 1: nums1 = [1, 3], nums2 = [2] => The median is 2.0\n",
    "\n",
    "Example 2: nums1 = [1, 2], nums2 = [3, 4] => The median is (2 + 3)/2 = 2.5"
   ]
  },
  {
   "cell_type": "code",
   "execution_count": 47,
   "metadata": {},
   "outputs": [],
   "source": [
    "class Solution(object):\n",
    "    def findMedianSortedArrays(self, nums1, nums2):\n",
    "        \"\"\"\n",
    "        :type nums1: List[int]\n",
    "        :type nums2: List[int]\n",
    "        :rtype: float\n",
    "        \"\"\"\n",
    "        # If one of arrays is empty\n",
    "        def median(arr):\n",
    "            k = len(arr) // 2\n",
    "            return (arr[k-1] + arr[k])/2 if len(arr)%2==0 else arr[k]\n",
    "        if not nums1:\n",
    "            return median(nums2)\n",
    "        elif not nums2:\n",
    "            return median(nums1)\n",
    "        # If nums1 <= nums2 (or nums2 <= nums1)\n",
    "        def median_if_first_is_less_then_second(nums1,nums2):\n",
    "            n1, n2 = len(nums1), len(nums2)\n",
    "            k = (n1 + n2) // 2\n",
    "            if n1 < n2:\n",
    "                return (nums2[k-n1-1] + nums2[k-n1])/2 if (n1 + n2)%2==0 else nums2[k-n1]\n",
    "            elif n1 > n2:\n",
    "                return (nums1[k-1] + nums1[k])/2 if (n1 + n2)%2==0 else nums1[k]\n",
    "            else:\n",
    "                return (nums1[-1] + nums2[0])/2\n",
    "        if nums1[-1] <= nums2[0]:\n",
    "            return median_if_first_is_less_then_second(nums1,nums2)\n",
    "        elif nums2[-1] <= nums1[0]:\n",
    "            return median_if_first_is_less_then_second(nums2,nums1)\n",
    "        # Common case\n",
    "        def binary_search_of_position(x, arr, start=0, end=None):\n",
    "            if end is None:\n",
    "                end = len(arr)-1\n",
    "            if x < arr[start]:\n",
    "                return start\n",
    "            elif x >= arr[end]:\n",
    "                return end + 1\n",
    "            k = start + (end - start)//2\n",
    "            if x < arr[k]:\n",
    "                return binary_search_of_position(x, arr, start, k-1)\n",
    "            else:\n",
    "                return binary_search_of_position(x, arr, k+1, end)\n",
    "        def find_median(arr1, arr2, start1=0, end1=None):\n",
    "            if end1 is None:\n",
    "                end1 = len(arr1)-1\n",
    "            if start1 > end1:\n",
    "                return find_median(arr2, arr1)\n",
    "            k = start1 + (end1 - start1)//2\n",
    "            x = arr1[k]\n",
    "            pos = binary_search_of_position(x, arr2)\n",
    "            count_left = k + pos\n",
    "            count_right = len(arr1)-1-k + len(arr2)-pos\n",
    "            diff = count_right - count_left\n",
    "            #print(f\"s1={start1}, e1={end1}, s2={start2}, e2={end2}, k={k}, x={x}, pos={pos}\")\n",
    "            #print(f\"left={count_left}, right={count_right}, diff={diff}\")\n",
    "            if diff == 0:\n",
    "                return x\n",
    "            elif diff == 1:\n",
    "                if k < len(arr1)-1 and pos < len(arr2):\n",
    "                    y = arr1[k+1] if arr1[k+1] < arr2[pos] else arr2[pos]\n",
    "                    return (x + y)/2\n",
    "                elif k < len(arr1)-1:\n",
    "                    return (x + arr1[k+1])/2\n",
    "                else:\n",
    "                    return (x + arr2[pos])/2\n",
    "            elif diff == -1:\n",
    "                if k > 0 and pos > 0:\n",
    "                    y = arr1[k-1] if arr1[k-1] > arr2[pos-1] else arr2[pos-1]\n",
    "                    return (x + y)/2\n",
    "                elif k > 0:\n",
    "                    return (x + arr1[k-1])/2\n",
    "                else:\n",
    "                    return (x + arr2[pos-1])/2\n",
    "            elif diff > 1:\n",
    "                return find_median(arr1, arr2, k+1, end1)\n",
    "            elif diff == -2 and pos > 0 and x == arr2[pos-1]:\n",
    "                return x\n",
    "            elif diff < -1:\n",
    "                return find_median(arr1, arr2, start1, k-1)\n",
    "        return find_median(nums1, nums2)"
   ]
  },
  {
   "cell_type": "code",
   "execution_count": 48,
   "metadata": {},
   "outputs": [
    {
     "data": {
      "text/plain": [
       "2.5"
      ]
     },
     "execution_count": 48,
     "metadata": {},
     "output_type": "execute_result"
    }
   ],
   "source": [
    "Solution().findMedianSortedArrays([1,2],[3,4])# 2.5"
   ]
  },
  {
   "cell_type": "code",
   "execution_count": 36,
   "metadata": {},
   "outputs": [
    {
     "data": {
      "text/plain": [
       "5"
      ]
     },
     "execution_count": 36,
     "metadata": {},
     "output_type": "execute_result"
    }
   ],
   "source": [
    "Solution().findMedianSortedArrays([1,2,3,5],[4,6,7,8,9])# 5"
   ]
  },
  {
   "cell_type": "code",
   "execution_count": 37,
   "metadata": {},
   "outputs": [
    {
     "data": {
      "text/plain": [
       "5"
      ]
     },
     "execution_count": 37,
     "metadata": {},
     "output_type": "execute_result"
    }
   ],
   "source": [
    "Solution().findMedianSortedArrays([1,3],[2,4,5,6,7,8,9])# 5"
   ]
  },
  {
   "cell_type": "code",
   "execution_count": 38,
   "metadata": {},
   "outputs": [
    {
     "data": {
      "text/plain": [
       "2"
      ]
     },
     "execution_count": 38,
     "metadata": {},
     "output_type": "execute_result"
    }
   ],
   "source": [
    "Solution().findMedianSortedArrays([1,2],[1,2,3])# 2"
   ]
  },
  {
   "cell_type": "code",
   "execution_count": 39,
   "metadata": {},
   "outputs": [
    {
     "data": {
      "text/plain": [
       "7"
      ]
     },
     "execution_count": 39,
     "metadata": {},
     "output_type": "execute_result"
    }
   ],
   "source": [
    "Solution().findMedianSortedArrays([1,4,7,10,30],[2,5,11,35])# 7"
   ]
  },
  {
   "cell_type": "code",
   "execution_count": 40,
   "metadata": {},
   "outputs": [
    {
     "data": {
      "text/plain": [
       "10.0"
      ]
     },
     "execution_count": 40,
     "metadata": {},
     "output_type": "execute_result"
    }
   ],
   "source": [
    "Solution().findMedianSortedArrays([1,3,7],[8,12,20,25,30])# 10.0"
   ]
  },
  {
   "cell_type": "code",
   "execution_count": 41,
   "metadata": {},
   "outputs": [
    {
     "data": {
      "text/plain": [
       "2"
      ]
     },
     "execution_count": 41,
     "metadata": {},
     "output_type": "execute_result"
    }
   ],
   "source": [
    "Solution().findMedianSortedArrays([],[2])# 2"
   ]
  },
  {
   "cell_type": "code",
   "execution_count": 42,
   "metadata": {},
   "outputs": [
    {
     "data": {
      "text/plain": [
       "2"
      ]
     },
     "execution_count": 42,
     "metadata": {},
     "output_type": "execute_result"
    }
   ],
   "source": [
    "Solution().findMedianSortedArrays([1,3],[2])# 2"
   ]
  },
  {
   "cell_type": "code",
   "execution_count": 43,
   "metadata": {},
   "outputs": [
    {
     "data": {
      "text/plain": [
       "2.5"
      ]
     },
     "execution_count": 43,
     "metadata": {},
     "output_type": "execute_result"
    }
   ],
   "source": [
    "Solution().findMedianSortedArrays([1,2],[3,4])# 2.5"
   ]
  }
 ],
 "metadata": {
  "kernelspec": {
   "display_name": "Python 3",
   "language": "python",
   "name": "python3"
  },
  "language_info": {
   "codemirror_mode": {
    "name": "ipython",
    "version": 3
   },
   "file_extension": ".py",
   "mimetype": "text/x-python",
   "name": "python",
   "nbconvert_exporter": "python",
   "pygments_lexer": "ipython3",
   "version": "3.7.4"
  }
 },
 "nbformat": 4,
 "nbformat_minor": 2
}
