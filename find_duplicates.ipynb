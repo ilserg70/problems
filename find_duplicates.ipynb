{
 "cells": [
  {
   "cell_type": "markdown",
   "id": "adult-buying",
   "metadata": {},
   "source": [
    "# Finding duplicates\n",
    "\n",
    "Given a list of N integers from 1 to N find duplicates if:\n",
    "\n",
    "1) input list/array immutable\n",
    "2) addition memory used ~O(1)\n",
    "3) O(N*Ln(N))\n",
    "4) Not using formula: 1+2+3+...+N = N*(N+1)/2\n"
   ]
  },
  {
   "cell_type": "code",
   "execution_count": 14,
   "id": "surprising-opposition",
   "metadata": {},
   "outputs": [],
   "source": [
    "def find_duplicates(arr, n):\n",
    "    def count_in_range(arr, start, end):\n",
    "        count = 0\n",
    "        for x in arr:\n",
    "            if start <= x and x <= end:\n",
    "                count += 1\n",
    "        return count\n",
    "    \n",
    "    queue = [(1, n//2, n, len(arr))]\n",
    "    while queue:\n",
    "        start, medium, end, count = queue.pop(0)\n",
    "        count_left = count_in_range(arr, start, medium)\n",
    "        if start == medium:\n",
    "            if count_left > 1:\n",
    "                yield (start, count_left)\n",
    "        else:\n",
    "            queue.append((start, start + (medium - start)//2, medium, count_left))\n",
    "        count_right = count - count_left\n",
    "        if medium + 1 >= end:\n",
    "            if count_right > 1:\n",
    "                yield (end, count_right)\n",
    "        else:\n",
    "            queue.append((medium + 1, medium + 1 + (end  - medium - 1)//2, end, count_right))\n",
    "        "
   ]
  },
  {
   "cell_type": "code",
   "execution_count": 15,
   "id": "white-cassette",
   "metadata": {},
   "outputs": [
    {
     "data": {
      "text/plain": [
       "[(1, 3), (4, 2)]"
      ]
     },
     "execution_count": 15,
     "metadata": {},
     "output_type": "execute_result"
    }
   ],
   "source": [
    "list(find_duplicates([7,1,6,4,1,8,4,9,1], 9))"
   ]
  },
  {
   "cell_type": "code",
   "execution_count": 16,
   "id": "scheduled-excerpt",
   "metadata": {},
   "outputs": [
    {
     "data": {
      "text/plain": [
       "[]"
      ]
     },
     "execution_count": 16,
     "metadata": {},
     "output_type": "execute_result"
    }
   ],
   "source": [
    "list(find_duplicates([7,2,6,4,1,8,5,9,3], 9))"
   ]
  },
  {
   "cell_type": "code",
   "execution_count": 18,
   "id": "therapeutic-poison",
   "metadata": {},
   "outputs": [
    {
     "data": {
      "text/plain": [
       "[(22, 3), (100, 4)]"
      ]
     },
     "execution_count": 18,
     "metadata": {},
     "output_type": "execute_result"
    }
   ],
   "source": [
    "list(find_duplicates([100,22,5,100,2,22,67,100,99,100,22], 100))"
   ]
  },
  {
   "cell_type": "code",
   "execution_count": null,
   "id": "approved-newfoundland",
   "metadata": {},
   "outputs": [],
   "source": []
  }
 ],
 "metadata": {
  "kernelspec": {
   "display_name": "Python 3",
   "language": "python",
   "name": "python3"
  },
  "language_info": {
   "codemirror_mode": {
    "name": "ipython",
    "version": 3
   },
   "file_extension": ".py",
   "mimetype": "text/x-python",
   "name": "python",
   "nbconvert_exporter": "python",
   "pygments_lexer": "ipython3",
   "version": "3.8.5"
  }
 },
 "nbformat": 4,
 "nbformat_minor": 5
}
