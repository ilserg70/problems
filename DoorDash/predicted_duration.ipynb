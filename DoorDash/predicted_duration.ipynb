{
 "cells": [
  {
   "cell_type": "markdown",
   "id": "israeli-lightning",
   "metadata": {},
   "source": [
    "# Building prediction Model of the total delivery duration seconds"
   ]
  },
  {
   "cell_type": "code",
   "execution_count": 95,
   "id": "broadband-dressing",
   "metadata": {},
   "outputs": [],
   "source": [
    "import pandas as pd\n",
    "from collections import Counter"
   ]
  },
  {
   "cell_type": "code",
   "execution_count": 159,
   "id": "harmful-bishop",
   "metadata": {},
   "outputs": [
    {
     "name": "stdout",
     "output_type": "stream",
     "text": [
      "Data shape: (197428, 9)\n"
     ]
    }
   ],
   "source": [
    "df = pd.read_csv(\"historical_data.csv\")\n",
    "print(\"Data shape:\", df.shape)"
   ]
  },
  {
   "cell_type": "code",
   "execution_count": 160,
   "id": "sacred-excerpt",
   "metadata": {},
   "outputs": [
    {
     "data": {
      "text/html": [
       "<div>\n",
       "<style scoped>\n",
       "    .dataframe tbody tr th:only-of-type {\n",
       "        vertical-align: middle;\n",
       "    }\n",
       "\n",
       "    .dataframe tbody tr th {\n",
       "        vertical-align: top;\n",
       "    }\n",
       "\n",
       "    .dataframe thead th {\n",
       "        text-align: right;\n",
       "    }\n",
       "</style>\n",
       "<table border=\"1\" class=\"dataframe\">\n",
       "  <thead>\n",
       "    <tr style=\"text-align: right;\">\n",
       "      <th></th>\n",
       "      <th>market_id</th>\n",
       "      <th>created_at</th>\n",
       "      <th>actual_delivery_time</th>\n",
       "      <th>store_id</th>\n",
       "      <th>subtotal</th>\n",
       "      <th>total_onshift_dashers</th>\n",
       "      <th>total_busy_dashers</th>\n",
       "      <th>total_outstanding_orders</th>\n",
       "      <th>estimated_store_to_consumer_driving_duration</th>\n",
       "    </tr>\n",
       "  </thead>\n",
       "  <tbody>\n",
       "    <tr>\n",
       "      <th>0</th>\n",
       "      <td>1.0</td>\n",
       "      <td>2015-02-06 22:24:17</td>\n",
       "      <td>2015-02-06 23:27:16</td>\n",
       "      <td>1845</td>\n",
       "      <td>3441</td>\n",
       "      <td>33.0</td>\n",
       "      <td>14.0</td>\n",
       "      <td>21.0</td>\n",
       "      <td>861.0</td>\n",
       "    </tr>\n",
       "    <tr>\n",
       "      <th>1</th>\n",
       "      <td>2.0</td>\n",
       "      <td>2015-02-10 21:49:25</td>\n",
       "      <td>2015-02-10 22:56:29</td>\n",
       "      <td>5477</td>\n",
       "      <td>1900</td>\n",
       "      <td>1.0</td>\n",
       "      <td>2.0</td>\n",
       "      <td>2.0</td>\n",
       "      <td>690.0</td>\n",
       "    </tr>\n",
       "    <tr>\n",
       "      <th>2</th>\n",
       "      <td>3.0</td>\n",
       "      <td>2015-01-22 20:39:28</td>\n",
       "      <td>2015-01-22 21:09:09</td>\n",
       "      <td>5477</td>\n",
       "      <td>1900</td>\n",
       "      <td>1.0</td>\n",
       "      <td>0.0</td>\n",
       "      <td>0.0</td>\n",
       "      <td>690.0</td>\n",
       "    </tr>\n",
       "    <tr>\n",
       "      <th>3</th>\n",
       "      <td>3.0</td>\n",
       "      <td>2015-02-03 21:21:45</td>\n",
       "      <td>2015-02-03 22:13:00</td>\n",
       "      <td>5477</td>\n",
       "      <td>6900</td>\n",
       "      <td>1.0</td>\n",
       "      <td>1.0</td>\n",
       "      <td>2.0</td>\n",
       "      <td>289.0</td>\n",
       "    </tr>\n",
       "    <tr>\n",
       "      <th>4</th>\n",
       "      <td>3.0</td>\n",
       "      <td>2015-02-15 02:40:36</td>\n",
       "      <td>2015-02-15 03:20:26</td>\n",
       "      <td>5477</td>\n",
       "      <td>3900</td>\n",
       "      <td>6.0</td>\n",
       "      <td>6.0</td>\n",
       "      <td>9.0</td>\n",
       "      <td>650.0</td>\n",
       "    </tr>\n",
       "  </tbody>\n",
       "</table>\n",
       "</div>"
      ],
      "text/plain": [
       "   market_id           created_at actual_delivery_time  store_id  subtotal  \\\n",
       "0        1.0  2015-02-06 22:24:17  2015-02-06 23:27:16      1845      3441   \n",
       "1        2.0  2015-02-10 21:49:25  2015-02-10 22:56:29      5477      1900   \n",
       "2        3.0  2015-01-22 20:39:28  2015-01-22 21:09:09      5477      1900   \n",
       "3        3.0  2015-02-03 21:21:45  2015-02-03 22:13:00      5477      6900   \n",
       "4        3.0  2015-02-15 02:40:36  2015-02-15 03:20:26      5477      3900   \n",
       "\n",
       "   total_onshift_dashers  total_busy_dashers  total_outstanding_orders  \\\n",
       "0                   33.0                14.0                      21.0   \n",
       "1                    1.0                 2.0                       2.0   \n",
       "2                    1.0                 0.0                       0.0   \n",
       "3                    1.0                 1.0                       2.0   \n",
       "4                    6.0                 6.0                       9.0   \n",
       "\n",
       "   estimated_store_to_consumer_driving_duration  \n",
       "0                                         861.0  \n",
       "1                                         690.0  \n",
       "2                                         690.0  \n",
       "3                                         289.0  \n",
       "4                                         650.0  "
      ]
     },
     "execution_count": 160,
     "metadata": {},
     "output_type": "execute_result"
    }
   ],
   "source": [
    "df.head()"
   ]
  },
  {
   "cell_type": "code",
   "execution_count": 161,
   "id": "boring-gateway",
   "metadata": {},
   "outputs": [
    {
     "name": "stdout",
     "output_type": "stream",
     "text": [
      "<class 'pandas.core.frame.DataFrame'>\n",
      "RangeIndex: 197428 entries, 0 to 197427\n",
      "Data columns (total 9 columns):\n",
      " #   Column                                        Non-Null Count   Dtype  \n",
      "---  ------                                        --------------   -----  \n",
      " 0   market_id                                     196441 non-null  float64\n",
      " 1   created_at                                    197428 non-null  object \n",
      " 2   actual_delivery_time                          197421 non-null  object \n",
      " 3   store_id                                      197428 non-null  int64  \n",
      " 4   subtotal                                      197428 non-null  int64  \n",
      " 5   total_onshift_dashers                         181166 non-null  float64\n",
      " 6   total_busy_dashers                            181166 non-null  float64\n",
      " 7   total_outstanding_orders                      181166 non-null  float64\n",
      " 8   estimated_store_to_consumer_driving_duration  196902 non-null  float64\n",
      "dtypes: float64(5), int64(2), object(2)\n",
      "memory usage: 13.6+ MB\n"
     ]
    }
   ],
   "source": [
    "df.info()"
   ]
  },
  {
   "cell_type": "markdown",
   "id": "martial-journal",
   "metadata": {},
   "source": [
    "## Create target column"
   ]
  },
  {
   "cell_type": "markdown",
   "id": "capable-virginia",
   "metadata": {},
   "source": [
    "#### Discard rows with invalid creation and delivery times. Convert datetime to PDT."
   ]
  },
  {
   "cell_type": "code",
   "execution_count": 162,
   "id": "psychological-fight",
   "metadata": {},
   "outputs": [
    {
     "name": "stdout",
     "output_type": "stream",
     "text": [
      "Valid rows: 197421\n"
     ]
    }
   ],
   "source": [
    "df = df[ (~df.created_at.isnull()) & (~df.actual_delivery_time.isnull()) ]\n",
    "print(\"Valid rows:\", df.shape[0])\n",
    "df.created_at = pd.to_datetime(df.created_at, utc=True).dt.tz_convert('US/Pacific')\n",
    "df.actual_delivery_time = pd.to_datetime(df.actual_delivery_time, utc=True).dt.tz_convert('US/Pacific')"
   ]
  },
  {
   "cell_type": "markdown",
   "id": "based-coast",
   "metadata": {},
   "source": [
    "#### Create target column: predicted_duration (seconds)"
   ]
  },
  {
   "cell_type": "code",
   "execution_count": 167,
   "id": "continent-celebrity",
   "metadata": {},
   "outputs": [
    {
     "name": "stdout",
     "output_type": "stream",
     "text": [
      "predicted_duration in seconds:\n",
      "\tmax: 73282\n",
      "\tmin: 101\n",
      "\tmean: 2862\n",
      "\tstd: 1181\n"
     ]
    }
   ],
   "source": [
    "df['predicted_duration'] = df.actual_delivery_time - df.created_at\n",
    "df.predicted_duration = df.predicted_duration.dt.seconds\n",
    "print(\"predicted_duration in seconds:\")\n",
    "print(\"\\tmax:\", df.predicted_duration.max())\n",
    "print(\"\\tmin:\", df.predicted_duration.min())\n",
    "print(\"\\tmean:\", round(df.predicted_duration.mean()))\n",
    "print(\"\\tstd:\", round(df.predicted_duration.std()))"
   ]
  },
  {
   "cell_type": "code",
   "execution_count": null,
   "id": "possible-asthma",
   "metadata": {},
   "outputs": [],
   "source": []
  },
  {
   "cell_type": "markdown",
   "id": "serial-sapphire",
   "metadata": {},
   "source": [
    "### Invalid market features"
   ]
  },
  {
   "cell_type": "code",
   "execution_count": 81,
   "id": "charged-criminal",
   "metadata": {},
   "outputs": [
    {
     "name": "stdout",
     "output_type": "stream",
     "text": [
      "Any market features is NaN: 16262\n",
      "All market features is NaN: 16262\n"
     ]
    }
   ],
   "source": [
    "no_any_market = df[ (df.total_onshift_dashers.isnull()) | (df.total_busy_dashers.isnull()) | (df.total_outstanding_orders.isnull()) ]\n",
    "print(\"Any market features is NaN:\", no_any_market.shape[0])\n",
    "no_all_market = df[ (df.total_onshift_dashers.isnull()) & (df.total_busy_dashers.isnull()) & (df.total_outstanding_orders.isnull()) ]\n",
    "print(\"All market features is NaN:\", no_all_market.shape[0])"
   ]
  },
  {
   "cell_type": "markdown",
   "id": "grave-electron",
   "metadata": {},
   "source": [
    "### market_id"
   ]
  },
  {
   "cell_type": "code",
   "execution_count": 87,
   "id": "coupled-macro",
   "metadata": {},
   "outputs": [
    {
     "name": "stdout",
     "output_type": "stream",
     "text": [
      "NaN count: 0\n",
      "Unique: [1 2 3 4 0 5 6]\n",
      "Replace NaN by 0\n",
      "Transform to int\n",
      "Unique: [1 2 3 4 0 5 6]\n",
      "Distribution:\n"
     ]
    },
    {
     "data": {
      "text/plain": [
       "Counter({1: 38037, 2: 55055, 3: 23296, 4: 47597, 0: 987, 5: 17999, 6: 14450})"
      ]
     },
     "execution_count": 87,
     "metadata": {},
     "output_type": "execute_result"
    }
   ],
   "source": [
    "print(\"NaN count:\", df[df.market_id.isnull()].shape[0])\n",
    "print(\"Unique:\", df.market_id.unique())\n",
    "print(\"Replace NaN by 0\")\n",
    "df.market_id = df.market_id.fillna(0)\n",
    "print(\"Transform to int\")\n",
    "df.market_id =  df.market_id.astype(int)\n",
    "print(\"Unique:\", df.market_id.unique())\n",
    "print(\"Distribution:\")\n",
    "Counter(df.market_id)"
   ]
  },
  {
   "cell_type": "markdown",
   "id": "threatened-treat",
   "metadata": {},
   "source": [
    "### estimated_store_to_consumer_driving_duration"
   ]
  },
  {
   "cell_type": "code",
   "execution_count": 74,
   "id": "frozen-contrast",
   "metadata": {},
   "outputs": [
    {
     "name": "stdout",
     "output_type": "stream",
     "text": [
      "NaN count: 526\n",
      "Unique count: 1337\n",
      "Max: 2088.0\n",
      "Min: 0.0\n",
      "Min count: 9\n"
     ]
    }
   ],
   "source": [
    "print(\"NaN count:\", df[df.estimated_store_to_consumer_driving_duration.isnull()].shape[0])\n",
    "print(\"Unique count:\", df.estimated_store_to_consumer_driving_duration.unique().shape[0])\n",
    "max_driving = df.estimated_store_to_consumer_driving_duration.max()\n",
    "print(\"Max:\", max_driving)\n",
    "min_driving = df.estimated_store_to_consumer_driving_duration.min()\n",
    "print(\"Min:\", min_driving)\n",
    "print(\"Min count:\", df[df.estimated_store_to_consumer_driving_duration==min_driving].shape[0])\n",
    "df['estimated_store_to_consumer_driving_duration'] =  df.estimated_store_to_consumer_driving_duration.astype(float)"
   ]
  },
  {
   "cell_type": "code",
   "execution_count": 66,
   "id": "supported-wesley",
   "metadata": {},
   "outputs": [
    {
     "data": {
      "text/plain": [
       "1337"
      ]
     },
     "execution_count": 66,
     "metadata": {},
     "output_type": "execute_result"
    }
   ],
   "source": [
    "df.estimated_store_to_consumer_driving_duration.unique().shape[0]"
   ]
  },
  {
   "cell_type": "code",
   "execution_count": 48,
   "id": "pleased-korean",
   "metadata": {},
   "outputs": [
    {
     "name": "stdout",
     "output_type": "stream",
     "text": [
      "No market_id: 987\n",
      "No store_id: 0\n",
      "No subtotal: 0\n",
      "No estimated_store_to_consumer_driving_duration: 526\n"
     ]
    }
   ],
   "source": [
    "print(\"No store_id:\", df[df.store_id.isnull()].shape[0])\n",
    "print(\"No subtotal:\", df[df.subtotal.isnull()].shape[0])\n",
    "print(\"No estimated_store_to_consumer_driving_duration:\", df[df.estimated_store_to_consumer_driving_duration.isnull()].shape[0])"
   ]
  },
  {
   "cell_type": "code",
   "execution_count": 45,
   "id": "humanitarian-dallas",
   "metadata": {},
   "outputs": [
    {
     "data": {
      "text/plain": [
       "array([ 1.,  2.,  3.,  4., nan,  5.,  6.])"
      ]
     },
     "execution_count": 45,
     "metadata": {},
     "output_type": "execute_result"
    }
   ],
   "source": [
    "df.market_id.unique()"
   ]
  },
  {
   "cell_type": "code",
   "execution_count": null,
   "id": "exposed-batman",
   "metadata": {},
   "outputs": [],
   "source": []
  },
  {
   "cell_type": "code",
   "execution_count": null,
   "id": "primary-mixer",
   "metadata": {},
   "outputs": [],
   "source": []
  },
  {
   "cell_type": "code",
   "execution_count": null,
   "id": "civic-government",
   "metadata": {},
   "outputs": [],
   "source": [
    "df['estimated_store_to_consumer_driving_duration'] =  df.estimated_store_to_consumer_driving_duration.astype(float)"
   ]
  }
 ],
 "metadata": {
  "kernelspec": {
   "display_name": "Python 3",
   "language": "python",
   "name": "python3"
  },
  "language_info": {
   "codemirror_mode": {
    "name": "ipython",
    "version": 3
   },
   "file_extension": ".py",
   "mimetype": "text/x-python",
   "name": "python",
   "nbconvert_exporter": "python",
   "pygments_lexer": "ipython3",
   "version": "3.8.5"
  }
 },
 "nbformat": 4,
 "nbformat_minor": 5
}
