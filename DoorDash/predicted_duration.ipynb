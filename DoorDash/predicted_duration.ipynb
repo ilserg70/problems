{
 "cells": [
  {
   "cell_type": "markdown",
   "id": "antique-booking",
   "metadata": {},
   "source": [
    "# Building prediction Model of the total delivery duration seconds"
   ]
  },
  {
   "cell_type": "code",
   "execution_count": 1,
   "id": "affected-spanish",
   "metadata": {},
   "outputs": [],
   "source": [
    "import pandas as pd\n",
    "from collections import Counter"
   ]
  },
  {
   "cell_type": "code",
   "execution_count": 2,
   "id": "eligible-consequence",
   "metadata": {},
   "outputs": [
    {
     "name": "stdout",
     "output_type": "stream",
     "text": [
      "Data shape: (197428, 9)\n"
     ]
    }
   ],
   "source": [
    "df = pd.read_csv(\"historical_data.csv\")\n",
    "print(\"Data shape:\", df.shape)"
   ]
  },
  {
   "cell_type": "code",
   "execution_count": 3,
   "id": "polished-hearts",
   "metadata": {},
   "outputs": [
    {
     "data": {
      "text/html": [
       "<div>\n",
       "<style scoped>\n",
       "    .dataframe tbody tr th:only-of-type {\n",
       "        vertical-align: middle;\n",
       "    }\n",
       "\n",
       "    .dataframe tbody tr th {\n",
       "        vertical-align: top;\n",
       "    }\n",
       "\n",
       "    .dataframe thead th {\n",
       "        text-align: right;\n",
       "    }\n",
       "</style>\n",
       "<table border=\"1\" class=\"dataframe\">\n",
       "  <thead>\n",
       "    <tr style=\"text-align: right;\">\n",
       "      <th></th>\n",
       "      <th>market_id</th>\n",
       "      <th>created_at</th>\n",
       "      <th>actual_delivery_time</th>\n",
       "      <th>store_id</th>\n",
       "      <th>subtotal</th>\n",
       "      <th>total_onshift_dashers</th>\n",
       "      <th>total_busy_dashers</th>\n",
       "      <th>total_outstanding_orders</th>\n",
       "      <th>estimated_store_to_consumer_driving_duration</th>\n",
       "    </tr>\n",
       "  </thead>\n",
       "  <tbody>\n",
       "    <tr>\n",
       "      <th>0</th>\n",
       "      <td>1.0</td>\n",
       "      <td>2015-02-06 22:24:17</td>\n",
       "      <td>2015-02-06 23:27:16</td>\n",
       "      <td>1845</td>\n",
       "      <td>3441</td>\n",
       "      <td>33.0</td>\n",
       "      <td>14.0</td>\n",
       "      <td>21.0</td>\n",
       "      <td>861.0</td>\n",
       "    </tr>\n",
       "    <tr>\n",
       "      <th>1</th>\n",
       "      <td>2.0</td>\n",
       "      <td>2015-02-10 21:49:25</td>\n",
       "      <td>2015-02-10 22:56:29</td>\n",
       "      <td>5477</td>\n",
       "      <td>1900</td>\n",
       "      <td>1.0</td>\n",
       "      <td>2.0</td>\n",
       "      <td>2.0</td>\n",
       "      <td>690.0</td>\n",
       "    </tr>\n",
       "    <tr>\n",
       "      <th>2</th>\n",
       "      <td>3.0</td>\n",
       "      <td>2015-01-22 20:39:28</td>\n",
       "      <td>2015-01-22 21:09:09</td>\n",
       "      <td>5477</td>\n",
       "      <td>1900</td>\n",
       "      <td>1.0</td>\n",
       "      <td>0.0</td>\n",
       "      <td>0.0</td>\n",
       "      <td>690.0</td>\n",
       "    </tr>\n",
       "    <tr>\n",
       "      <th>3</th>\n",
       "      <td>3.0</td>\n",
       "      <td>2015-02-03 21:21:45</td>\n",
       "      <td>2015-02-03 22:13:00</td>\n",
       "      <td>5477</td>\n",
       "      <td>6900</td>\n",
       "      <td>1.0</td>\n",
       "      <td>1.0</td>\n",
       "      <td>2.0</td>\n",
       "      <td>289.0</td>\n",
       "    </tr>\n",
       "    <tr>\n",
       "      <th>4</th>\n",
       "      <td>3.0</td>\n",
       "      <td>2015-02-15 02:40:36</td>\n",
       "      <td>2015-02-15 03:20:26</td>\n",
       "      <td>5477</td>\n",
       "      <td>3900</td>\n",
       "      <td>6.0</td>\n",
       "      <td>6.0</td>\n",
       "      <td>9.0</td>\n",
       "      <td>650.0</td>\n",
       "    </tr>\n",
       "  </tbody>\n",
       "</table>\n",
       "</div>"
      ],
      "text/plain": [
       "   market_id           created_at actual_delivery_time  store_id  subtotal  \\\n",
       "0        1.0  2015-02-06 22:24:17  2015-02-06 23:27:16      1845      3441   \n",
       "1        2.0  2015-02-10 21:49:25  2015-02-10 22:56:29      5477      1900   \n",
       "2        3.0  2015-01-22 20:39:28  2015-01-22 21:09:09      5477      1900   \n",
       "3        3.0  2015-02-03 21:21:45  2015-02-03 22:13:00      5477      6900   \n",
       "4        3.0  2015-02-15 02:40:36  2015-02-15 03:20:26      5477      3900   \n",
       "\n",
       "   total_onshift_dashers  total_busy_dashers  total_outstanding_orders  \\\n",
       "0                   33.0                14.0                      21.0   \n",
       "1                    1.0                 2.0                       2.0   \n",
       "2                    1.0                 0.0                       0.0   \n",
       "3                    1.0                 1.0                       2.0   \n",
       "4                    6.0                 6.0                       9.0   \n",
       "\n",
       "   estimated_store_to_consumer_driving_duration  \n",
       "0                                         861.0  \n",
       "1                                         690.0  \n",
       "2                                         690.0  \n",
       "3                                         289.0  \n",
       "4                                         650.0  "
      ]
     },
     "execution_count": 3,
     "metadata": {},
     "output_type": "execute_result"
    }
   ],
   "source": [
    "df.head()"
   ]
  },
  {
   "cell_type": "code",
   "execution_count": 4,
   "id": "sized-blond",
   "metadata": {},
   "outputs": [
    {
     "name": "stdout",
     "output_type": "stream",
     "text": [
      "<class 'pandas.core.frame.DataFrame'>\n",
      "RangeIndex: 197428 entries, 0 to 197427\n",
      "Data columns (total 9 columns):\n",
      " #   Column                                        Non-Null Count   Dtype  \n",
      "---  ------                                        --------------   -----  \n",
      " 0   market_id                                     196441 non-null  float64\n",
      " 1   created_at                                    197428 non-null  object \n",
      " 2   actual_delivery_time                          197421 non-null  object \n",
      " 3   store_id                                      197428 non-null  int64  \n",
      " 4   subtotal                                      197428 non-null  int64  \n",
      " 5   total_onshift_dashers                         181166 non-null  float64\n",
      " 6   total_busy_dashers                            181166 non-null  float64\n",
      " 7   total_outstanding_orders                      181166 non-null  float64\n",
      " 8   estimated_store_to_consumer_driving_duration  196902 non-null  float64\n",
      "dtypes: float64(5), int64(2), object(2)\n",
      "memory usage: 13.6+ MB\n"
     ]
    }
   ],
   "source": [
    "df.info()"
   ]
  },
  {
   "cell_type": "markdown",
   "id": "functional-asian",
   "metadata": {},
   "source": [
    "## Create target column"
   ]
  },
  {
   "cell_type": "markdown",
   "id": "romance-grocery",
   "metadata": {},
   "source": [
    "#### Discard rows with invalid creation and delivery times. Convert datetime to PDT."
   ]
  },
  {
   "cell_type": "code",
   "execution_count": 5,
   "id": "angry-journalist",
   "metadata": {},
   "outputs": [
    {
     "name": "stdout",
     "output_type": "stream",
     "text": [
      "Valid rows: 197421\n"
     ]
    }
   ],
   "source": [
    "df = df[ (~df.created_at.isnull()) & (~df.actual_delivery_time.isnull()) ]\n",
    "print(\"Valid rows:\", df.shape[0])\n",
    "df.created_at = pd.to_datetime(df.created_at, utc=True).dt.tz_convert('US/Pacific')\n",
    "df.actual_delivery_time = pd.to_datetime(df.actual_delivery_time, utc=True).dt.tz_convert('US/Pacific')"
   ]
  },
  {
   "cell_type": "markdown",
   "id": "opposite-weapon",
   "metadata": {},
   "source": [
    "#### Create target column: predicted_duration (seconds)"
   ]
  },
  {
   "cell_type": "code",
   "execution_count": 6,
   "id": "important-murder",
   "metadata": {},
   "outputs": [
    {
     "name": "stdout",
     "output_type": "stream",
     "text": [
      "predicted_duration in seconds:\n",
      "\tmin: 101.0\n",
      "\tquantile_0.99: 6475\n",
      "\tmax: 73282.0\n",
      "\tmean: 2862\n",
      "\tstd: 1181\n"
     ]
    },
    {
     "data": {
      "text/plain": [
       "<AxesSubplot:title={'center':'Histogramm of predicted_duration'}, ylabel='Frequency'>"
      ]
     },
     "execution_count": 6,
     "metadata": {},
     "output_type": "execute_result"
    },
    {
     "data": {
      "image/png": "[encoded data removed]",
      "text/plain": [
       "<Figure size 864x288 with 1 Axes>"
      ]
     },
     "metadata": {
      "needs_background": "light"
     },
     "output_type": "display_data"
    }
   ],
   "source": [
    "df['predicted_duration'] = df.actual_delivery_time - df.created_at\n",
    "df.predicted_duration = df.predicted_duration.dt.seconds\n",
    "df.predicted_duration =  df.predicted_duration.astype(float)\n",
    "\n",
    "print(\"predicted_duration in seconds:\")\n",
    "print(\"\\tmin:\", df.predicted_duration.min())\n",
    "q_099 = round(df.predicted_duration.quantile(q=0.99))\n",
    "print(\"\\tquantile_0.99:\", q_099)\n",
    "print(\"\\tmax:\", df.predicted_duration.max())\n",
    "print(\"\\tmean:\", round(df.predicted_duration.mean()))\n",
    "print(\"\\tstd:\", round(df.predicted_duration.std()))\n",
    "df.predicted_duration.plot.hist(bins=100, grid=True, title=\"Histogramm of predicted_duration\", figsize=(12, 4), xlim=(0, q_099))"
   ]
  },
  {
   "cell_type": "markdown",
   "id": "amino-voltage",
   "metadata": {},
   "source": [
    "## Select features"
   ]
  },
  {
   "cell_type": "code",
   "execution_count": 7,
   "id": "distinct-swiss",
   "metadata": {},
   "outputs": [],
   "source": [
    "def print_info(df, col):\n",
    "    print(f\"\\n{col}:\")\n",
    "    print(\"\\tmin:\", df[col].min())\n",
    "    print(\"\\tmax:\", df[col].max())\n",
    "    print(\"\\tmean:\", round(df[col].mean()))\n",
    "    print(\"\\tstd:\", round(df[col].std()))\n",
    "    print(\"\\tcount  < 0:\", df[df[col] < 0].shape[0])\n",
    "    print(\"\\tcount == 0:\", df[df[col] == 0].shape[0])\n",
    "    print(\"\\tcount  NaN:\", df[df[col].isnull()].shape[0])\n",
    "\n",
    "def print_discrete_info(df, col):\n",
    "    print(f\"\\n{col}:\")\n",
    "    print(\"\\tmin:\", df[col].min())\n",
    "    print(\"\\tmax:\", df[col].max())\n",
    "    print(\"\\tcount  < 0:\", df[df[col] < 0].shape[0])\n",
    "    print(\"\\tcount == 0:\", df[df[col] == 0].shape[0])\n",
    "    print(\"\\tcount  NaN:\", df[df[col].isnull()].shape[0])\n",
    "    print(\"\\tcount unique:\", df[col].unique().shape[0])\n",
    "    print(\"\\tUnique:\", df[col].unique())\n",
    "\n",
    "def replace_nan_or_negative_by_zero_transform_to_type(df, col, col_type):\n",
    "    df[col] = df[col].fillna(0)\n",
    "    df[col] = df[col].apply(lambda x : x if x > 0 else 0)\n",
    "    df[col] =  df[col].astype(col_type)"
   ]
  },
  {
   "cell_type": "markdown",
   "id": "valid-carroll",
   "metadata": {},
   "source": [
    "#### Market features\n",
    "- Replace negative values by 0 (since number of dashers or orders can't be negative)\n",
    "- Replace NaN by 0\n",
    "- Transform to int"
   ]
  },
  {
   "cell_type": "code",
   "execution_count": 8,
   "id": "fifth-implementation",
   "metadata": {},
   "outputs": [
    {
     "name": "stdout",
     "output_type": "stream",
     "text": [
      "\n",
      "total_onshift_dashers:\n",
      "\tmin: -4.0\n",
      "\tmax: 171.0\n",
      "\tmean: 45\n",
      "\tstd: 35\n",
      "\tcount  < 0: 21\n",
      "\tcount == 0: 3615\n",
      "\tcount  NaN: 16262\n",
      "\n",
      "total_busy_dashers:\n",
      "\tmin: -5.0\n",
      "\tmax: 154.0\n",
      "\tmean: 42\n",
      "\tstd: 32\n",
      "\tcount  < 0: 21\n",
      "\tcount == 0: 4171\n",
      "\tcount  NaN: 16262\n",
      "\n",
      "total_outstanding_orders:\n",
      "\tmin: -6.0\n",
      "\tmax: 285.0\n",
      "\tmean: 58\n",
      "\tstd: 53\n",
      "\tcount  < 0: 44\n",
      "\tcount == 0: 4111\n",
      "\tcount  NaN: 16262\n",
      "\n",
      "Any market features is NaN: 16262\n",
      "All market features is NaN: 16262\n",
      "\n",
      "After replacement NaN or negative values by 0 and transformation to int\n",
      "\n",
      "total_onshift_dashers:\n",
      "\tmin: 0\n",
      "\tmax: 171\n",
      "\tmean: 41\n",
      "\tstd: 35\n",
      "\tcount  < 0: 0\n",
      "\tcount == 0: 19898\n",
      "\tcount  NaN: 0\n",
      "\n",
      "total_busy_dashers:\n",
      "\tmin: 0\n",
      "\tmax: 154\n",
      "\tmean: 38\n",
      "\tstd: 33\n",
      "\tcount  < 0: 0\n",
      "\tcount == 0: 20454\n",
      "\tcount  NaN: 0\n",
      "\n",
      "total_outstanding_orders:\n",
      "\tmin: 0\n",
      "\tmax: 285\n",
      "\tmean: 53\n",
      "\tstd: 53\n",
      "\tcount  < 0: 0\n",
      "\tcount == 0: 20417\n",
      "\tcount  NaN: 0\n"
     ]
    }
   ],
   "source": [
    "print_info(df, \"total_onshift_dashers\")\n",
    "print_info(df, \"total_busy_dashers\")\n",
    "print_info(df, \"total_outstanding_orders\")\n",
    "\n",
    "no_any_market = df[ (df.total_onshift_dashers.isnull()) | (df.total_busy_dashers.isnull()) | (df.total_outstanding_orders.isnull()) ]\n",
    "print(\"\\nAny market features is NaN:\", no_any_market.shape[0])\n",
    "no_all_market = df[ (df.total_onshift_dashers.isnull()) & (df.total_busy_dashers.isnull()) & (df.total_outstanding_orders.isnull()) ]\n",
    "print(\"All market features is NaN:\", no_all_market.shape[0])\n",
    "\n",
    "replace_nan_or_negative_by_zero_transform_to_type(df, \"total_onshift_dashers\", int)\n",
    "replace_nan_or_negative_by_zero_transform_to_type(df, \"total_busy_dashers\", int)\n",
    "replace_nan_or_negative_by_zero_transform_to_type(df, \"total_outstanding_orders\", int)\n",
    "\n",
    "print(\"\\nAfter replacement NaN or negative values by 0 and transformation to int\")\n",
    "print_info(df, \"total_onshift_dashers\")\n",
    "print_info(df, \"total_busy_dashers\")\n",
    "print_info(df, \"total_outstanding_orders\")"
   ]
  },
  {
   "cell_type": "markdown",
   "id": "automated-compound",
   "metadata": {},
   "source": [
    "#### store_id, market_id\n",
    "- Replace NaN by 0\n",
    "- Transform to int"
   ]
  },
  {
   "cell_type": "code",
   "execution_count": 9,
   "id": "statutory-barcelona",
   "metadata": {},
   "outputs": [
    {
     "name": "stdout",
     "output_type": "stream",
     "text": [
      "\n",
      "store_id:\n",
      "\tmin: 1\n",
      "\tmax: 6987\n",
      "\tcount  < 0: 0\n",
      "\tcount == 0: 0\n",
      "\tcount  NaN: 0\n",
      "\tcount unique: 6743\n",
      "\tUnique: [1845 5477 2841 ...  215 2956 3630]\n",
      "\n",
      "market_id:\n",
      "\tmin: 1.0\n",
      "\tmax: 6.0\n",
      "\tcount  < 0: 0\n",
      "\tcount == 0: 0\n",
      "\tcount  NaN: 987\n",
      "\tcount unique: 7\n",
      "\tUnique: [ 1.  2.  3.  4. nan  5.  6.]\n",
      "\n",
      "After replacement NaN by 0 and transformation to int\n",
      "\n",
      "market_id:\n",
      "\tmin: 0\n",
      "\tmax: 6\n",
      "\tcount  < 0: 0\n",
      "\tcount == 0: 987\n",
      "\tcount  NaN: 0\n",
      "\tcount unique: 7\n",
      "\tUnique: [1 2 3 4 0 5 6]\n"
     ]
    }
   ],
   "source": [
    "print_discrete_info(df, \"store_id\")\n",
    "print_discrete_info(df, \"market_id\")\n",
    "\n",
    "replace_nan_or_negative_by_zero_transform_to_type(df, \"store_id\", int)\n",
    "replace_nan_or_negative_by_zero_transform_to_type(df, \"market_id\", int)\n",
    "\n",
    "print(\"\\nAfter replacement NaN by 0 and transformation to int\")\n",
    "print_discrete_info(df, \"market_id\")"
   ]
  },
  {
   "cell_type": "markdown",
   "id": "prescription-means",
   "metadata": {},
   "source": [
    "#### subtotal, estimated_store_to_consumer_driving_duration\n",
    "- Replace NaN by 0\n",
    "- Transform to float"
   ]
  },
  {
   "cell_type": "code",
   "execution_count": 10,
   "id": "fewer-domestic",
   "metadata": {},
   "outputs": [
    {
     "name": "stdout",
     "output_type": "stream",
     "text": [
      "\n",
      "subtotal:\n",
      "\tmin: 0\n",
      "\tmax: 27100\n",
      "\tmean: 2682\n",
      "\tstd: 1823\n",
      "\tcount  < 0: 0\n",
      "\tcount == 0: 179\n",
      "\tcount  NaN: 0\n",
      "\n",
      "estimated_store_to_consumer_driving_duration:\n",
      "\tmin: 0.0\n",
      "\tmax: 2088.0\n",
      "\tmean: 545\n",
      "\tstd: 219\n",
      "\tcount  < 0: 0\n",
      "\tcount == 0: 9\n",
      "\tcount  NaN: 526\n",
      "\n",
      "After replacement NaN by 0 and transformation to float\n",
      "\n",
      "estimated_store_to_consumer_driving_duration:\n",
      "\tmin: 0.0\n",
      "\tmax: 2088.0\n",
      "\tmean: 544\n",
      "\tstd: 221\n",
      "\tcount  < 0: 0\n",
      "\tcount == 0: 535\n",
      "\tcount  NaN: 0\n"
     ]
    }
   ],
   "source": [
    "print_info(df, \"subtotal\")\n",
    "print_info(df, \"estimated_store_to_consumer_driving_duration\")\n",
    "\n",
    "replace_nan_or_negative_by_zero_transform_to_type(df, \"subtotal\", float)\n",
    "replace_nan_or_negative_by_zero_transform_to_type(df, \"estimated_store_to_consumer_driving_duration\", float)\n",
    "\n",
    "print(\"\\nAfter replacement NaN by 0 and transformation to float\")\n",
    "print_info(df, \"estimated_store_to_consumer_driving_duration\")"
   ]
  },
  {
   "cell_type": "markdown",
   "id": "focal-nursery",
   "metadata": {},
   "source": [
    "## Add new features"
   ]
  },
  {
   "cell_type": "code",
   "execution_count": 117,
   "id": "latter-operations",
   "metadata": {},
   "outputs": [],
   "source": [
    "df['created_at_hour'] = df.created_at.dt.hour\n",
    "df['created_at_day_of_week'] = df.created_at.dt.day_of_week"
   ]
  },
  {
   "cell_type": "code",
   "execution_count": 105,
   "id": "korean-asthma",
   "metadata": {},
   "outputs": [
    {
     "data": {
      "text/plain": [
       "Counter({14: 8821,\n",
       "         13: 11464,\n",
       "         12: 15560,\n",
       "         18: 36973,\n",
       "         19: 27068,\n",
       "         16: 12669,\n",
       "         17: 28187,\n",
       "         11: 13541,\n",
       "         20: 15250,\n",
       "         15: 8163,\n",
       "         21: 7095,\n",
       "         10: 5100,\n",
       "         22: 1417,\n",
       "         9: 3413,\n",
       "         8: 2109,\n",
       "         7: 538,\n",
       "         6: 40,\n",
       "         23: 11,\n",
       "         0: 2})"
      ]
     },
     "execution_count": 105,
     "metadata": {},
     "output_type": "execute_result"
    }
   ],
   "source": [
    "#df.created_at.dt.day_of_week\n",
    "#df.created_at.dt.hour\n",
    "Counter(df.created_at.dt.hour)"
   ]
  },
  {
   "cell_type": "code",
   "execution_count": 112,
   "id": "governmental-solomon",
   "metadata": {},
   "outputs": [
    {
     "data": {
      "text/plain": [
       "<AxesSubplot:title={'center':'Histogramm'}, ylabel='Frequency'>"
      ]
     },
     "execution_count": 112,
     "metadata": {},
     "output_type": "execute_result"
    },
    {
     "data": {
      "image/png": "[encoded data removed]",
      "text/plain": [
       "<Figure size 864x288 with 1 Axes>"
      ]
     },
     "metadata": {
      "needs_background": "light"
     },
     "output_type": "display_data"
    }
   ],
   "source": [
    "df.created_at.dt.day_of_week.plot.hist(bins=30, grid=True, title=\"Histogramm\", figsize=(12, 4))"
   ]
  },
  {
   "cell_type": "markdown",
   "id": "collaborative-indication",
   "metadata": {},
   "source": [
    "## Building Models"
   ]
  },
  {
   "cell_type": "code",
   "execution_count": 147,
   "id": "metallic-policy",
   "metadata": {},
   "outputs": [
    {
     "name": "stdout",
     "output_type": "stream",
     "text": [
      "Train size: 177678\n",
      "Test size: 19743\n"
     ]
    }
   ],
   "source": [
    "cols = ['market_id','store_id','subtotal','total_onshift_dashers','total_busy_dashers','total_outstanding_orders','estimated_store_to_consumer_driving_duration']\n",
    "cols.append('created_at_hour')\n",
    "cols.append('created_at_day_of_week')\n",
    "\n",
    "X = df[cols]\n",
    "y = df['predicted_duration']\n",
    "\n",
    "X_train, X_test, y_train, y_test = train_test_split(X, y, test_size=0.1, random_state=42)\n",
    "print(\"Train size:\", X_train.shape[0])\n",
    "print(\"Test size:\", X_test.shape[0])"
   ]
  },
  {
   "cell_type": "markdown",
   "id": "broken-deployment",
   "metadata": {},
   "source": [
    "#### LinearRegression\n",
    "Metrics: https://scikit-learn.org/stable/modules/classes.html#regression-metrics"
   ]
  },
  {
   "cell_type": "code",
   "execution_count": 150,
   "id": "dense-southwest",
   "metadata": {},
   "outputs": [
    {
     "name": "stdout",
     "output_type": "stream",
     "text": [
      "\n",
      "Model score: 0.186\n",
      "Model Intercept: 1736.892\n",
      "\n",
      "Metrics:\n",
      "explained_variance_score           :    0.197\n",
      "Coefficient of determination       :    0.197\n",
      "max_error                          :  33431.4 sec.\n",
      "mean_absolute_error                :    708.9 sec.\n",
      "median_absolute_error              :    563.8 sec.\n",
      "mean_poisson_deviance              :    308.2 sec.\n",
      "mean_absolute_percentage_error     :    0.268\n"
     ]
    }
   ],
   "source": [
    "from sklearn.model_selection import train_test_split\n",
    "from sklearn import linear_model\n",
    "import sklearn.metrics as m\n",
    "\n",
    "model = linear_model.LinearRegression()\n",
    "model.fit(X_train, y_train)\n",
    "y_pred = model.predict(X_test)\n",
    "\n",
    "print(f'\\nModel score: {model.score(X_train, y_train):.3f}')\n",
    "#print('Model Coefficients:', model.coef_)\n",
    "print(f'Model Intercept: {model.intercept_:.3f}')\n",
    "\n",
    "print(\"\\nMetrics:\")\n",
    "#print(f\"{'mean_squared_error':35s}: {m.mean_squared_error(y_test, y_pred):8.1f}\")\n",
    "print(f\"{'explained_variance_score':35s}: {m.explained_variance_score(y_test, y_pred):8.3f}\")\n",
    "print(f\"{'Coefficient of determination':35s}: {m.r2_score(y_test, y_pred):8.3f}\")\n",
    "print(f\"{'max_error':35s}: {m.max_error(y_test, y_pred):8.1f} sec.\")\n",
    "print(f\"{'mean_absolute_error':35s}: {m.mean_absolute_error(y_test, y_pred):8.1f} sec.\")\n",
    "print(f\"{'median_absolute_error':35s}: {m.median_absolute_error(y_test, y_pred):8.1f} sec.\")\n",
    "print(f\"{'mean_poisson_deviance':35s}: {m.mean_poisson_deviance(y_test, y_pred):8.1f} sec.\")\n",
    "print(f\"{'mean_absolute_percentage_error':35s}: {m.mean_absolute_percentage_error(y_test, y_pred):8.3f}\")"
   ]
  },
  {
   "cell_type": "markdown",
   "id": "pursuant-creator",
   "metadata": {},
   "source": [
    "#### RandomForestRegressor"
   ]
  },
  {
   "cell_type": "code",
   "execution_count": 199,
   "id": "initial-probability",
   "metadata": {},
   "outputs": [
    {
     "name": "stdout",
     "output_type": "stream",
     "text": [
      "\n",
      "Model score: 0.390\n"
     ]
    }
   ],
   "source": [
    "from sklearn.ensemble import RandomForestRegressor\n",
    "\n",
    "model = RandomForestRegressor(max_depth=20, random_state=10, n_estimators=100, criterion='mse', min_samples_split=50, min_samples_leaf=10)\n",
    "model.fit(X_train, y_train)\n",
    "y_pred = model.predict(X_test)\n",
    "\n",
    "print(f'\\nModel score: {model.score(X_train, y_train):.3f}')"
   ]
  },
  {
   "cell_type": "code",
   "execution_count": 200,
   "id": "utility-yacht",
   "metadata": {},
   "outputs": [
    {
     "name": "stdout",
     "output_type": "stream",
     "text": [
      "\n",
      "Metrics:\n",
      "explained_variance_score           :    0.276\n",
      "Coefficient of determination       :    0.276\n",
      "max_error                          :  33465.2 sec.\n",
      "mean_absolute_error                :    665.7 sec.\n",
      "median_absolute_error              :    522.0 sec.\n",
      "mean_poisson_deviance              :    272.7 sec.\n",
      "mean_absolute_percentage_error     :    0.249\n"
     ]
    }
   ],
   "source": [
    "print(\"\\nMetrics:\")\n",
    "#print(f\"{'mean_squared_error':35s}: {m.mean_squared_error(y_test, y_pred):8.1f}\")\n",
    "print(f\"{'explained_variance_score':35s}: {m.explained_variance_score(y_test, y_pred):8.3f}\")\n",
    "print(f\"{'Coefficient of determination':35s}: {m.r2_score(y_test, y_pred):8.3f}\")\n",
    "print(f\"{'max_error':35s}: {m.max_error(y_test, y_pred):8.1f} sec.\")\n",
    "print(f\"{'mean_absolute_error':35s}: {m.mean_absolute_error(y_test, y_pred):8.1f} sec.\")\n",
    "print(f\"{'median_absolute_error':35s}: {m.median_absolute_error(y_test, y_pred):8.1f} sec.\")\n",
    "print(f\"{'mean_poisson_deviance':35s}: {m.mean_poisson_deviance(y_test, y_pred):8.1f} sec.\")\n",
    "print(f\"{'mean_absolute_percentage_error':35s}: {m.mean_absolute_percentage_error(y_test, y_pred):8.3f}\")"
   ]
  },
  {
   "cell_type": "code",
   "execution_count": 202,
   "id": "every-involvement",
   "metadata": {},
   "outputs": [
    {
     "data": {
      "text/plain": [
       "11"
      ]
     },
     "execution_count": 202,
     "metadata": {},
     "output_type": "execute_result"
    }
   ],
   "source": [
    "665//60"
   ]
  },
  {
   "cell_type": "code",
   "execution_count": 203,
   "id": "close-dining",
   "metadata": {},
   "outputs": [
    {
     "data": {
      "text/plain": [
       "47"
      ]
     },
     "execution_count": 203,
     "metadata": {},
     "output_type": "execute_result"
    }
   ],
   "source": [
    "2862//60"
   ]
  },
  {
   "cell_type": "code",
   "execution_count": 204,
   "id": "vietnamese-logistics",
   "metadata": {},
   "outputs": [
    {
     "data": {
      "text/plain": [
       "11"
      ]
     },
     "execution_count": 204,
     "metadata": {},
     "output_type": "execute_result"
    }
   ],
   "source": [
    "708//60"
   ]
  },
  {
   "cell_type": "code",
   "execution_count": null,
   "id": "wireless-aurora",
   "metadata": {},
   "outputs": [],
   "source": []
  },
  {
   "cell_type": "code",
   "execution_count": 24,
   "id": "aggressive-sterling",
   "metadata": {},
   "outputs": [
    {
     "name": "stdout",
     "output_type": "stream",
     "text": [
      "train_set size: 177679\n",
      "valid_set size: 19742\n"
     ]
    }
   ],
   "source": [
    "import torch\n",
    "\n",
    "split_rate = 0.9\n",
    "num_train = round(dataset.shape[0] *split_rate)\n",
    "num_valid = dataset.shape[0] - num_train\n",
    "\n",
    "train_set, valid_set = torch.utils.data.random_split(dataset, [num_train, num_valid])\n",
    "print(\"train_set size:\", len(train_set))\n",
    "print(\"valid_set size:\", len(valid_set))"
   ]
  },
  {
   "cell_type": "code",
   "execution_count": null,
   "id": "shaped-fitness",
   "metadata": {},
   "outputs": [],
   "source": []
  }
 ],
 "metadata": {
  "kernelspec": {
   "display_name": "Python 3",
   "language": "python",
   "name": "python3"
  },
  "language_info": {
   "codemirror_mode": {
    "name": "ipython",
    "version": 3
   },
   "file_extension": ".py",
   "mimetype": "text/x-python",
   "name": "python",
   "nbconvert_exporter": "python",
   "pygments_lexer": "ipython3",
   "version": "3.8.5"
  }
 },
 "nbformat": 4,
 "nbformat_minor": 5
}
