{
 "cells": [
  {
   "cell_type": "markdown",
   "metadata": {},
   "source": [
    "# Interview BCG GAMMA"
   ]
  },
  {
   "cell_type": "markdown",
   "metadata": {},
   "source": [
    "### Spreadsheet Notation"
   ]
  },
  {
   "cell_type": "code",
   "execution_count": 25,
   "metadata": {},
   "outputs": [],
   "source": [
    "def getSpreadsheetNotation(n):\n",
    "    r = (n-1)//702 + 1\n",
    "    m = (n-1)%702\n",
    "    m1, m2 = m//26, m%26\n",
    "    abc = \"ABCDEFGHIJKLMNOPQRSTUVWXYZ\"\n",
    "    return str(r) + ('' if m1 == 0 else abc[m1-1]) + abc[m2]"
   ]
  },
  {
   "cell_type": "code",
   "execution_count": 36,
   "metadata": {},
   "outputs": [
    {
     "name": "stdout",
     "output_type": "stream",
     "text": [
      "1 => 1A\n",
      "2 => 1B\n",
      "3 => 1C\n",
      "4 => 1D\n"
     ]
    }
   ],
   "source": [
    "for n in range(1,5):\n",
    "    print(f\"{n} => {getSpreadsheetNotation(n)}\")"
   ]
  },
  {
   "cell_type": "code",
   "execution_count": 34,
   "metadata": {},
   "outputs": [],
   "source": [
    "# Test\n",
    "abc = \"ABCDEFGHIJKLMNOPQRSTUVWXYZ\"\n",
    "columns = list(abc) + [c1+c2 for c1 in abc for c2 in abc]\n",
    "N=1000\n",
    "nn = [str(r)+c for r in range(1,N+1) for c in columns]\n",
    "for i in range(len(nn)):\n",
    "    rc = getSpreadsheetNotation(i+1)\n",
    "    if rc != nn[i]:\n",
    "        print(f\"Error: {i+1} => {rc} != {nn[i]}\")"
   ]
  },
  {
   "cell_type": "markdown",
   "metadata": {},
   "source": [
    "### Triplets"
   ]
  },
  {
   "cell_type": "code",
   "execution_count": 107,
   "metadata": {},
   "outputs": [],
   "source": [
    "def triplets(t, d):\n",
    "    d = sorted(filter(lambda x: x < t, d), reverse=True)\n",
    "    res = 0\n",
    "    for i in range(len(d)):\n",
    "        t2 = t-d[i]\n",
    "        d2 = list(filter(lambda x2: x2 < t2, d[i+1:]))\n",
    "        for j in range(len(d2)):\n",
    "            t3 = t2-d2[j]\n",
    "            d3 = list(filter(lambda x3: x3 <= t3, d2[j+1:]))\n",
    "            res += len(d3)\n",
    "    return res"
   ]
  },
  {
   "cell_type": "code",
   "execution_count": 141,
   "metadata": {},
   "outputs": [
    {
     "name": "stdout",
     "output_type": "stream",
     "text": [
      "4\n",
      "3\n"
     ]
    }
   ],
   "source": [
    "print(triplets(8, [8,5,1,2,3,4,6])) # 4\n",
    "print(triplets(8, [1,2,3,4,6])) # 3"
   ]
  },
  {
   "cell_type": "code",
   "execution_count": 135,
   "metadata": {},
   "outputs": [],
   "source": [
    "def find_pos_in_sorted(arr, start, end, val):\n",
    "    idx = start + (end-start)//2\n",
    "    if val > arr[idx]:\n",
    "        if idx == start:\n",
    "            return idx\n",
    "        return find_pos_in_sorted(arr, start, idx-1, val)\n",
    "    elif val < arr[idx]:\n",
    "        if idx == end:\n",
    "            return idx+1\n",
    "        return find_pos_in_sorted(arr, idx+1, end, val)\n",
    "    else:\n",
    "        return idx\n",
    "\n",
    "def triplets2(t, d):\n",
    "    d = sorted(filter(lambda x: x < t, d), reverse=True)\n",
    "    res = 0\n",
    "    for i in range(len(d)):\n",
    "        t2 = t-d[i]\n",
    "        i2 = i+1\n",
    "        if i+1 <= len(d)-1:\n",
    "            i2 = find_pos_in_sorted(d, i+1, len(d)-1, t2)\n",
    "        for j in range(i2, len(d)):\n",
    "            t3 = t2-d[j]\n",
    "            if t3 >= 0 and j+1 <= len(d)-1:\n",
    "                idx = find_pos_in_sorted(d, j+1, len(d)-1, t3)\n",
    "                num = max(0, len(d)-idx)\n",
    "                res += num\n",
    "    return res"
   ]
  },
  {
   "cell_type": "code",
   "execution_count": 140,
   "metadata": {},
   "outputs": [
    {
     "name": "stdout",
     "output_type": "stream",
     "text": [
      "4\n",
      "3\n"
     ]
    }
   ],
   "source": [
    "print(triplets2(8, [8,5,1,2,3,4,6])) # 4\n",
    "print(triplets2(8, [1,2,3,4,6])) # 3"
   ]
  },
  {
   "cell_type": "code",
   "execution_count": 176,
   "metadata": {},
   "outputs": [
    {
     "name": "stdout",
     "output_type": "stream",
     "text": [
      "27569861\n",
      "Elapsed: 0.666 sec.\n",
      "27569861\n",
      "Elapsed:  4.54 sec.\n"
     ]
    }
   ],
   "source": [
    "# Time complexity test:\n",
    "import time\n",
    "\n",
    "N, t = 10000, 1000\n",
    "d = list(range(1,N+1))\n",
    "\n",
    "start_time = time.time()\n",
    "print(triplets2(t, d))\n",
    "print(f\"Elapsed: {time.time() - start_time:5.3} sec.\")\n",
    "\n",
    "start_time = time.time()\n",
    "print(triplets(t, d))\n",
    "print(f\"Elapsed: {time.time() - start_time:5.3} sec.\")"
   ]
  },
  {
   "cell_type": "markdown",
   "metadata": {},
   "source": [
    "### max Events"
   ]
  },
  {
   "cell_type": "code",
   "execution_count": null,
   "metadata": {},
   "outputs": [],
   "source": [
    "def maxEvents(arrival, duration):\n",
    "    "
   ]
  },
  {
   "cell_type": "code",
   "execution_count": null,
   "metadata": {},
   "outputs": [],
   "source": [
    "maxEvents([1,3,3,5,7], [2,2,1,2,1])# 4"
   ]
  },
  {
   "cell_type": "code",
   "execution_count": null,
   "metadata": {},
   "outputs": [],
   "source": []
  }
 ],
 "metadata": {
  "kernelspec": {
   "display_name": "Python 3",
   "language": "python",
   "name": "python3"
  },
  "language_info": {
   "codemirror_mode": {
    "name": "ipython",
    "version": 3
   },
   "file_extension": ".py",
   "mimetype": "text/x-python",
   "name": "python",
   "nbconvert_exporter": "python",
   "pygments_lexer": "ipython3",
   "version": "3.7.4"
  }
 },
 "nbformat": 4,
 "nbformat_minor": 2
}
