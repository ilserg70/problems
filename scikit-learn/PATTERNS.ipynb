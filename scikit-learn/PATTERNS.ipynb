{
 "cells": [
  {
   "cell_type": "markdown",
   "metadata": {},
   "source": [
    "#### PATTERNS"
   ]
  },
  {
   "cell_type": "code",
   "execution_count": null,
   "metadata": {},
   "outputs": [],
   "source": [
    "# arange\n",
    "import numpy as np\n",
    "np.arange(10)"
   ]
  },
  {
   "cell_type": "code",
   "execution_count": null,
   "metadata": {},
   "outputs": [],
   "source": [
    "# Random int\n",
    "from sklearn.utils import check_random_state\n",
    "rs = check_random_state(0) # Turn seed into a np.random.RandomState instance\n",
    "rs.randint(-5, 5, size=(10,5)) # Return random integers from low (inclusive) to high (exclusive)."
   ]
  },
  {
   "cell_type": "code",
   "execution_count": null,
   "metadata": {},
   "outputs": [],
   "source": [
    "# log(1 + x)\n",
    "np.log1p(np.arange(10))"
   ]
  },
  {
   "cell_type": "code",
   "execution_count": null,
   "metadata": {},
   "outputs": [],
   "source": [
    "# newaxis\n",
    "import numpy as np\n",
    "x = np.arange(10)\n",
    "print(x)\n",
    "print(x[:,np.newaxis])"
   ]
  },
  {
   "cell_type": "code",
   "execution_count": null,
   "metadata": {},
   "outputs": [],
   "source": [
    "# Plot\n",
    "%matplotlib inline\n",
    "import matplotlib.pyplot as plt\n",
    "import numpy as np\n",
    "fig = plt.figure()\n",
    "x = np.arange(10)\n",
    "y = (2-x)*(x-6) + 2\n",
    "plt.plot(x,y,\"r*-\",markersize=10)\n",
    "plt.show()"
   ]
  },
  {
   "cell_type": "code",
   "execution_count": null,
   "metadata": {},
   "outputs": [],
   "source": [
    "# LinearRegression\n",
    "%matplotlib inline\n",
    "import matplotlib.pyplot as plt\n",
    "import numpy as np\n",
    "from sklearn.linear_model import LinearRegression\n",
    "x = np.arange(10)\n",
    "y = (2-x)*(x-6) + 2\n",
    "lr = LinearRegression()\n",
    "lr.fit(x[:,np.newaxis],y)\n",
    "y_ = lr.predict(x[:,np.newaxis])\n",
    "fig = plt.figure()\n",
    "plt.plot(x,y,\"b+\")\n",
    "plt.plot(x,y_,\"r-\")\n",
    "plt.show()"
   ]
  },
  {
   "cell_type": "code",
   "execution_count": null,
   "metadata": {},
   "outputs": [],
   "source": [
    "# IsotonicRegression\n",
    "%matplotlib inline\n",
    "import matplotlib.pyplot as plt\n",
    "import numpy as np\n",
    "from sklearn.utils import check_random_state\n",
    "from sklearn.isotonic import IsotonicRegression\n",
    "n = 100\n",
    "x = np.arange(n)\n",
    "rs = check_random_state(0)\n",
    "y = rs.randint(-50, 50, size=(n,)) + 50. * np.log1p(np.arange(n))\n",
    "ir = IsotonicRegression()\n",
    "y_ = ir.fit_transform(x,y)\n",
    "fig = plt.figure()\n",
    "plt.plot(x,y,\"b+\")\n",
    "plt.plot(x,y_,\"r-\")\n",
    "plt.show()"
   ]
  },
  {
   "cell_type": "code",
   "execution_count": null,
   "metadata": {},
   "outputs": [],
   "source": [
    "import math\n",
    "def basic_sigmoid(x):\n",
    "    return 1 / (1 + math.exp(-x))\n",
    "basic_sigmoid(3) # 0.9525741268224334"
   ]
  },
  {
   "cell_type": "code",
   "execution_count": null,
   "metadata": {},
   "outputs": [],
   "source": [
    "import numpy as np\n",
    "def sigmoid(x):\n",
    "    return 1 / (1 + np.exp(-x))\n",
    "def sigmoid_derivative(x):\n",
    "    s = sigmoid(x)\n",
    "    return s*(1-s)\n",
    "print(sigmoid(3)) # 0.9525741268224334\n",
    "x = np.array([3,6,8])\n",
    "print(sigmoid(x))\n",
    "print(sigmoid_derivative(x))"
   ]
  },
  {
   "cell_type": "code",
   "execution_count": null,
   "metadata": {},
   "outputs": [],
   "source": [
    "import numpy as np\n",
    "def image2vector(image):\n",
    "    return image.reshape((image.shape[0] * image.shape[1], 1))\n",
    "def normalizeRows(x):\n",
    "    x_norm = np.linalg.norm(x, ord = 2, axis=1, keepdims=True)\n",
    "    return x / x_norm\n",
    "def softmax(x):\n",
    "    x_exp = np.exp(x)\n",
    "    x_sum = np.sum(x_exp, axis=1, keepdims=True)\n",
    "    return x_exp / x_sum\n",
    "x = np.array([[2,4,7],[0,1,2],[1,1,1],[0,3,10]])\n",
    "print(x)\n",
    "print(normalizeRows(x))\n",
    "print(softmax(x))"
   ]
  },
  {
   "cell_type": "code",
   "execution_count": null,
   "metadata": {},
   "outputs": [],
   "source": [
    "import numpy as np\n",
    "x1 = [1,3,5,7]\n",
    "x2 = [2,4,1,5]\n",
    "print(np.dot(x1,x2))\n",
    "print(np.multiply(x1,x2))\n",
    "print(np.outer(x1,x2))\n",
    "w = np.array([[2,1,4],[3,5,7]])\n",
    "x = np.array([1,1,1])\n",
    "print(np.dot(w,x))"
   ]
  },
  {
   "cell_type": "code",
   "execution_count": null,
   "metadata": {},
   "outputs": [],
   "source": [
    "x = np.arange(6).reshape((3,2))\n",
    "print(x)\n",
    "print(np.transpose(x))"
   ]
  },
  {
   "cell_type": "code",
   "execution_count": null,
   "metadata": {},
   "outputs": [],
   "source": [
    "x = np.ones((1, 2, 3))\n",
    "np.transpose(x, (1, 0, 2)).shape #(2, 1, 3)"
   ]
  },
  {
   "cell_type": "code",
   "execution_count": null,
   "metadata": {},
   "outputs": [],
   "source": [
    "def loss_L1(yhat, y):\n",
    "    return np.sum(np.abs(y - yhat))\n",
    "def loss_L2(yhat, y):\n",
    "    return np.sum(np.dot(y - yhat, y - yhat))\n",
    "y = np.arange(4).reshape((2,2))\n",
    "yhat = np.ones((2,2))\n",
    "print(loss_L1(yhat, y))\n",
    "print(loss_L2(yhat, y))"
   ]
  },
  {
   "cell_type": "code",
   "execution_count": null,
   "metadata": {},
   "outputs": [],
   "source": [
    "yhat = np.array([.9, 0.2, 0.1, .4, .9])\n",
    "y = np.array([1, 0, 0, 1, 1])\n",
    "print(\"L2 = \" + str(loss_L2(yhat,y)))"
   ]
  },
  {
   "cell_type": "code",
   "execution_count": null,
   "metadata": {},
   "outputs": [],
   "source": [
    "x = np.arange(6).reshape((2,3))\n",
    "print(x)\n",
    "mx = np.nanmax(x, axis=0)\n",
    "print(mx)\n",
    "y = x/mx\n",
    "y"
   ]
  },
  {
   "cell_type": "code",
   "execution_count": null,
   "metadata": {},
   "outputs": [],
   "source": [
    "from sklearn.datasets import load_iris\n",
    "from sklearn.linear_model import LogisticRegression\n",
    "X, y = load_iris(return_X_y=True)\n",
    "clf = LogisticRegression(random_state=0, solver='saga',multi_class='multinomial').fit(X, y)\n",
    "print(clf.predict(X[:2, :]))\n",
    "print(clf.predict_proba(X[:2, :]))\n",
    "print(clf.score(X, y))# 0.97"
   ]
  },
  {
   "cell_type": "code",
   "execution_count": null,
   "metadata": {},
   "outputs": [],
   "source": []
  }
 ],
 "metadata": {
  "kernelspec": {
   "display_name": "Python 3",
   "language": "python",
   "name": "python3"
  },
  "language_info": {
   "codemirror_mode": {
    "name": "ipython",
    "version": 3
   },
   "file_extension": ".py",
   "mimetype": "text/x-python",
   "name": "python",
   "nbconvert_exporter": "python",
   "pygments_lexer": "ipython3",
   "version": "3.7.4"
  }
 },
 "nbformat": 4,
 "nbformat_minor": 2
}
