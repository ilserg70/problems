{
 "cells": [
  {
   "cell_type": "code",
   "execution_count": null,
   "id": "asian-magnitude",
   "metadata": {},
   "outputs": [],
   "source": [
    "# Nuro \n",
    "# Given a 2D array, find a subarray in rectangular shape with maximum sum.\n",
    "# 1 2 -3 => 0\n",
    "# 4 5 -6 => 3\n",
    "# 6 -7 -8 => -9\n",
    "\n",
    "# x * 2\n",
    "# 1 2 => 3\n",
    "# 4 5 => 9\n",
    "# 6 -7 => -1\n",
    "\n",
    "# 2 -3 => 0\n",
    "# 5 -6 => 3\n",
    "# -7 -8 => -9\n",
    "\n",
    "\n",
    "# n * n input array\n",
    "# all int\n",
    "# subarray anywhere\n",
    "\n",
    "# Input is n*n, O(n^4)\n",
    "\n",
    "# [-1, 2, -3, 4, 5, -6, 7, -8]\n",
    "# O(n)\n",
    "\n",
    "# 2 [1:2]\n",
    "# -----\n",
    "# 2\n",
    "# 2-3=-1\n",
    "# -3\n",
    "# 4\n",
    "# 4+5=9\n",
    "# 9-6=3\n",
    "# ()()=10\n",
    "# 9-6+7-8=2\n",
    "\n",
    "def find1DMax(arr):\n",
    "    max_res = 0\n",
    "    max_so_far=0 # 9\n",
    "    for i in range(len(arr)):\n",
    "        if arr[i] + max_so_far > 0:\n",
    "            max_so_far += arr[i]\n",
    "            if max_so_far > max_res:\n",
    "                max_res = max_so_far\n",
    "        else:\n",
    "            max_so_far = 0\n",
    "    \n",
    "    return max_res\n",
    "\n",
    "m = find1DMax([-1, 2, -3, 4, 5, -6, 7, -8])\n",
    "print(m)"
   ]
  }
 ],
 "metadata": {
  "kernelspec": {
   "display_name": "Python 3",
   "language": "python",
   "name": "python3"
  },
  "language_info": {
   "codemirror_mode": {
    "name": "ipython",
    "version": 3
   },
   "file_extension": ".py",
   "mimetype": "text/x-python",
   "name": "python",
   "nbconvert_exporter": "python",
   "pygments_lexer": "ipython3",
   "version": "3.8.5"
  }
 },
 "nbformat": 4,
 "nbformat_minor": 5
}
