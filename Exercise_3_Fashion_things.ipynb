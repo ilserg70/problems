{
 "cells": [
  {
   "cell_type": "markdown",
   "metadata": {},
   "source": [
    "### Fashion things (MNIST dataset)\n",
    "https://github.com/zalandoresearch/fashion-mnist"
   ]
  },
  {
   "cell_type": "code",
   "execution_count": 5,
   "metadata": {},
   "outputs": [],
   "source": [
    "import tensorflow as tf\n",
    "from tensorflow import keras\n",
    "mnist = keras.datasets.fashion_mnist"
   ]
  },
  {
   "cell_type": "code",
   "execution_count": 24,
   "metadata": {},
   "outputs": [],
   "source": [
    "class myCallback(tf.keras.callbacks.Callback):\n",
    "    def __init__(self, minAccuracy=1.0, maxLoss=0.0):\n",
    "        self.minAccuracy = minAccuracy if minAccuracy >= 0.0 and minAccuracy <= 1.0 else 1.0\n",
    "        self.maxLoss = maxLoss if maxLoss >= 0.0 else 0.0\n",
    "        super(myCallback, self).__init__()\n",
    "\n",
    "    def on_epoch_end(self, epoch, logs={}):\n",
    "        acc = logs.get('acc')\n",
    "        loss = logs.get('loss')\n",
    "        if(acc >= self.minAccuracy):\n",
    "            print(\"\\nReached {0:.0%} accuracy so cancelling training!\".format(acc))\n",
    "            self.model.stop_training = True\n",
    "        elif(loss <= self.maxLoss):\n",
    "            print(\"\\nReached {} loss so cancelling training!\".format(loss))\n",
    "            self.model.stop_training = True"
   ]
  },
  {
   "cell_type": "code",
   "execution_count": 25,
   "metadata": {},
   "outputs": [
    {
     "name": "stdout",
     "output_type": "stream",
     "text": [
      "Epoch 1/20\n",
      "60000/60000 [==============================] - 11s 187us/sample - loss: 0.4645 - acc: 0.8322\n",
      "Epoch 2/20\n",
      "59872/60000 [============================>.] - ETA: 0s - loss: 0.3534 - acc: 0.8701\n",
      "Reached 87% accuracy so cancelling training!\n",
      "60000/60000 [==============================] - 11s 184us/sample - loss: 0.3533 - acc: 0.8701\n",
      "10000/10000 [==============================] - 1s 54us/sample - loss: 0.3706 - acc: 0.8625\n",
      "epochs: 2\n"
     ]
    }
   ],
   "source": [
    "(train_images, train_labels) ,  (test_images, test_labels) = mnist.load_data()\n",
    "train_images = train_images/255.0\n",
    "test_images = test_images/255.0\n",
    "\n",
    "model = None # to retrain model\n",
    "model = tf.keras.models.Sequential([\n",
    "    tf.keras.layers.Flatten(),\n",
    "    tf.keras.layers.Dense(512, activation=tf.nn.relu),\n",
    "    tf.keras.layers.Dense(256, activation=tf.nn.relu),\n",
    "    tf.keras.layers.Dense(10, activation=tf.nn.softmax)])\n",
    "model.compile(optimizer = 'adam',\n",
    "              loss = 'sparse_categorical_crossentropy', metrics=['acc']) # 'accuracy','mae','acc'\n",
    "callbacks = myCallback(minAccuracy=0.86)\n",
    "\n",
    "r = model.fit(train_images, train_labels, epochs=20, callbacks=[callbacks])\n",
    "t = model.evaluate(test_images, test_labels)\n",
    "classifications = model.predict(test_images)\n",
    "print(\"epochs: {}\".format(len(r.history['loss'])))"
   ]
  },
  {
   "cell_type": "code",
   "execution_count": 26,
   "metadata": {},
   "outputs": [
    {
     "data": {
      "text/plain": [
       "{'loss': [0.4645393914182981, 0.3533254097521305],\n",
       " 'acc': [0.83225, 0.87011665]}"
      ]
     },
     "execution_count": 26,
     "metadata": {},
     "output_type": "execute_result"
    }
   ],
   "source": [
    "r.history"
   ]
  },
  {
   "cell_type": "code",
   "execution_count": 29,
   "metadata": {},
   "outputs": [
    {
     "name": "stdout",
     "output_type": "stream",
     "text": [
      "0.37057607090473177\n",
      "0.8625\n"
     ]
    }
   ],
   "source": [
    "(loss, acc) = t\n",
    "print(loss)\n",
    "print(acc)"
   ]
  },
  {
   "cell_type": "code",
   "execution_count": null,
   "metadata": {},
   "outputs": [],
   "source": [
    "model.summary()"
   ]
  },
  {
   "cell_type": "code",
   "execution_count": null,
   "metadata": {},
   "outputs": [],
   "source": [
    "(train_images, train_labels) ,  (test_images, test_labels) = mnist.load_data()\n",
    "train_images = train_images.reshape(60000, 28, 28, 1)\n",
    "train_images = train_images/255.0\n",
    "test_images = test_images.reshape(10000, 28, 28, 1)\n",
    "test_images = test_images/255.0\n",
    "\n",
    "model = None # to retrain model\n",
    "model = tf.keras.models.Sequential([\n",
    "    tf.keras.layers.Conv2D(64, (3,3), activation=tf.nn.relu, input_shape=(28, 28, 1)),\n",
    "    tf.keras.layers.MaxPooling2D(2,2),\n",
    "    tf.keras.layers.Conv2D(64, (3,3), activation=tf.nn.relu),\n",
    "    tf.keras.layers.MaxPooling2D(2,2),\n",
    "    tf.keras.layers.Flatten(),\n",
    "    tf.keras.layers.Dense(128, activation=tf.nn.relu),\n",
    "    tf.keras.layers.Dense(10, activation=tf.nn.softmax)])\n",
    "model.compile(optimizer = 'adam',\n",
    "              loss = 'sparse_categorical_crossentropy', metrics=['accuracy'])\n",
    "callbacks = myCallback(minAccuracy=0.9)\n",
    "model.fit(train_images, train_labels, epochs=20, callbacks=[callbacks])\n",
    "model.evaluate(test_images, test_labels)\n",
    "classifications = model.predict(test_images)"
   ]
  },
  {
   "cell_type": "code",
   "execution_count": null,
   "metadata": {},
   "outputs": [],
   "source": []
  }
 ],
 "metadata": {
  "kernelspec": {
   "display_name": "Python 3",
   "language": "python",
   "name": "python3"
  },
  "language_info": {
   "codemirror_mode": {
    "name": "ipython",
    "version": 3
   },
   "file_extension": ".py",
   "mimetype": "text/x-python",
   "name": "python",
   "nbconvert_exporter": "python",
   "pygments_lexer": "ipython3",
   "version": "3.7.2"
  }
 },
 "nbformat": 4,
 "nbformat_minor": 2
}
