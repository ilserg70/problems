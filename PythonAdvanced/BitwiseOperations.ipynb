{
 "cells": [
  {
   "cell_type": "markdown",
   "metadata": {},
   "source": [
    "#### Bitwise Operations\n",
    "~ & | ^ << >>"
   ]
  },
  {
   "cell_type": "code",
   "execution_count": 4,
   "metadata": {},
   "outputs": [
    {
     "name": "stdout",
     "output_type": "stream",
     "text": [
      "-4\n",
      "6\n",
      "12\n"
     ]
    }
   ],
   "source": [
    "x = 3\n",
    "y = 5\n",
    "print(~x)\n",
    "print(x^y)\n",
    "print(x<<2)"
   ]
  },
  {
   "cell_type": "code",
   "execution_count": 18,
   "metadata": {},
   "outputs": [
    {
     "name": "stdout",
     "output_type": "stream",
     "text": [
      "12\n",
      "0b1100\n",
      "0b110\n",
      "-0b10\n",
      "-0b11110001\n",
      "-4\n",
      "127\n",
      "-128\n"
     ]
    }
   ],
   "source": [
    "print(0b1100)\n",
    "print(bin(12))\n",
    "print(bin(0b1010 ^ 0b1100))\n",
    "print(bin(~0b1))\n",
    "print(bin(~0b11110000))\n",
    "print(~3)\n",
    "print(0b01111111)\n",
    "print(~0b01111111)"
   ]
  },
  {
   "cell_type": "code",
   "execution_count": 20,
   "metadata": {},
   "outputs": [
    {
     "name": "stdout",
     "output_type": "stream",
     "text": [
      "6\n",
      "8\n"
     ]
    }
   ],
   "source": [
    "print(int(32).bit_length())\n",
    "print(int(240).bit_length())"
   ]
  },
  {
   "cell_type": "code",
   "execution_count": 29,
   "metadata": {},
   "outputs": [
    {
     "name": "stdout",
     "output_type": "stream",
     "text": [
      "b'\\xca\\xfe\\xba\\xbe'\n",
      "b'\\xbe\\xba\\xfe\\xca'\n",
      "little\n",
      "3405691582\n",
      "0xcafebabe\n"
     ]
    }
   ],
   "source": [
    "print(int(0xcafebabe).to_bytes(length=4, byteorder='big'))\n",
    "print(int(0xcafebabe).to_bytes(length=4, byteorder='little'))\n",
    "import sys\n",
    "print(sys.byteorder)\n",
    "little_cafebabe = int(0xcafebabe).to_bytes(length=4, byteorder=sys.byteorder)\n",
    "v = int.from_bytes(little_cafebabe, byteorder=sys.byteorder)\n",
    "print(v)\n",
    "print(hex(v))"
   ]
  },
  {
   "cell_type": "code",
   "execution_count": 32,
   "metadata": {},
   "outputs": [
    {
     "name": "stdout",
     "output_type": "stream",
     "text": [
      "b'\\x10\\xff'\n",
      "0b1111\n"
     ]
    }
   ],
   "source": [
    "print(int(-240).to_bytes(2, byteorder='little', signed=True))\n",
    "print(bin((~0b11110000).to_bytes(2, byteorder='little', signed=True)[0]))"
   ]
  },
  {
   "cell_type": "code",
   "execution_count": 33,
   "metadata": {},
   "outputs": [
    {
     "name": "stdout",
     "output_type": "stream",
     "text": [
      "b'ABCDEFGHIJKLMNOPQRSTUVWXYZ'\n"
     ]
    }
   ],
   "source": [
    "print(bytes(range(65,65+26)))"
   ]
  },
  {
   "cell_type": "code",
   "execution_count": 47,
   "metadata": {},
   "outputs": [
    {
     "name": "stdout",
     "output_type": "stream",
     "text": [
      "bytearray(b'')\n",
      "bytearray(b'\\x00\\x00\\x00\\x00\\x00')\n",
      "bytearray(b'Hellow world')\n"
     ]
    }
   ],
   "source": [
    "print(bytearray())\n",
    "print(bytearray(5))\n",
    "print(bytearray(b'Hellow world'))"
   ]
  },
  {
   "cell_type": "code",
   "execution_count": null,
   "metadata": {},
   "outputs": [],
   "source": []
  }
 ],
 "metadata": {
  "kernelspec": {
   "display_name": "Python 3",
   "language": "python",
   "name": "python3"
  },
  "language_info": {
   "codemirror_mode": {
    "name": "ipython",
    "version": 3
   },
   "file_extension": ".py",
   "mimetype": "text/x-python",
   "name": "python",
   "nbconvert_exporter": "python",
   "pygments_lexer": "ipython3",
   "version": "3.7.3"
  }
 },
 "nbformat": 4,
 "nbformat_minor": 2
}
